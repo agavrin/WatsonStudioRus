{
    "nbformat_minor": 1, 
    "cells": [
        {
            "source": "<img src=\"https://github.com/pmservice/ai-openscale-tutorials/raw/master/notebooks/images/banner.png\" align=\"left\" alt=\"banner\">", 
            "cell_type": "markdown", 
            "metadata": {}
        }, 
        {
            "source": "# \u0420\u0430\u0431\u043e\u0442\u0430 \u0441 Watson Machine Learning", 
            "cell_type": "markdown", 
            "metadata": {}
        }, 
        {
            "source": "This notebook should be run in a Watson Studio project, using with **Python 3.5 with Spark** runtime environment. **If you are viewing this in Watson Studio and do not see Python 3.5 with Spark in the upper right corner of your screen, please update the runtime now.** It requires service credentials for the following Cloud services:\n  * Watson OpenScale\n  * Watson Machine Learning\n  \nIf you have a paid Cloud account, you may also provision a **Databases for PostgreSQL** or **Db2 Warehouse** service to take full advantage of integration with Watson Studio and continuous learning services. If you choose not to provision this paid service, you can use the free internal PostgreSQL storage with OpenScale, but will not be able to configure continuous learning for your model.\n\nThe notebook will train, create and deploy a German Credit Risk model, configure OpenScale to monitor that deployment, and inject seven days' worth of historical records and measurements for viewing in the OpenScale Insights dashboard.", 
            "cell_type": "markdown", 
            "metadata": {}
        }, 
        {
            "source": "### \u0421\u043e\u0434\u0435\u0440\u0436\u0430\u043d\u0438\u0435\n\n- [\u041a\u043e\u043d\u0444\u0438\u0433\u0443\u0440\u0430\u0446\u0438\u044f](#setup)\n- [\u0420\u0430\u0437\u0432\u0435\u0440\u0442\u044b\u0432\u0430\u043d\u0438\u0435 \u043c\u043e\u0434\u0435\u043b\u0438](#model)\n- [\u041a\u043e\u043d\u0444\u0438\u0433\u0443\u0440\u0430\u0446\u0438\u044f OpenScale](#openscale)\n- [Quality monitor and feedback logging](#quality)\n- [Fairness monitoring and explanations](#fairness)\n- [Custom monitors and metrics](#custom)\n- [Payload analytics](#analytics)\n- [Historical data](#historical)", 
            "cell_type": "markdown", 
            "metadata": {}
        }, 
        {
            "source": "## \u041a\u043e\u043d\u0444\u0438\u0433\u0443\u0440\u0430\u0446\u0438\u044f <a name=\"setup\"></a>", 
            "cell_type": "markdown", 
            "metadata": {
                "collapsed": true
            }
        }, 
        {
            "source": "## \u0423\u0441\u0442\u0430\u043d\u043e\u0432\u043a\u0430 \u043f\u0430\u043a\u0435\u0442\u043e\u0432", 
            "cell_type": "markdown", 
            "metadata": {
                "collapsed": true
            }
        }, 
        {
            "source": "!rm -rf /home/spark/shared/user-libs/python3/*\n!pip install --upgrade tensorflow-tensorboard==0.1.8 --no-cache | tail -n 1\n!pip install --upgrade py4j==0.10.6 --no-cache | tail -n 1\n!pip install --upgrade lomond | tail -n 1\n\n\n!pip install --upgrade ibm-ai-openscale --no-cache | tail -n 1\n!pip install --upgrade numpy --no-cache | tail -n 1\n!pip install --upgrade lime --no-cache | tail -n 1\n!pip install --upgrade SciPy --no-cache | tail -n 1\n!pip install pixiedust | tail -n 1", 
            "cell_type": "code", 
            "metadata": {}, 
            "outputs": [
                {
                    "output_type": "stream", 
                    "name": "stdout", 
                    "text": "\u001b[31mpyspark 2.3.0 requires py4j==0.10.6, which is not installed.\u001b[0m\nSuccessfully installed bleach-1.5.0 html5lib-0.9999999 markdown-3.1 numpy-1.16.3 protobuf-3.7.1 setuptools-41.0.1 six-1.12.0 tensorflow-tensorboard-0.1.8 werkzeug-0.15.2 wheel-0.33.1\nSuccessfully installed py4j-0.10.6\nSuccessfully installed lomond-0.3.3 six-1.12.0\nSuccessfully installed certifi-2019.3.9 chardet-3.0.4 docutils-0.14 h5py-2.9.0 ibm-ai-openscale-2.1.6 ibm-cos-sdk-2.4.4 ibm-cos-sdk-core-2.4.4 ibm-cos-sdk-s3transfer-2.4.4 idna-2.8 jmespath-0.9.4 lomond-0.3.3 numpy-1.16.3 pandas-0.24.2 psycopg2-2.7.7 python-dateutil-2.8.0 pytz-2019.1 requests-2.21.0 six-1.12.0 tabulate-0.8.3 tqdm-4.31.1 urllib3-1.24.3 watson-machine-learning-client-1.0.365\nSuccessfully installed numpy-1.16.3\nSuccessfully installed PyWavelets-1.0.3 cycler-0.10.0 decorator-4.4.0 imageio-2.5.0 lime-0.1.1.33 matplotlib-2.1.0 networkx-2.3 numpy-1.16.3 pillow-6.0.0 pyparsing-2.4.0 python-dateutil-2.8.0 pytz-2019.1 scikit-image-0.15.0 scikit-learn-0.20.3 scipy-1.2.1 six-1.12.0\nSuccessfully installed SciPy-1.2.1 numpy-1.16.3\n\u001b[33mTarget directory /home/spark/shared/user-libs/python3/easy_install.py already exists. Specify --upgrade to force replacement.\u001b[0m\n\u001b[33mTarget directory /home/spark/shared/user-libs/python3/certifi already exists. Specify --upgrade to force replacement.\u001b[0m\n\u001b[33mTarget directory /home/spark/shared/user-libs/python3/markdown already exists. Specify --upgrade to force replacement.\u001b[0m\n\u001b[33mTarget directory /home/spark/shared/user-libs/python3/certifi-2019.3.9.dist-info already exists. Specify --upgrade to force replacement.\u001b[0m\n\u001b[33mTarget directory /home/spark/shared/user-libs/python3/requests-2.21.0.dist-info already exists. Specify --upgrade to force replacement.\u001b[0m\n\u001b[33mTarget directory /home/spark/shared/user-libs/python3/six-1.12.0.dist-info already exists. Specify --upgrade to force replacement.\u001b[0m\n\u001b[33mTarget directory /home/spark/shared/user-libs/python3/requests already exists. Specify --upgrade to force replacement.\u001b[0m\n\u001b[33mTarget directory /home/spark/shared/user-libs/python3/chardet already exists. Specify --upgrade to force replacement.\u001b[0m\n\u001b[33mTarget directory /home/spark/shared/user-libs/python3/urllib3-1.24.3.dist-info already exists. Specify --upgrade to force replacement.\u001b[0m\n\u001b[33mTarget directory /home/spark/shared/user-libs/python3/setuptools-41.0.1.dist-info already exists. Specify --upgrade to force replacement.\u001b[0m\n\u001b[33mTarget directory /home/spark/shared/user-libs/python3/.DS_Store already exists. Specify --upgrade to force replacement.\u001b[0m\n\u001b[33mTarget directory /home/spark/shared/user-libs/python3/chardet-3.0.4.dist-info already exists. Specify --upgrade to force replacement.\u001b[0m\n\u001b[33mTarget directory /home/spark/shared/user-libs/python3/setuptools already exists. Specify --upgrade to force replacement.\u001b[0m\n\u001b[33mTarget directory /home/spark/shared/user-libs/python3/urllib3 already exists. Specify --upgrade to force replacement.\u001b[0m\n\u001b[33mTarget directory /home/spark/shared/user-libs/python3/__pycache__ already exists. Specify --upgrade to force replacement.\u001b[0m\n\u001b[33mTarget directory /home/spark/shared/user-libs/python3/pkg_resources already exists. Specify --upgrade to force replacement.\u001b[0m\n\u001b[33mTarget directory /home/spark/shared/user-libs/python3/idna-2.8.dist-info already exists. Specify --upgrade to force replacement.\u001b[0m\n\u001b[33mTarget directory /home/spark/shared/user-libs/python3/wheel-0.33.1.dist-info already exists. Specify --upgrade to force replacement.\u001b[0m\n\u001b[33mTarget directory /home/spark/shared/user-libs/python3/wheel already exists. Specify --upgrade to force replacement.\u001b[0m\n\u001b[33mTarget directory /home/spark/shared/user-libs/python3/Markdown-3.1.dist-info already exists. Specify --upgrade to force replacement.\u001b[0m\n\u001b[33mTarget directory /home/spark/shared/user-libs/python3/idna already exists. Specify --upgrade to force replacement.\u001b[0m\n\u001b[33mTarget directory /home/spark/shared/user-libs/python3/six.py already exists. Specify --upgrade to force replacement.\u001b[0m\n\u001b[33mTarget directory /home/spark/shared/user-libs/python3/bin already exists. Specify --upgrade to force replacement.\u001b[0m\nSuccessfully installed astunparse-1.6.2 certifi-2019.3.9 chardet-3.0.4 colour-0.1.5 geojson-2.4.1 idna-2.8 lxml-4.3.3 markdown-3.1 mpld3-0.3 pixiedust-1.1.15 requests-2.21.0 setuptools-41.0.1 six-1.12.0 urllib3-1.24.3 wheel-0.33.1\n"
                }
            ], 
            "execution_count": 2
        }, 
        {
            "source": "## Provision services and configure credentials", 
            "cell_type": "markdown", 
            "metadata": {}
        }, 
        {
            "source": "If you have not already, provision an instance of IBM Watson OpenScale using the [OpenScale link in the Cloud catalog](https://cloud.ibm.com/catalog/services/watson-openscale).", 
            "cell_type": "markdown", 
            "metadata": {}
        }, 
        {
            "source": "Your Cloud API key can be generated by going to the [**Users** section of the Cloud console](https://cloud.ibm.com/iam#/users). From that page, click your name, scroll down to the **API Keys** section, and click **Create an IBM Cloud API key**. Give your key a name and click **Create**, then copy the created key and paste it below.", 
            "cell_type": "markdown", 
            "metadata": {}
        }, 
        {
            "source": "**NOTE:** You can also get OpenScale `API_KEY` using IBM CLOUD CLI.\n\nHow to install IBM Cloud (bluemix) console: [instruction](https://console.bluemix.net/docs/cli/reference/ibmcloud/download_cli.html#install_use)\n\nHow to get api key using console:\n```\nbx login --sso\nbx iam api-key-create 'my_key'\n```", 
            "cell_type": "markdown", 
            "metadata": {}
        }, 
        {
            "source": "CLOUD_API_KEY = \"xPcvJNQVG3OdbS_oHcc5f7Q2pQzpe8sk-8VGQh-pmIQZ\"", 
            "cell_type": "code", 
            "metadata": {}, 
            "outputs": [], 
            "execution_count": 3
        }, 
        {
            "source": "Next you will need credentials for Watson Machine Learning. If you already have a WML instance, you may use credentials for it. To provision a new Lite instance of WML, use the [Cloud catalog](https://cloud.ibm.com/catalog/services/machine-learning), give your service a name, and click **Create**. Once your instance is created, click the **Service Credentials** link on the left side of the screen. Click the **New credential** button, give your credentials a name, and click **Add**. Your new credentials can be accessed by clicking the **View credentials** button. Copy and paste your WML credentials into the cell below.", 
            "cell_type": "markdown", 
            "metadata": {}
        }, 
        {
            "source": "WML_CREDENTIALS = {\n  \"apikey\": \"Kj5QsLV4urjaupgmpJAwqK2EWr9AQoreGhM_dgM5T_yY\",\n  \"iam_apikey_description\": \"Auto-generated for key 2b450fa6-ca89-4ab2-ae60-09056d0515a2\",\n  \"iam_apikey_name\": \"Service credentials-1\",\n  \"iam_role_crn\": \"crn:v1:bluemix:public:iam::::serviceRole:Manager\",\n  \"iam_serviceid_crn\": \"crn:v1:bluemix:public:iam-identity::a/5df154f09f2e4e0a961f9fa1558f4467::serviceid:ServiceId-7af030b2-72e6-49aa-97a2-588c7727cf43\",\n  \"instance_id\": \"ee8258ef-7433-404e-bca4-2edd63b51831\",\n  \"password\": \"923e4146-3581-4d0d-9539-67861e0c4b46\",\n  \"url\": \"https://us-south.ml.cloud.ibm.com\",\n  \"username\": \"2b450fa6-ca89-4ab2-ae60-09056d0515a2\"\n}", 
            "cell_type": "code", 
            "metadata": {}, 
            "outputs": [], 
            "execution_count": 5
        }, 
        {
            "source": "This tutorial can use Databases for PostgreSQL, Db2 Warehouse, or a free internal verison of PostgreSQL to create a datamart for OpenScale.\n\nIf you have previously configured OpenScale, it will use your existing datamart, and not interfere with any models you are currently monitoring. Do not update the cell below.\n\nIf you do not have a paid Cloud account or would prefer not to provision this paid service, you may use the free internal PostgreSQL service with OpenScale. Do not update the cell below.\n\nTo provision a new instance of Db2 Warehouse, locate [Db2 Warehouse in the Cloud catalog](https://cloud.ibm.com/catalog/services/db2-warehouse), give your service a name, and click **Create**. Once your instance is created, click the **Service Credentials** link on the left side of the screen. Click the **New credential** button, give your credentials a name, and click **Add**. Your new credentials can be accessed by clicking the **View credentials** button. Copy and paste your Db2 Warehouse credentials into the cell below.\n\nTo provision a new instance of Databases for PostgreSQL, locate [Databases for PostgreSQL in the Cloud catalog](https://cloud.ibm.com/catalog/services/databases-for-postgresql), give your service a name, and click **Create**. Once your instance is created, click the **Service Credentials** link on the left side of the screen. Click the **New credential** button, give your credentials a name, and click **Add**. Your new credentials can be accessed by clicking the **View credentials** button. Copy and paste your Databases for PostgreSQL credentials into the cell below.", 
            "cell_type": "markdown", 
            "metadata": {}
        }, 
        {
            "source": "DB_CREDENTIALS = None", 
            "cell_type": "code", 
            "metadata": {}, 
            "outputs": [], 
            "execution_count": 6
        }, 
        {
            "source": "__If you previously configured OpenScale to use the free internal version of PostgreSQL, you can switch to a new datamart using a paid database service.__ If you would like to delete the internal PostgreSQL configuration and create a new one using service credentials supplied in the cell above, set the __KEEP_MY_INTERNAL_POSTGRES__ variable below to __False__ below. In this case, the notebook will remove your existing internal PostgreSQL datamart and create a new one with the supplied credentials. __*NO DATA MIGRATION WILL OCCUR.*__", 
            "cell_type": "markdown", 
            "metadata": {}
        }, 
        {
            "source": "KEEP_MY_INTERNAL_POSTGRES = True", 
            "cell_type": "code", 
            "metadata": {}, 
            "outputs": [], 
            "execution_count": 7
        }, 
        {
            "source": "## Run the notebook\n\nAt this point, the notebook is ready to run. You can either run the cells one at a time, or click the **Kernel** option above and select **Restart and Run All** to run all the cells.", 
            "cell_type": "markdown", 
            "metadata": {}
        }, 
        {
            "source": "# Model building and deployment <a name=\"model\"></a>", 
            "cell_type": "markdown", 
            "metadata": {}
        }, 
        {
            "source": "In this section you will learn how to train Spark MLLib model and next deploy it as web-service using Watson Machine Learning service.", 
            "cell_type": "markdown", 
            "metadata": {}
        }, 
        {
            "source": "## Load the training data from github", 
            "cell_type": "markdown", 
            "metadata": {}
        }, 
        {
            "source": "!rm german_credit_data_biased_training.csv\n!wget https://raw.githubusercontent.com/agavrin/WatsonStudioRus/master/data/german_credit_data_biased_training.csv", 
            "cell_type": "code", 
            "metadata": {}, 
            "outputs": [
                {
                    "output_type": "stream", 
                    "name": "stdout", 
                    "text": "rm: cannot remove 'german_credit_data_biased_training.csv': No such file or directory\n--2019-05-08 13:50:13--  https://raw.githubusercontent.com/agavrin/WatsonStudioRus/master/data/german_credit_data_biased_training.csv\nResolving raw.githubusercontent.com (raw.githubusercontent.com)... 151.101.16.133\nConnecting to raw.githubusercontent.com (raw.githubusercontent.com)|151.101.16.133|:443... connected.\nHTTP request sent, awaiting response... 200 OK\nLength: 689622 (673K) [text/plain]\nSaving to: 'german_credit_data_biased_training.csv'\n\ngerman_credit_data_ 100%[===================>] 673.46K  --.-KB/s    in 0.03s   \n\n2019-05-08 13:50:13 (20.2 MB/s) - 'german_credit_data_biased_training.csv' saved [689622/689622]\n\n"
                }
            ], 
            "execution_count": 8
        }, 
        {
            "source": "from pyspark.sql import SparkSession\nimport pandas as pd\nimport json\n\nspark = SparkSession.builder.getOrCreate()\npd_data = pd.read_csv(\"german_credit_data_biased_training.csv\", sep=\",\", header=0)\ndf_data = spark.read.csv(path=\"german_credit_data_biased_training.csv\", sep=\",\", header=True, inferSchema=True)\ndf_data.head()", 
            "cell_type": "code", 
            "metadata": {}, 
            "outputs": [
                {
                    "output_type": "execute_result", 
                    "data": {
                        "text/plain": "Row(CheckingStatus='0_to_200', LoanDuration=31, CreditHistory='credits_paid_to_date', LoanPurpose='other', LoanAmount=1889, ExistingSavings='100_to_500', EmploymentDuration='less_1', InstallmentPercent=3, Sex='female', OthersOnLoan='none', CurrentResidenceDuration=3, OwnsProperty='savings_insurance', Age=32, InstallmentPlans='none', Housing='own', ExistingCreditsCount=1, Job='skilled', Dependents=1, Telephone='none', ForeignWorker='yes', Risk='No Risk')"
                    }, 
                    "execution_count": 11, 
                    "metadata": {}
                }
            ], 
            "execution_count": 11
        }, 
        {
            "source": "## Explore data", 
            "cell_type": "markdown", 
            "metadata": {}
        }, 
        {
            "source": "df_data.printSchema()", 
            "cell_type": "code", 
            "metadata": {}, 
            "outputs": [
                {
                    "output_type": "stream", 
                    "name": "stdout", 
                    "text": "root\n |-- CheckingStatus: string (nullable = true)\n |-- LoanDuration: integer (nullable = true)\n |-- CreditHistory: string (nullable = true)\n |-- LoanPurpose: string (nullable = true)\n |-- LoanAmount: integer (nullable = true)\n |-- ExistingSavings: string (nullable = true)\n |-- EmploymentDuration: string (nullable = true)\n |-- InstallmentPercent: integer (nullable = true)\n |-- Sex: string (nullable = true)\n |-- OthersOnLoan: string (nullable = true)\n |-- CurrentResidenceDuration: integer (nullable = true)\n |-- OwnsProperty: string (nullable = true)\n |-- Age: integer (nullable = true)\n |-- InstallmentPlans: string (nullable = true)\n |-- Housing: string (nullable = true)\n |-- ExistingCreditsCount: integer (nullable = true)\n |-- Job: string (nullable = true)\n |-- Dependents: integer (nullable = true)\n |-- Telephone: string (nullable = true)\n |-- ForeignWorker: string (nullable = true)\n |-- Risk: string (nullable = true)\n\n"
                }
            ], 
            "execution_count": 12
        }, 
        {
            "source": "print(\"Number of records: \" + str(df_data.count()))", 
            "cell_type": "code", 
            "metadata": {}, 
            "outputs": [
                {
                    "output_type": "stream", 
                    "name": "stdout", 
                    "text": "Number of records: 5000\n"
                }
            ], 
            "execution_count": 13
        }, 
        {
            "source": "## \u0412\u0438\u0437\u0443\u0430\u043b\u0438\u0437\u0430\u0446\u0438\u044f \u0434\u0430\u043d\u043d\u044b\u0445 \u0441 \u0438\u0441\u043f\u043e\u043b\u044c\u0437\u043e\u0432\u0430\u043d\u0438\u0435\u043c pixiedust", 
            "cell_type": "markdown", 
            "metadata": {}
        }, 
        {
            "source": "import pixiedust", 
            "cell_type": "code", 
            "metadata": {}, 
            "outputs": [], 
            "execution_count": 15
        }, 
        {
            "source": "display(df_data)", 
            "cell_type": "code", 
            "metadata": {
                "pixiedust": {
                    "displayParams": {
                        "handlerId": "pieChart", 
                        "keyFields": "Risk", 
                        "rendererId": "bokeh", 
                        "chartsize": "50", 
                        "mpld3": "false", 
                        "aggregation": "COUNT"
                    }
                }
            }, 
            "outputs": [
                {
                    "output_type": "display_data", 
                    "data": {
                        "text/plain": "<IPython.core.display.HTML object>", 
                        "text/html": "<style type=\"text/css\">.pd_warning{display:none;}</style><div class=\"pd_warning\"><em>Hey, there's something awesome here! To see it, open this notebook outside GitHub, in a viewer like Jupyter</em></div>\n        <div class=\"pd_save is-viewer-good\" style=\"padding-right:10px;text-align: center;line-height:initial !important;font-size: xx-large;font-weight: 500;color: coral;\">\n            \n        </div>\n    <div id=\"chartFigure22f1469f\" class=\"pd_save is-viewer-good\" style=\"overflow-x:auto\">\n            \n                    \n                            <center><img style=\"max-width:initial !important\" src=\"data:image/png;base64,iVBORw0KGgoAAAANSUhEUgAAAUkAAAFTCAYAAAC0x/5VAAAABHNCSVQICAgIfAhkiAAAAAlwSFlzAAAOwwAADsMBx2+oZAAAADl0RVh0U29mdHdhcmUAbWF0cGxvdGxpYiB2ZXJzaW9uIDIuMS4wLCBodHRwOi8vbWF0cGxvdGxpYi5vcmcvpW3flQAAIABJREFUeJzt3Xl8U1X+P/7XTdIkTZMu6V7asgmyKTsioCCLKKgwI6ifURYZB3GZD6M4OjI/EQFnBof5uYx+PuqoA+LgIHxkBlFAQUCRfV9lK3SBtnRL27RJs9z7/aPSsbZNtyT3Jvf1fDwYneSavG/SvjjnnnPPESRJkkBERI3SyF0AEZGSMSSJiHzQyV1AKBNFES6XC7xiQeFKEATo9XpoNOptTzEk20CSJOTl5eHq1atyl0IUFElJSUhPT4cgCHKXEnQMyTa4FpAZGRkwm82q/MEhdZAkCXa7Hbm5uZAkCZmZmXKXFHQMyVYSRbEuIJOSkuQuhyjgTCYTACA3Nxf5+fkYMmSIqhoG6r3Q0EYulwsAYDabZa6EKHiu/bzv378fe/bskbma4GJIttK1QRo1/U1KdO3nPTIyEocPH4bH45G5ouBhSBJRixmNRrjdbjgcDrlLCRpek/STTr/7PGjvdelPE/36enPmzIHH48F7773X7LGCIOCrr77C2LFj/VpDa/393JWgvdfD3dKC9l7tkZOTg169euHYsWPo0qWLz2MXLlyILVu2YOfOnUGqLnSxJakCo0aNgl6vh9lsRnR0NHr37o133nmn7vm33367RQFJzRs1ahQEQcBnn31W7/GHHnoIM2fObPPrbt++HYIgwGw2w2w2IyUlBVOmTEF2dnbdMZmZmbDb7c0GJLUOQ1Ilnn32WdjtdthsNrz44ot47LHHsGPHDrnLCksJCQmYN29e3SCfP9lsNtjtdhw9ehRFRUXtCl5qGYakymg0Gtx3332wWq3Yv38/AGDmzJl46KGHANQOTC1YsADp6emwWCxIT0/H/PnzG32tqqoqTJ48GWPHjoXNZgvaOSjdzJkzIYoi3njjjSaPsdlsmD17NtLT05GQkIA777wTZ86cafF7JCcnY+rUqXXfIQBcunQJgiDg/PnzAICjR49i5MiRiI2NRVxcHAYOHNjke3zxxRdISUnBmjVrWlyDWjAkVcbj8WDVqlUoKSlBz549Gzy/ZcsWfPDBB9i1axcqKytx7Ngx3H333Q2Oy83NxfDhw5GcnIxNmzYhNjY2GOWHBIPBgGXLlmHx4sVN3pU1bdo0nDt3DgcOHEBOTg6uv/56jB07Fna7vUXvceXKFaxevbrR7/Caxx9/HGPGjEFxcTGKiorw/vvvN/o9vfbaa5g9ezbWr1+PqVOntuwkVYQhqRLLli1DbGwsjEYjpk+fjqVLl2LixIYDQHq9Hk6nEydPnoTD4YDVasXNN99c75i9e/di6NChmD59Ot555x3odBz/+6nJkydj0KBBjbbC8/PzsWHDBrz22mtISUmByWTCn//8ZzgcDmzYsMHn6yYkJMBsNqNDhw6oqqrCqlWrmjxWr9cjJycH2dnZ0Ol06NevH5KTk+ued7vdmD17dt1fikOGDGn7CYcxhqRKPPPMM7DZbCgrK8PMmTPx5ZdfNjrXbeTIkXjllVfwpz/9CcnJybj11lvx1Vdf1TvmzTffREpKCubMmROs8kPS66+/jpUrV+Lw4cP1Hs/NzQUAdO3ate6xiIgIdOzYETk5OT5fs7i4GJWVldi5cyfy8/ORlZXV5LHLly+HIAgYPXo00tPT8Zvf/KZeS/X8+fNYvnw5fv/736vydsOWYkiqjMViwVtvvYWsrCy89dZbjR4za9Ys7NixA0VFRZg8eTLuvvtuVFZW1j3/7rvvIi0tDbfffjuvRfrQp08fPPLII5g7d269xzMyMgAAFy5cqHvM4/EgJyenRWElCAKGDx+ORYsW4Ze//CWqq6sbPa5jx47429/+huzsbGzfvh1fffUV/vjHP9Y937NnT3z22WeYM2eOzxap2jEkVchgMGDBggVYvHgxysvL6z23b98+fPPNN3A4HNDr9bBYLBAEAVqttu6YyMhIrFu3Dl26dMHIkSNRUFAQ7FMIGYsWLcKJEyewefPmusdSU1MxYcIEzJs3D4WFhXA4HHjuueeg1+sbvQTSlIcffhiRkZF49dVXG31++fLlyMvLgyRJiI6Ohk6na3BpZPz48di4cSPmzp2LN998s20nGeZ4MclP/D3BO9CmTZuGP/7xj1i6dGm9x+12O5599lmcOXMGGo0G3bt3x7p16+oWObhGp9NhxYoVmDdvHoYPH44vv/yyXvcx0EJlgnd8fDwWLlzYoDW5cuVKPPvssxgwYACcTicGDx6MLVu2wGKxtPi1dTodFixYgCeffBKPPvpog+e3bduG+fPno7y8HNHR0Zg0aRKee+65BscNHToU27dvx/jx41FcXIyFCxe2+jzDmcA9blrH4XDg1KlT6NWrFyIjI+Uuhygorv3cf//99yguLsasWbNaFeihjN1tIiIfGJJERD4wJImIfGBIEhH5wJBspWuLj3K8i9Tk2s+7Gn/uGZKtpNfrAaDF99gShYNrP++BWNlI6ThPspU0Gg2SkpLqbi3jbokUzn68W2JpaSlEUZS7pKBjSLZBeno6gP/cg0sU7kpLS1FUVITq6moYDIYGNxeEM4ZkGwiCgIyMDHg8HmzduhU1NTUwGo1sUVLYkSQJLpcLoiiipqYGoijilltuqXebarjjHTftdPHiRRw6dAg2m02VF7VJPcxmM3r27Ikbb7xRVQ0ChiQRkQ8c3SYi8oEhSUTkA0OSiMgHhiQRkQ8MSSIiHxiSREQ+MCSJiHxgSBIR+cCQJCLygSFJROQDQ5KIyAeGJBGRDwxJIiIfGJJERD4wJImIfGBIEhH5wJAkIvKBIUlE5ANDkojIB4YkEZEPDEkiIh8YkkREPjAkiYh8YEgSEfnAkCQi8oEhSUTkA0OSiMgHhiQRkQ8MSSIiHxiSREQ+MCSJiHxgSBIR+cCQJCLygSFJROQDQ5KIyAeGJBGRDwxJIiIfdHIXQPRTNR4vyqvdqHC64fJI8IoSPKIIUap9XiMAGkGAViPAYtTBYoxAtFEHnZZ/518zZ84ceDwevPfee80eKwgCvvrqK4wdOzYIlYUehiQFTWmVCzml1cgprUZuaTXyyqpRVFmDcoe73h+nW2zT65v0WkQbI2Ax6hAdGQFrlB4dYiORHheJ9DgT0uMikRFnQowpws9nFnyjRo3Crl27oNfrodFokJGRgf/+7//Go48+CgB4++23Za4wfDAkye8u2xw4cbkcJy6X42xhJbJLqpFX5oC9xhPQ9612eVHt8qKgwvdxFqMO6XEmdE2MQu+0GPROi0bvtGjEmw0Brc/fnn32WSxZsgSiKGLt2rV44IEH0KNHD4wcOVLu0sIKQ5La5bLNgWO5Nhy/XI7jl8tx6koFSqpccpflU6XTg9P5FTidX4ENx/LrHk+JNtYFZu8OMRjcyQprlF7GSltGo9Hgvvvuw+OPP479+/dj5MiRmDlzJjweDz766CNIkoQXX3wRH3zwAcrLyxETE4Pp06fjD3/4Q4PXqqqqwoMPPgi73Y61a9ciNjZWhjNSFoYktUpZlQvfXSjGd+eLsfN8MXJLHXKX5DcFFU4UVDix9furAABBAHqkRGNY13gM6xqPm7rEw2xQ3q+Mx+PBJ598gpKSEvTs2bPB81u2bMEHH3yAXbt2ITMzE6WlpThz5kyD43Jzc3H33Xfjpptuwtq1a6HTKe9c5cBPgXyq8XixN6u0LhRP5VdAkuSuKjgkCXUtzvd3XoROI6BPhxgM6xqPkd0TMbiTFRqNIFt9y5Ytw5tvvgm73Q4AWLp0KSZOnNjgOL1eD6fTiZMnTyIxMRFWqxU333xzvWP27t2LGTNmYN68eXj66aeDUn+oECRJLT/y1FI1Hi92nCnC58fzsfX01YBfSwxVCWYDxvdOxoQbUjG0Szy0QQzMUaNGYcSIEViyZAkqKyvx1FNP4dKlS9i0aRN0Ol297jYAfPDBB1ixYgUOHz6Mfv364YUXXsC4ceMA1I5up6SkIC0tDd9++y1MJlPQziMUcM4EAagNxq9OFeI3/zyMQYu3YPbKg/j3kSsMSB+K7TX4x94cPPjeXgx+eQt+93/HsONsETzeto3Ot5XFYsFbb72FrKwsvPXWW40eM2vWLOzYsQNFRUWYPHky7r77blRWVtY9/+677yItLQ233347bDZbsEoPCexuq9zB7DJ8vC8Hm08UoJKB2GalVS78c38u/rk/F9YoPX7evwP+66ZMdE00B+X9DQYDFixYgGeeeQYzZ86s99y+ffvgdDoxePBgGI1GWCwWCIIArVZbd0xkZCTWrVuHWbNmYeTIkdi8eTNSUlKCUrvSsSWpQlU1Hny0JxsTXv8W9/7vLqw9mMeA9KPSKhfe23kRY/6yA/e/sxv/PnIZNR5vwN932rRpiI+Px9KlS+s9brfb8fTTTyMpKQmxsbF49913sW7dugbdap1OhxUrVmDMmDEYPnw4Lly4EPCaQwGvSarI6fwKfLQnm91oGVij9Lh3QAf815BMdAlS65L8gyGpAltOFeLtHRdwILtM7lJUTxCAMT2S8cRtXdE/M07ucqgFGJJhSpIkbDxRgDe/Po9T+c3cgkKyGNY1Hk/cdh2GX5cgdynkA0MyzHhFCeuPXsb/bLuAc1ftcpdDLdAvIxaPj+qKcb2SIQjyzbukxjEkw4RXlPB/B/Pw1vbzyC6plrscaoPrky2Yd3t33N6bo8pKwpAMA9u+v4o/bjyNs4VsOYaDIZ2seH5CD16zVAiGZAgrrXFj/ppj2HSiQO5SKAAm3piK5+/sgfQ43gEjJ4ZkCHJ6RRwqqcDZ8mp47G4sWX1C7pIoQAw6DWbf2gWPjeoKk573fsiBIRlCJEnCmYpqHCyugOuHZboFAJ9ty8bBrFJ5i6OASo0xYsnkPhjTM1nuUlSHIRkiKlwefHfVhgJHw7UaTRDw3PuHZKiKgu2evmlYeE/vkFjnMlwwJBVOkiScslXhUEklPD6+qqwLNqzcfjGIlZFcrFF6LLirFyb37yB3KarAkFQwm8uNnYU2FDndzR5r0Ah45R/HYatu/lgKD6N7JOHln/VBakyk3KWENYakAkmShONldhwprYS3Fd+Op9KNlz/hII6aWAw6LLynN+4dmC53KWGLIakwDo8XOwrKkN/ItcfmaAD86+uLOHyR6wGqzb0D0rF4cm+OgAcAQ1JB8qtrsKOgDI52LNrKQRz1ui7JjLd+MQDXp1jkLiWsMCQVQJIkHC2z40hJJfzxZVw4V4aPvrnkh1eiUGOM0GDh3b3xwJBMuUsJG1x0V2ZOjxdfXinFYT8FJAD0vt6KGBO7XWrkdIv43afHMfefh1HFNUP9gi1JGRU5Xfg6vxTVHv/vieKudOMPHMRRteuTLXh/5iDe1thObEnKJNvuwKa8koAEJAAYLBHo14kby6vZmcJKTH5rF47kciCvPRiSMjhRZse2/DKfk8PbSwTwwJguAXt9Cg3F9ho88O5ufH4sX+5SQhZDMohEScLuqzbsL67w2/VHXxyQ8ItbOgXhnUjJnG4RT358CG9tOy93KSGJIRkkblHE1iul+L48uAvi3tDDCouRgzhqJ0nAnzefwTNrjsId5H3BQx0HboLA6fFi85USlMo02uiucOMPaziIQ7Vuuz4R//vQQBgjtM0fTGxJBprD48XGy/IFJAAYoiNwY0cO4lCtbWeK8KsPD8DhCvxe4OGAIRlA1R4vNuaVwOaSd76aCOAXHMShH/n2XDFm/n0f51K2AEMyQKo8XmzMK0a5Wxk/hA5BwgMjOspdBinI3oulmP7BPlS2YJUpNWNIBoDd7cHGvGJUuJXVnenbMx5mI69D0X8czC7DQ+/tRTmX2GsSQ9LPagOyBJUKC0gAcIoSfn1XD7nLIIU5mleOX7y3hy3KJjAk/cjpFbH5cgnsHuUF5DXGWD1uyIyRuwxSmJNXKjD7w4OoUfDPrlwYkn7iEUVsuVKiuC72T4kS8ODYrnKXQQq0O6sET68+ClHkrMAfY0j6gShJ2F5Q1qJtFpTAIUi4bzgHcaihz4/n46XPTspdhqIwJP1g99Vy5FbVyF1Gq/TvlcBBHGrUit3ZePPrc3KXoRgMyXY6XFKJsxXBvdXQH5yiiCcnchCHGrfsy7NYvT9H7jIUgSHZDucqqnGktFLuMtrMFKdHnwwO4lDjfr/uBPZklchdhuwYkm1U7HRh99XQXqfPKwEPjeOdONQ4jyjhyVWHkF/ukLsUWTEk28DpFbEtv6xV270qlUMApg7jfijUuGK7C3M+OqTqqUEMyVaSJAk7CsoUPReytQb2ToRJz0EcatzRXBsWrlfviDdDspUOlVTiSnVojWQ3xyGKePKu6+UugxTs4325+Oc+dQ7kMCRbIcfuxLEyu9xlBITZakDP9Gi5yyAFW7D+JI6qcL8chmQLVbo9+LawTO4yAsYrAdPH8U4caprLI+KJVYdgV9nyagzJFpAkCd8W2uAK89u1nBrg3psz5C6DFCyvzIFFKrsjhyHZAqdsVSh0uOQuIygG90lCJAdxyIdPDuRhy6lCucsIGu5x0wyby431OUVhMd2npRxlNXjl01NylxFUtp2rUHXya3irKyBoddAnd0XcqIehT66dR+q2FaBkw1/gLr0MyeuG1hSDqD5jEDPsfghCbVuj8sgmlO/8BwAgZsSDsPS7o+71K/Z9ClfRJSRMfDr4JxcACWYDvnzqVlij9HKXEnAMSR9EScLnucUorgmNhSv8RSsAqzZewPeXK+QuJWjcJXnQRMVCazRD8rpRefAzlO/9FOlPrICg0UKsqYbXXgpdXCoEjRZuWwGurlkIy4CJiB54N7xVNlx5/3GkzngVkiShYMVTSHvkf6GNioW7OBdXP12M1BmvQmOIkvtU/eaO3il4e9pAucsIOHa3fThWZlddQAK1gzgzblfXIE5EfDq0RnPt/5EACFqI1TaIztrZDBqDCRHx6RA0/7kUIQgaeErzAACe8kLo4lKhi0lGRGwKdHFp8JQXQhK9KP7iVVjHzQmrgASATScL8OmhPLnLCDhuyNyE0ho3jpaE7n3Z7eXUAD8fmoFP9+TKXUrQVF/Yj+LPlkGqqQIgwDJoErSm+ve2F/zjWbgKzkPyuKC1JMDS/y4AgM7aAZ7yQrhtBYAkwlNRCJ21A8p3fwJ9cldEdh4gwxkF3ovrT2LEdQlIijbKXUrAsLvdCEmSsEGF3eyfitRo8NKKI6rbetTrqETVia3QWhIQ1WNEg+cl0YuaK2fhuLAP0UN+Bm1k7fzS6nN7Ub77EwBAzM33QReTiKJ/v4LUGa+h8uB6OC4egsZgQtxtv0SEtUNQzymQ7umbhjf+q7/cZQQMQ7IRZ8qrsOtqudxlKEJ1aQ3+vE5dgzgAIEkicl97ACkP/gn6pMYXASnfuxauK2eR+LP5Df97rxv5H86DdexsSB43ynevRvIDL8N58TDK93yClAdfCfQpBNWqR27CsOsS5C4jIHhN8iecXhEHi9Xbzf4pS7wB3VMtcpcRfJIEiF64S680fYzXC3dp49fkbDtXwZh5A4wZfeC6egGGDj0gaLQwdrwRrsILASpaPi/8+wTcXlHuMgKCIfkTh0oqUCOG55fdFl4JmDn+OrnLCLiKA/+Gt6r2jipvdTlKv/wfQKuDIb0XAMBx8TCceachedyQRC+c2cdQcXA9IrsMavBaNVfOwHF+H+JGzgAARMSlwZl9DKLLiepze6GLTQ3eiQXJhaIqLP/uktxlBAQHbn6ktMaNs+Wht8p4oNVogclD0vGvfeE7kum8dATlu9dAcjug0ZugT+2G5PuXQGe2AgAklwNl296Hx1YACBroLPGwDLwbMUOn1nsdyeNCycbXEX/nXAi62jmEkd1uhiPrEC7/zwxoouKQMOE3QT+/YHhj6zn8bEAHJJgNcpfiV7wm+SOb8oqRr5I7a1orUqPBwuVH4FT4bpAkr/sHZWDplBvlLsOv2N3+Qa7dyYD0wSGKeGJid7nLIIVbczAX56+G1zV9huQPDoXwXjXBEpNgRLcUs9xlkIKJEvDqlvDaaZEhCSDb7kCpyudEtoRXAh6+o5vcZZDCfXE8H2cKwqfRofqQlCQJR0rDcyHdQKjRAvcMDp+J0OR/kgS8tuWs3GX4jepDMqfKyVZkKw3rlwJjBJdTo6ZtOlmAU1fCY4EUVYdkbSsyfLoFweIQRTw+gYM41DRJAl4Nk9akqkOythWprqXo/SUuMRLXcRCHfPjqVCFOXA7923tVHZLHeC2yzTyShFnjOYhDvv3t2yy5S2g31YbkVYdL9av8tFeNDrhrUJrcZZCCfXE8H1crnXKX0S6qDcnT5VVylxAWRvRPhUEnyF0GKZTbK2HV3tDer1uVIenweHHJ7pC7jLBQO4hzvdxlkIKt2psT0isEqTIkz1ZUI8x3hw0qa5IJXZI4iEONu1pZgy+O58tdRpupLiRFScL37Gr7lUeS8Ms7OYhDTVux65LcJbSZ6kIyp8qJak/oNv2VyqUDJgzgIA417lCODcfzQnM6kOpCkutFBs7IgRzEoaatPRiam8qpKiSdHi+uVNfIXUbYqhZFPMZBHGrC58fz4Q3BwQBVheRFuxOh9xWFlvgkEzolhtf+0uQfxXYXvjtfLHcZraaukKzktJ9A80gSfjWBgzjUuPVHfWysplCqCckqtxeFTq48HgwunYA7+offZlfUfptPFqDGE1pbgKgmJC9y8nhQ3TYoDRFaDuJQfZVOD7Z9f1XuMlpFPSHJrnZQVfNOHGpCqHW5VRGSlW4PF7OQQUKyCZmJJrnLIIXZ9n0RXCE0V1kVIXmZ035k4ZEkzL6Ti/NSfQ63FwculcpdRoupIiSvVDEk5eKOEDC+HwdxqL4d54rkLqHFwj4kRUlCvoMhKafRgzmIQ/V9ezZ05kuGfUgWO91wheAs/3BSLYp4jN1u+pHTBRUoqgyNxkvYhyRvQ1SGpJQoZMRzEIdqSRKw83xodLmbDcmPP/640cf/+c9/+r2YQGBIKoNbkvAod1ikH/kmRLrcgiRJPvui0dHRqKhouH+u1WpFaamyR6jcooh/XCjg/doKsvtAPr48WiB3GaQASRYD9v1+rNxlNKvZlmRjGVpaWgqNRvk99WKnmwGpMGOGdICOgziE2hXLC8qVv0mYrqknMjIyIAgCHA4HMjMz6z1XXFyMSZMmBby49uIEcuWpFkU8dkd3/PXzM3KXQgpwNM+GlJgUucvwqcmQXLJkCSRJwmOPPYbFixfXPa7RaJCSkoLRo0cHpcD2KOGCFoqUnBqFjPhI5JbwVlG1O55XjvG9lR2SzV6T3LlzJ0aMGBGsevxq7aVCVLpDa8URtdC5RLyw8qjcZZDMbu2eiA9nDZG7DJ+abEleM2LECNjtdpw+fRqVlZX1nlNya7LGKzIgFcyj12DsjSnYcoyDOGp2PM8mdwnNajYk//Wvf2HGjBkNAlIQBHi9yg2hEl6PVLxxN3XA9pOF8Hg5vKZWZdVu5JZWI8Oq3Dm0zQ5R//a3v8XChQtht9shimLdHyUHJMCQDAXVoohHx3MVc7U7pvBdFJsNycLCQjz11FMwmZSb9I0pY0iGhNQ0MzpYI+Uug2R0ocgudwk+NRuSt9xyC44eDb0L7JVuj9wlUAu4JQlzeCeOqmWXKHub52avSQ4dOhSTJk3Cr371K6Sm1l/yatasWQErrL04aBM6PAYNRt+QjK+PF8pdCskgt1TZIdnsFKDOnTs3/h8KArKysgJSVHt5RAkrL+TLXQa1gknQ4Pn3D4ILNqlPcrQBe+cr9/bEZluSFy9eDEYdfsWuduiplkTMuaMb/mfjOblLoSC7WlkDp9sLY4RW7lIapfwbsNuAXe3QlNbBgrQ4DuKojSQpu8vdbEty+vTpTT734Ycf+rUYf7F72JIMRW5JwpyJ3bHgo9AbKKT2yS6pRrdki9xlNKrZlqRWq633p7CwEGvWrGl0dSClYEsydHkNGozsnSR3GRRkl23KvY+/2Zbk3//+9waPrVmzBt98801ACvIHpzd0tqukhibcnIFvT13lII6K2KqVO6+5Tdck77333iZXLFcCF0MypFVLImbzThxVKXeEWUju3r0bWq0yR6IAwCUyJENderoFqbFGucugIFFySDbb3b7lllsgCP9ZSbqqqgrHjx/H/PnzA1pYe3B3xNBXO4hzPV78Bwdx1KDcody1X5sNybFj60/ytFgsGDRoEG699daAFdVeNexuhwXJqMGtvRLxzanQ2FWP2i6kW5IvvvhiMOrwK7Ykw4MEYOKwTOw8XcRBnDCn5IGbZkMSAK5cuYKPPvoIOTk5yMzMxIMPPogOHToEurY28UoSvAqenkStUy2JmH37dXh783m5S6EAUnJLstmBm3379qFHjx5YtWoVCgoK8PHHH6Nnz57Yt29fMOprNTebHGEnIzMayRzECWtOBc9tbvGiu0eOHMHatWtx+PBhvPTSS3jmmWeCUV+rKXmSO7WNS5Tw+EQupxbOlNy2aXYVoPj4eBQWFkKn+0/P3O12Izk5GaWlpQEvsLWqPV6svsglt8KNAGDrrjx8e5qDOOHIpNfi1KI75C6jUc1ek4yJiUFubm69JdPy8vIQHR0d0MKIfkwCcNfwTMSYIuQuhQJAp1XuWjvNhuTUqVMxefJkvPzyy+jSpQsuXLiABQsW4P777w9GfUR1qiURA/sly10GBYD2R3OxlabZkFy0aBGqq6tx//33w+FwwGg0YtasWXjppZeCUV+rKfejJqKmKPn3ttlrktdIkoTi4mIkJCTUuwNHaZxeER9ncS9nolCi1wh4sGtq8wfKoNkLAUeOHEFubi4EQUBiYiIEQUBubq5iNwdT7pUNImqKoOC2ZLOZMmvWLFRVVdV7zG63K3YTMJ1GuR82ETVOr1Xu722zIZmVlYUePXrUe6xnz564cOFCwIpqD40gIIJBSRRSDBrl9gGbrcxisaCsrKzeYyUlJTCZTAErqr2U/IETUUN6BU8BaraykSNH4re//S08P+wb4/F48Pzzz2PUqFGBrq3NDAr+wImbjucPAAATL0lEQVSoIb2Ce3/NTgFaunQpRo8ejdTUVHTq1AmXLl1CXFwcvv7662DU1yYGBX/gRNSQknt/zYZkhw4dcPToUWzYsAGXLl1Cp06dcNddd8FoVO6CA2xJEoUWJf/OtmipNKPRiClTpjT5/IgRI7Bz506/FdVeSv7AiaihkL4m2RLHjh3zx8v4jVHBHzgRNRSp4N9Z5VbWDuaIFjWQiUghLBHK3VgwLENSyR84ETVkUXDDJixDMlrBHzgR1acTBJh0ym3YhGVImnRa6BS8CAcR/YdZ4T0/v4SkErdMYJebKDQovefnl5A8deqUP17Gr5R8jYOI/kPpDZpGk+S2225r0ZqR1+66ycjI8G9VfhCt8A+eiGopvUHTaEtyxIgRGD58OIYPH47evXtjz549sFqtGDhwIOLj47F371706dMn2LW2SqyBe6EQhYJ4hf+uNhrhixcvrvv3KVOm4JNPPsFdd91V99jnn3+Ov//974Gvrh0SFf7BE1Httg1Whf+uNrt9Q0xMDMrKyqD50Q3ooigiLi4O5eXlAS+wrSRJwj+yCuBW8oa+RCoXp9dhcsckucvwqdmBm+TkZGzatKneY5s3b0ZSkrJPTBAExTfjidQuwaiXu4RmNXvF9IUXXsDkyZMxadIkdO7cGZcuXcL69evx7rvvBqO+dkkwRqDA4ZK7DCJqQkIINGSabUlOmzYN27dvR1xcHE6ePIm4uDhs3boV06dPD0Z97ZJgUP7fUkRqlmAMg5AEaruuoijC4/HA6/UqekvZHwuFL4BIrTQCEBcOLcmVK1di1KhRsNvtGDBgAKqqqjBmzBh8+OGHwaivXSwROkUvwUSkZgkGPbQh0OBqdnS7e/fueP3113HnnXfWPbZp0yb8+te/xrlz5wJeYHt9U1CGC5UOucsgop/ob7WgX7xF7jKa1WxIRkdHw2azNZgCFBsbi4qKioAX2F4XKqrxTaFN7jKI6CfuykhAYgiMbjfbFx03blyjU4DGjRsXsKL8qYPJIHcJRPQTBo0QEiPbQAumAKWlpWHq1KmYMGFC3RSgL774ArNmzcKCBQvqjlu0aFFAC20ro06LeEMESmrccpdCRD9INRlCZgC42e72bbfd1vyLCIKit5g9WFyBY2V2ucsgoh8MT4pB95gouctokWZDMhwUOGqwMa9E7jKI6AdTOyUrfrHda1QxPybJqEeEJjSa9kThLlavC5mABFQSkhpBQGaUUe4yiAhAF0uk3CW0iipCEgi9L4YoXHU2h9bvompCMs1kgJF33xDJKsEQgWi9slci/ynVpIZGENDJzC43kZxCsUenmpAEgC4Wk9wlEKmWAKAzQ1LZkiP1MCt4E3SicJYcqYcpBH//VBWSQGg294nCQdcQ/d1TXUh2jzGBMyaJgkuvEUK2gaK6kLRE6JAexUUviIKpW7QJOk1oxk1oVt1OvWLNcpdApBoCgJ6xoXGfdmNUGZJpJgNiQ2yuFlGo6mAywBIRur9vqgxJAOgZIiuQEIW6XiHcigRUHJJdoyOh56IXRAEVHaFFWogvfK3akIzQaNAtmpPLiQKpZ6w5ZBbXbYpqQxIAeseZoQ3t749IsUxaDbqHQUNE1SEZpdPiel6bJAqIG6wW6MLgkpaqQxIAbowzQxfi3QEipTHpNLg+DFqRAEMSkTotro8Jjy+TSCn6xlmgDYNWJMCQBMDWJJE/Rem06BZGDQ+GJGq3nQ3lOwKIlKSv1QxtGDU6GJI/uCHOzHmTRO1kidCG3dS60L1XyM8MWg36Wi3YX1whdykBdf7wAXz66lJcPH4UGo0Wadd1w/Mf/wt7N/wLHy54rt6x7poapF3XHYs+2wIA2LH6H/jXG8sAAJP/+xmMvP/BumM3vf828s6cxiOvvB68kyHFGZwQDU0YtSIBhmQ9vWKjcLa8GuVuj9ylBMT5wwfw6iPT8Iv/bxHmvvMhdBERuHTyGARBwM33/Bw33/PzumM9bjeeGTkYwyZPAQBUlBTj//7yRyz4dCNEUcTiKRPQf+x4RMcn4Mr5c9ix+iO88H9fyHVqpABpJgM6htgmXy3B7vaPaAQBQxKj5S4jYNa88jJumfIAhv9sKgyRkdDqdOjad0Cjd0Qc3PwFnPZKjLj3fgBAcV4ukjt1RkJ6BpIyOyK5Y2cU5+XC6/Hg/d89hQcXvAyTJXw/O/JNADAkITy/f4bkT6RHGZERhnt01zgcOH/4ADRaLRbfOxG/HtIbL/3sDhzY/Hmjx29btQKDJ9wDc2wcACC5U2cU5eXiak42CrMvovhyHpI7dcbn7/wVHXv3QZ8RI4N5OqQwvWKjEGeIkLuMgGB3uxFDE6ORX10DjyTJXYrfVJWXQRJF7Fq3BnPfWYHMXn1wZOuXePvpxxH7UTKu6z+o7ti8s9/j7IG9uP93C+oei4qJxYzFr+DdeU8AAGYsfgUlVy5jz/p1eHHdJnz+9l9x/NvtMFksuP93C5DcqUvQz5HkYdJp0D/eIncZAcOQbIQ5Qoe+VjMOllTKXYrfGKNqFxoe/vP70PnGfgCAgeMnoMdNw3B4y+Z6Iblt1Qp06tO37rhr+o+5Hf3H3A4A8LhcWDL1LsxY8grOHz6A499ux29XrMbJ777BB8/Pw/MfrwvSmZHchiTEICJEVx1vifA9s3bqE2eGNYwW5jVZopGU2QloZocfh92O3f/+FLc9OMPncf/+61/Q46ZhuH7wUOScOoHr+g+CVqdDz6HDkH3quP8KJ0XLjDKG5DaxrcGQbIJGEHBrSlxYrRI0ZtrD+G7dJ8g5dQKiKOLw1i9xZt8eDLj9zrpjdv97LbQROtw08Z4mX+fC0UM4sm0L7p33OwBAUsfOOL3nO9RUV+Pw1i9/CGMKd0atBsOSYuQuI+DCp6kUAHGGCPSPj8aBMJk7OW7GI3A5HHh9zkxUV1YguWNnPPba/6Jr3wF1x2z7eCWG/+w+6I2Ntw7cNU4sn/8MHv7DXxBhqB3gGjDuDpz4dhvm3ToIMQmJmPWn/z8o50PyGpYUg8gQ3Ee7tQRJCqPRiQCQJAkbL5eg0OGSuxQixehqicStKXFylxEU7G43QxAE3JIciwjeskgEoHYBi6GJ4d/NvoYh2QKWCF3YTpQlaq0RybHQa9UTHeo503bqHhOFzDCcZE7UGr1jo0J+Y6/WYki2wi3JsYiOCP8L1USNSYnUY5AKe1QMyVbQazUYk2rlAr2kOiadBqNS4sJuhZ+WYEi2UqwhArckx8pdBlHQaARgdKpVFdN9GsOQbINOlkjcEGeWuwyioLgpMQaJRr3cZciGIdlGA+ItqruATerTLdqEHirfdpkh2UYaQcDIlDhYOJBDYSrJGKGq+ZBNYUi2g1Grwe1p8TCqaM4YqUOsXoexafHQ8SYKhmR7Ret1GJdm5R05FDZMOg3GpcXDwL/8ATAk/SLBqMfoVCuYkxTq9BoBt6fFw8zLSHUYkn6SZjLglmR13PBP4UkrAGPSrGG7DUNbMST9qIslEjeF8UZiFL4EACNT4pASyRkbP8WQ9LNesWb0t4bvfh8UfgTU3nIbjtvB+gPXkwyQY6WVYbVHDoWnay3IcN+CoT0YkgF0ssyOfWGyqjmFH40AjEqJYwuyGQzJAPveVoXdReVyl0FUj1YAbkuxIsPM5f+aw5AMgnPl1fjuqg38oEkJtAIwJtWKDlwftUUYkkGSVVmNbwttEPlpk4z0GgGjU61I5boDLcaQDKICRw2+vlKKGiYlycASocXYNCti9ZwH2RoMySArd3mw5UoJKtxeuUshFUkyRmBMqhVGla4J2R4MSRnUeEV8nV+KAm5TS0HQ2RyJEcmxXKyijRiSMhElCd8V2nC+0iF3KRTG+lprb24QVLjtgr8wJGV2/IdJ5/wSyJ90goBhSTHoGm2Su5SQx5BUgAJHDXYUlKHaI8pdCoWBWL0Ot6XGcYDGTxiSCuH0evFNgQ2Xq2vkLoVCWLdoE4YmxvD6ox8xJBVEkiScKLOz+02tphME3JwUg+vYvfY7hqQCXXW4sL2gDFUeThOi5rF7HVgMSYWq8YrYV1TO0W9qkgDghjgz+lkt0LJ7HTAMSYW7XOXErqvlsLNVST9iNegwIikO8Ua2HgONIRkC3KKIg8WV+L68itcqVU4rAH2tFtwQZ4aGcx+DgiEZQgodLnx31YZyl0fuUkgGicYIjEiO5bXHIGNIhhivKOF4mR3Hy+zw8KtTBYNWgwFWC66PMfHOGRkwJENUlduLAyUVyOLATtgSAPSIjUJ/q4V7YMuIIRnirjpcOFBcgUInF8sIJxlRRgxKsLBrrQAMyTCRbXfgYHElyt28XhnKEgwRGJwYza1dFYQhGUZESUJWpQPHSu0MyxCTaIxA3zgL95xRIIZkGJIkCdl2J46V2VFS45a7HPIhNVKPG60WpHE7BcViSIa5vConjpXaec1SYdJNBvS1WpAUqZe7FGoGh8yCICcnB2azGVlZWc0eu3DhQowYMcJv750eZcSEjATcmR6PzCgjOIFEPjpBQLdoE+7JTMS4DvEMyBChmpAcNWoUBEHAZ599Vu/xhx56CDNnzmzz627fvh2CIMBsNsNsNiMlJQVTpkxBdnZ23TGZmZmw2+3o0qVLm9+nvVIiDRiTZsV9nZPRP94CM/c6CZpYvQ43Jcbg/s7JGJEci3gDR6xDiWpCEgASEhIwb948uFz+73rabDbY7XYcPXoURUVF7QreQDLptOhntWBKpySMS7OydRkgWgHoaonEhPR4/KxjEnrFRkHPuY4hSVXf2syZMyGKIt54440mj7HZbJg9ezbS09ORkJCAO++8E2fOnGnxeyQnJ2Pq1KnYv39/3WOXLl2CIAg4f/48AODo0aMYOXIkYmNjERcXh4EDBzb5Hl988QVSUlKwZs2aFtfQEoIgID3KWNe6HBhvYQunnQQAKZF63JwYg/s7p+DWlDgkcypPyNPJXUAwGQwGLFu2DDNmzMD06dORlJTU4Jhp06bBbrfjwIEDiI6Oxvz58zF27FicPn0aZrO52fe4cuUKVq9ejZ49ezZ5zOOPP47x48dj69atAIATJ04gNja2wXGvvfYali1bhvXr12PIkCGtONPWMem0uNFqwY1WCyrdHlyyO5Ftd6DIyZHx5lwLxk7mSHQ0GxHJyxhhR1UhCQCTJ0/GoEGDMH/+fLz33nv1nsvPz8eGDRtw5MgRpKSkAAD+/Oc/46OPPsKGDRvwwAMPNPm6CQkJ8Hg8qKqqQv/+/bF69eomj9Xr9cjJyUF2dja6du2Kfv361Xve7XZj9uzZ2LNnD3bt2oXMzMx2nHHrWCJ0uCHOjBvizLC7vci2O5Btd+Kq08UViH6gFQQkR+rR0WxEpygj97IOc6oLSQB4/fXXMXDgQDzxxBP1Hs/NzQUAdO3ate6xiIgIdOzYETk5OT5fs7i4GFqtFrt27cKUKVOQlZWFbt26NXrs8uXLsWTJEowePRperxdTpkzBkiVL6lqq58+fx+HDh7Fy5cqgBuRPmSO06B1nRu84M9yiiAKHC/nVNch31KC0Rj2T1QUACcYIpJkMSI00IMmo5yK3KqLKkOzTpw8eeeQRzJ07t14IZWRkAAAuXLiAvn37AgA8Hg9ycnJaFFaCIGD48OFYtGgRfvnLX+Ls2bMwmRruOdKxY0f87W9/A1AbiJMmTUJUVBRefvllAEDPnj3xwgsv4IEHHoDX68UvfvGLdp9ze0VoNMiIMiIjqvaOEKdXRMEPgVnocMHm8oRNS1MrCLAadEg06pEaaUBKpJ6DLiqm2m9+0aJFOHHiBDZv3lz3WGpqKiZMmIB58+ahsLAQDocDzz33HPR6PSZOnNji13744YcRGRmJV199tdHnly9fjry8PEiShOjoaOh0Ouh09f++Gj9+PDZu3Ii5c+fizTffbNtJBpBRq0EnSyRuTorF5I5JmNY1FXdnJGBYUgx6xJiQaIyALgSW9YrQCEg26tErNgq3JMdicmYiHuqagrsyEnFTYgwyzUYGpMqpsiUJAPHx8Vi4cCHmzp1b7/GVK1fi2WefxYABA+B0OjF48GBs2bIFFoulxa+t0+mwYMECPPnkk3j00UcbPL9t2zbMnz8f5eXliI6OxqRJk/Dcc881OG7o0KHYvn07xo8fj+LiYixcuLDV5xksWo2ABKMeCcb/TJAWJQkVbg8qXF7YPR5Uur2wu72wuz2o9HjhFoPT9jRoBJgjdLBEaGv/qdPCEqGF5YfHuEYj+cLbEkk2NV4RVR4varwiXKIIlyjB9ZN/90gSRAk/dOVr/1eAAAGAINTexaLXaqDXaGDQCrX/1Gig1wowaDQw6bRsCVK7MCSJiHzgX7FERD4wJImIfGBIEhH5wJAkIvKBIUlE5ANDkojIB4YkEZEPDEkiIh8YkkREPjAkiYh8YEgSEfnAkCQi8oEhSUTkA0OSiMgHhiQRkQ8MSSIiHxiSREQ+MCSJiHxgSBIR+cCQJCLygSFJROQDQ5KIyAeGJBGRDwxJIiIfGJJERD4wJImIfGBIEhH5wJAkIvKBIUlE5ANDkojIB4YkEZEPDEkiIh8YkkREPjAkiYh8YEgSEfnAkCQi8uH/AW/WFh7jLdLNAAAAAElFTkSuQmCC\" class=\"pd_save\"></center>\n                        \n                    \n                \n        </div>"
                    }, 
                    "metadata": {}
                }
            ], 
            "execution_count": 16
        }, 
        {
            "source": "## \u0421\u043e\u0437\u0434\u0430\u0434\u0438\u043c \u043c\u043e\u0434\u0435\u043b\u044c", 
            "cell_type": "markdown", 
            "metadata": {}
        }, 
        {
            "source": "spark_df = df_data\n(train_data, test_data) = spark_df.randomSplit([0.8, 0.2], 24)\n\nMODEL_NAME = \"Spark German Risk Model - Final\"\nDEPLOYMENT_NAME = \"Spark German Risk Deployment - Final\"\n\nprint(\"Number of records for training: \" + str(train_data.count()))\nprint(\"Number of records for evaluation: \" + str(test_data.count()))\n\nspark_df.printSchema()", 
            "cell_type": "code", 
            "metadata": {}, 
            "outputs": [
                {
                    "output_type": "stream", 
                    "name": "stdout", 
                    "text": "Number of records for training: 4016\nNumber of records for evaluation: 984\nroot\n |-- CheckingStatus: string (nullable = true)\n |-- LoanDuration: integer (nullable = true)\n |-- CreditHistory: string (nullable = true)\n |-- LoanPurpose: string (nullable = true)\n |-- LoanAmount: integer (nullable = true)\n |-- ExistingSavings: string (nullable = true)\n |-- EmploymentDuration: string (nullable = true)\n |-- InstallmentPercent: integer (nullable = true)\n |-- Sex: string (nullable = true)\n |-- OthersOnLoan: string (nullable = true)\n |-- CurrentResidenceDuration: integer (nullable = true)\n |-- OwnsProperty: string (nullable = true)\n |-- Age: integer (nullable = true)\n |-- InstallmentPlans: string (nullable = true)\n |-- Housing: string (nullable = true)\n |-- ExistingCreditsCount: integer (nullable = true)\n |-- Job: string (nullable = true)\n |-- Dependents: integer (nullable = true)\n |-- Telephone: string (nullable = true)\n |-- ForeignWorker: string (nullable = true)\n |-- Risk: string (nullable = true)\n\n"
                }
            ], 
            "execution_count": 17
        }, 
        {
            "source": "The code below creates a Random Forest Classifier with Spark, setting up string indexers for the categorical features and the label column. Finally, this notebook creates a pipeline including the indexers and the model, and does an initial Area Under ROC evaluation of the model.", 
            "cell_type": "markdown", 
            "metadata": {}
        }, 
        {
            "source": "from pyspark.ml.feature import OneHotEncoder, StringIndexer, IndexToString, VectorAssembler\nfrom pyspark.ml.evaluation import BinaryClassificationEvaluator\nfrom pyspark.ml import Pipeline, Model\n\nsi_CheckingStatus = StringIndexer(inputCol = 'CheckingStatus', outputCol = 'CheckingStatus_IX')\nsi_CreditHistory = StringIndexer(inputCol = 'CreditHistory', outputCol = 'CreditHistory_IX')\nsi_LoanPurpose = StringIndexer(inputCol = 'LoanPurpose', outputCol = 'LoanPurpose_IX')\nsi_ExistingSavings = StringIndexer(inputCol = 'ExistingSavings', outputCol = 'ExistingSavings_IX')\nsi_EmploymentDuration = StringIndexer(inputCol = 'EmploymentDuration', outputCol = 'EmploymentDuration_IX')\nsi_Sex = StringIndexer(inputCol = 'Sex', outputCol = 'Sex_IX')\nsi_OthersOnLoan = StringIndexer(inputCol = 'OthersOnLoan', outputCol = 'OthersOnLoan_IX')\nsi_OwnsProperty = StringIndexer(inputCol = 'OwnsProperty', outputCol = 'OwnsProperty_IX')\nsi_InstallmentPlans = StringIndexer(inputCol = 'InstallmentPlans', outputCol = 'InstallmentPlans_IX')\nsi_Housing = StringIndexer(inputCol = 'Housing', outputCol = 'Housing_IX')\nsi_Job = StringIndexer(inputCol = 'Job', outputCol = 'Job_IX')\nsi_Telephone = StringIndexer(inputCol = 'Telephone', outputCol = 'Telephone_IX')\nsi_ForeignWorker = StringIndexer(inputCol = 'ForeignWorker', outputCol = 'ForeignWorker_IX')", 
            "cell_type": "code", 
            "metadata": {}, 
            "outputs": [], 
            "execution_count": 16
        }, 
        {
            "source": "si_Label = StringIndexer(inputCol=\"Risk\", outputCol=\"label\").fit(spark_df)\nlabel_converter = IndexToString(inputCol=\"prediction\", outputCol=\"predictedLabel\", labels=si_Label.labels)", 
            "cell_type": "code", 
            "metadata": {}, 
            "outputs": [], 
            "execution_count": 17
        }, 
        {
            "source": "va_features = VectorAssembler(inputCols=[\"CheckingStatus_IX\", \"CreditHistory_IX\", \"LoanPurpose_IX\", \"ExistingSavings_IX\", \"EmploymentDuration_IX\", \"Sex_IX\", \\\n                                         \"OthersOnLoan_IX\", \"OwnsProperty_IX\", \"InstallmentPlans_IX\", \"Housing_IX\", \"Job_IX\", \"Telephone_IX\", \"ForeignWorker_IX\", \\\n                                         \"LoanDuration\", \"LoanAmount\", \"InstallmentPercent\", \"CurrentResidenceDuration\", \"LoanDuration\", \"Age\", \"ExistingCreditsCount\", \\\n                                         \"Dependents\"], outputCol=\"features\")", 
            "cell_type": "code", 
            "metadata": {}, 
            "outputs": [], 
            "execution_count": 18
        }, 
        {
            "source": "from pyspark.ml.classification import RandomForestClassifier\nclassifier = RandomForestClassifier(featuresCol=\"features\")\n\npipeline = Pipeline(stages=[si_CheckingStatus, si_CreditHistory, si_EmploymentDuration, si_ExistingSavings, si_ForeignWorker, si_Housing, si_InstallmentPlans, si_Job, si_LoanPurpose, si_OthersOnLoan,\\\n                               si_OwnsProperty, si_Sex, si_Telephone, si_Label, va_features, classifier, label_converter])\nmodel = pipeline.fit(train_data)", 
            "cell_type": "code", 
            "metadata": {}, 
            "outputs": [], 
            "execution_count": 19
        }, 
        {
            "source": "predictions = model.transform(test_data)\nevaluatorDT = BinaryClassificationEvaluator(rawPredictionCol=\"prediction\")\narea_under_curve = evaluatorDT.evaluate(predictions)\n\n#default evaluation is areaUnderROC\nprint(\"areaUnderROC = %g\" % area_under_curve)", 
            "cell_type": "code", 
            "metadata": {}, 
            "outputs": [
                {
                    "output_type": "stream", 
                    "name": "stdout", 
                    "text": "areaUnderROC = 0.699803\n"
                }
            ], 
            "execution_count": 20
        }, 
        {
            "source": "## Publish the model", 
            "cell_type": "markdown", 
            "metadata": {}
        }, 
        {
            "source": "In this section, the notebook uses the supplied Watson Machine Learning credentials to save the model (including the pipeline) to the WML instance. Previous versions of the model are removed so that the notebook can be run again, resetting all data for another demo.", 
            "cell_type": "markdown", 
            "metadata": {}
        }, 
        {
            "source": "from watson_machine_learning_client import WatsonMachineLearningAPIClient\nimport json\n\nwml_client = WatsonMachineLearningAPIClient(WML_CREDENTIALS)", 
            "cell_type": "code", 
            "metadata": {}, 
            "outputs": [
                {
                    "output_type": "stream", 
                    "name": "stderr", 
                    "text": "WARNING:watson_machine_learning_client.wml_client_error:Deployment creation failed. Error: 402. {\"trace\":\"d3f69261956433d1ed9f4c5b486aaa70\",\"errors\":[{\"code\":\"deployments_plan_limit_reached\",\"message\":\"Current plan 'lite' only allows 5 deployments\"}]}\n"
                }
            ], 
            "execution_count": 21
        }, 
        {
            "source": "### Remove existing model and deployment", 
            "cell_type": "markdown", 
            "metadata": {}
        }, 
        {
            "source": "model_deployment_ids = wml_client.deployments.get_uids()\nfor deployment_id in model_deployment_ids:\n    deployment = wml_client.deployments.get_details(deployment_id)\n    model_id = deployment['entity']['deployable_asset']['guid']\n    if deployment['entity']['name'] == DEPLOYMENT_NAME:\n        print('Deleting deployment id', deployment_id)\n        wml_client.deployments.delete(deployment_id)\n        print('Deleting model id', model_id)\n        wml_client.repository.delete(model_id)\nwml_client.repository.list_models()", 
            "cell_type": "code", 
            "metadata": {}, 
            "outputs": [
                {
                    "output_type": "stream", 
                    "name": "stdout", 
                    "text": "------------------------------------  ------------------------------------  ------------------------  --------------\nGUID                                  NAME                                  CREATED                   FRAMEWORK\n38ff23fc-263c-43bb-ae93-bad61b3f88c2  testHotels2                           2019-05-07T15:44:25.840Z  wml-1.2\na8f14332-f3bb-4c9e-b693-c6333cfe7b13  MNIST - compressed keras model        2019-05-07T10:39:14.554Z  tensorflow-1.5\n1efe4ae4-74af-4e26-baf2-c813029164e8  MNIST - compressed keras model        2019-05-06T16:55:29.164Z  tensorflow-1.5\n2bb6a285-6c1c-4b40-a4fa-8c429d2c7fa4  GermanCreditRiskModel                 2019-04-25T18:55:02.697Z  mllib-2.3\n777788ca-d86e-4ba7-930b-48d356958bfa  AIOS Spark German Risk Model - Final  2019-01-29T17:04:17.318Z  mllib-2.3\n------------------------------------  ------------------------------------  ------------------------  --------------\n"
                }
            ], 
            "execution_count": 22
        }, 
        {
            "source": "model_props = {\n    wml_client.repository.ModelMetaNames.NAME: \"{}\".format(MODEL_NAME),\n    wml_client.repository.ModelMetaNames.EVALUATION_METHOD: \"binary\",\n    wml_client.repository.ModelMetaNames.EVALUATION_METRICS: [\n        {\n           \"name\": \"areaUnderROC\",\n           \"value\": area_under_curve,\n           \"threshold\": 0.7\n        }\n    ]\n}", 
            "cell_type": "code", 
            "metadata": {}, 
            "outputs": [], 
            "execution_count": 23
        }, 
        {
            "source": "wml_models = wml_client.repository.get_details()\nmodel_uid = None\nfor model_in in wml_models['models']['resources']:\n    if MODEL_NAME == model_in['entity']['name']:\n        model_uid = model_in['metadata']['guid']\n        break\n\nif model_uid is None:\n    print(\"Storing model ...\")\n\n    published_model_details = wml_client.repository.store_model(model=model, meta_props=model_props, training_data=train_data, pipeline=pipeline)\n    model_uid = wml_client.repository.get_model_uid(published_model_details)\n    print(\"Done\")", 
            "cell_type": "code", 
            "metadata": {}, 
            "outputs": [
                {
                    "output_type": "stream", 
                    "name": "stdout", 
                    "text": "Storing model ...\nDone\n"
                }
            ], 
            "execution_count": 24
        }, 
        {
            "source": "model_uid", 
            "cell_type": "code", 
            "metadata": {}, 
            "outputs": [
                {
                    "output_type": "execute_result", 
                    "data": {
                        "text/plain": "'1b469826-6054-49ba-8f8c-fb53f602d316'"
                    }, 
                    "execution_count": 25, 
                    "metadata": {}
                }
            ], 
            "execution_count": 25
        }, 
        {
            "source": "## Deploy the model", 
            "cell_type": "markdown", 
            "metadata": {}
        }, 
        {
            "source": "The next section of the notebook deploys the model as a RESTful web service in Watson Machine Learning. The deployed model will have a scoring URL you can use to send data to the model for predictions.", 
            "cell_type": "markdown", 
            "metadata": {}
        }, 
        {
            "source": "wml_deployments = wml_client.deployments.get_details()\ndeployment_uid = None\nfor deployment in wml_deployments['resources']:\n    if DEPLOYMENT_NAME == deployment['entity']['name']:\n        deployment_uid = deployment['metadata']['guid']\n        break\n\nif deployment_uid is None:\n    print(\"Deploying model...\")\n\n    deployment = wml_client.deployments.create(artifact_uid=model_uid, name=DEPLOYMENT_NAME, asynchronous=False)\n    deployment_uid = wml_client.deployments.get_uid(deployment)\n    \nprint(\"Model id: {}\".format(model_uid))\nprint(\"Deployment id: {}\".format(deployment_uid))", 
            "cell_type": "code", 
            "metadata": {}, 
            "outputs": [
                {
                    "output_type": "stream", 
                    "name": "stdout", 
                    "text": "Deploying model...\n\n\n#######################################################################################\n\nSynchronous deployment creation for uid: '1b469826-6054-49ba-8f8c-fb53f602d316' started\n\n#######################################################################################\n\n\nINITIALIZING\nDEPLOY_SUCCESS\n\n\n------------------------------------------------------------------------------------------------\nSuccessfully finished deployment creation, deployment_uid='25f12284-f3f7-4e53-8056-ca6cc30749b3'\n------------------------------------------------------------------------------------------------\n\n\nModel id: 1b469826-6054-49ba-8f8c-fb53f602d316\nDeployment id: 25f12284-f3f7-4e53-8056-ca6cc30749b3\n"
                }
            ], 
            "execution_count": 27
        }, 
        {
            "source": "# Configure OpenScale <a name=\"openscale\"></a>", 
            "cell_type": "markdown", 
            "metadata": {}
        }, 
        {
            "source": "The notebook will now import the necessary libraries and set up a Python OpenScale client.", 
            "cell_type": "markdown", 
            "metadata": {}
        }, 
        {
            "source": "from ibm_ai_openscale import APIClient\nfrom ibm_ai_openscale.engines import *\nfrom ibm_ai_openscale.utils import *\nfrom ibm_ai_openscale.supporting_classes import PayloadRecord, Feature\nfrom ibm_ai_openscale.supporting_classes.enums import *", 
            "cell_type": "code", 
            "metadata": {}, 
            "outputs": [], 
            "execution_count": 28
        }, 
        {
            "source": "### Get Watson OpenScale GUID", 
            "cell_type": "markdown", 
            "metadata": {}
        }, 
        {
            "source": "Each instance of OpenScale has a unique ID. We can get this value using the Cloud API key specified at the beginning of the notebook.", 
            "cell_type": "markdown", 
            "metadata": {}
        }, 
        {
            "source": "import requests\n\nAIOS_GUID = None\ntoken_data = {\n    'grant_type': 'urn:ibm:params:oauth:grant-type:apikey',\n    'response_type': 'cloud_iam',\n    'apikey': CLOUD_API_KEY\n}\n\nresponse = requests.post('https://iam.bluemix.net/identity/token', data=token_data)\niam_token = response.json()['access_token']\niam_headers = {\n    'Content-Type': 'application/json',\n    'Authorization': 'Bearer %s' % iam_token\n}\n\nresources = json.loads(requests.get('https://resource-controller.cloud.ibm.com/v2/resource_instances', headers=iam_headers).text)['resources']\nfor resource in resources:\n    if \"aiopenscale\" in resource['id'].lower():\n        AIOS_GUID = resource['guid']\n        \nAIOS_CREDENTIALS = {\n    \"instance_guid\": AIOS_GUID,\n    \"apikey\": CLOUD_API_KEY,\n    \"url\": \"https://api.aiopenscale.cloud.ibm.com\"\n}\n\nif AIOS_GUID is None:\n    print('Watson OpenScale GUID NOT FOUND')\nelse:\n    print(AIOS_GUID)", 
            "cell_type": "code", 
            "metadata": {}, 
            "outputs": [
                {
                    "output_type": "stream", 
                    "name": "stdout", 
                    "text": "19ad7b3a-db92-4464-8f62-3a4bf04b8b57\n"
                }
            ], 
            "execution_count": 29
        }, 
        {
            "source": "ai_client = APIClient(aios_credentials=AIOS_CREDENTIALS)\nai_client.version", 
            "cell_type": "code", 
            "metadata": {}, 
            "outputs": [
                {
                    "output_type": "execute_result", 
                    "data": {
                        "text/plain": "'2.1.6'"
                    }, 
                    "execution_count": 30, 
                    "metadata": {}
                }
            ], 
            "execution_count": 30
        }, 
        {
            "source": "## Create schema and datamart", 
            "cell_type": "markdown", 
            "metadata": {}
        }, 
        {
            "source": "### Set up datamart", 
            "cell_type": "markdown", 
            "metadata": {}
        }, 
        {
            "source": "Watson OpenScale uses a database to store payload logs and calculated metrics. If database credentials were **not** supplied above, the notebook will use the free, internal lite database. If database credentials were supplied, the datamart will be created there **unless** there is an existing datamart **and** the **KEEP_MY_INTERNAL_POSTGRES** variable is set to **True**. If an OpenScale datamart exists in Db2 or PostgreSQL, the existing datamart will be used and no data will be overwritten.\n\nPrior instances of the German Credit model will be removed from OpenScale monitoring.", 
            "cell_type": "markdown", 
            "metadata": {}
        }, 
        {
            "source": "try:\n    data_mart_details = ai_client.data_mart.get_details()\n    if 'internal_database' in data_mart_details and data_mart_details['internal_database']:\n        if KEEP_MY_INTERNAL_POSTGRES:\n            print('Using existing internal datamart.')\n        else:\n            if DB_CREDENTIALS is None:\n                print('No postgres credentials supplied. Using existing internal datamart')\n            else:\n                print('Switching to external datamart')\n                ai_client.data_mart.delete(force=True)\n                ai_client.data_mart.setup(db_credentials=DB_CREDENTIALS)\n    else:\n        print('Using existing external datamart')\nexcept:\n    if DB_CREDENTIALS is None:\n        print('Setting up internal datamart')\n        ai_client.data_mart.setup(internal_db=True)\n    else:\n        print('Setting up external datamart')\n        try:\n            ai_client.data_mart.setup(db_credentials=DB_CREDENTIALS)\n        except:\n            print('Setup failed, trying Db2 setup')\n            ai_client.data_mart.setup(db_credentials=DB_CREDENTIALS, schema=DB_CREDENTIALS['username'])\n    ", 
            "cell_type": "code", 
            "metadata": {}, 
            "outputs": [
                {
                    "output_type": "stream", 
                    "name": "stdout", 
                    "text": "Using existing internal datamart.\n"
                }
            ], 
            "execution_count": 31
        }, 
        {
            "source": "data_mart_details = ai_client.data_mart.get_details()\ndata_mart_details", 
            "cell_type": "code", 
            "metadata": {}, 
            "outputs": [
                {
                    "output_type": "execute_result", 
                    "data": {
                        "text/plain": "{'database_configuration': {},\n 'internal_database': True,\n 'internal_database_pool': 'icd-psql',\n 'service_instance_crn': 'crn:v1:bluemix:public:aiopenscale:us-south:a/f665a69257a9fbe8b8bf0f77bc69d0d5:19ad7b3a-db92-4464-8f62-3a4bf04b8b57::',\n 'status': {'state': 'active'}}"
                    }, 
                    "execution_count": 32, 
                    "metadata": {}
                }
            ], 
            "execution_count": 32
        }, 
        {
            "source": "## Bind machine learning engines", 
            "cell_type": "markdown", 
            "metadata": {}
        }, 
        {
            "source": "Watson OpenScale needs to be bound to the Watson Machine Learning instance to capture payload data into and out of the model. If this binding already exists, this code will output a warning message and use the existing binding.", 
            "cell_type": "markdown", 
            "metadata": {}
        }, 
        {
            "source": "binding_uid = ai_client.data_mart.bindings.add('WML instance', WatsonMachineLearningInstance(WML_CREDENTIALS))\nif binding_uid is None:\n    binding_uid = ai_client.data_mart.bindings.get_details()['service_bindings'][0]['metadata']['guid']\nbindings_details = ai_client.data_mart.bindings.get_details()\nai_client.data_mart.bindings.list()", 
            "cell_type": "code", 
            "metadata": {}, 
            "outputs": [
                {
                    "output_type": "stream", 
                    "name": "stdout", 
                    "text": "Warning during bind instance.\nStatus code: 409, body: {\"trace\":\"NjJkMmNmNjktMDI5Yi00NDA4LThiZTItMzVkNDkxMTg3ZmY3\",\"errors\":[{\"code\":\"AIQCS0010W\",\"message\":\"Service Binding with this id is already defined\"}]}\n"
                }, 
                {
                    "output_type": "display_data", 
                    "data": {
                        "text/html": "<HTML>\n        <body>\n            <h3>Service bindings</h3>\n            <table style='border: 1px solid #dddddd; font-family: Courier'>\n                <th style='border: 1px solid #dddddd'>uid</th><th style='border: 1px solid #dddddd'>name</th><th style='border: 1px solid #dddddd'>service_type</th><th style='border: 1px solid #dddddd'>created</th>\n                <tr><td style='border: 1px solid #dddddd'>6b7a94a8-04af-4307-9ff1-7652d62f4b96</td><td style='border: 1px solid #dddddd'>WML Instance</td><td style='border: 1px solid #dddddd'>watson_machine_learning</td><td style='border: 1px solid #dddddd'>2019-04-25T18:55:02.091Z</td></tr>\n            </table>\n        </body>\n        </HTML>", 
                        "text/plain": "<IPython.core.display.HTML object>"
                    }, 
                    "metadata": {}
                }
            ], 
            "execution_count": 33
        }, 
        {
            "source": "print(binding_uid)", 
            "cell_type": "code", 
            "metadata": {}, 
            "outputs": [
                {
                    "output_type": "stream", 
                    "name": "stdout", 
                    "text": "6b7a94a8-04af-4307-9ff1-7652d62f4b96\n"
                }
            ], 
            "execution_count": 34
        }, 
        {
            "source": "ai_client.data_mart.bindings.list_assets()", 
            "cell_type": "code", 
            "metadata": {}, 
            "outputs": [
                {
                    "output_type": "display_data", 
                    "data": {
                        "text/html": "<HTML>\n        <body>\n            <h3>Available assets</h3>\n            <table style='border: 1px solid #dddddd; font-family: Courier'>\n                <th style='border: 1px solid #dddddd'>source_uid</th><th style='border: 1px solid #dddddd'>name</th><th style='border: 1px solid #dddddd'>created</th><th style='border: 1px solid #dddddd'>type</th><th style='border: 1px solid #dddddd'>frameworks</th><th style='border: 1px solid #dddddd'>binding_uid</th><th style='border: 1px solid #dddddd'>is_subscribed</th>\n                <tr><td style='border: 1px solid #dddddd'>1b469826-6054-49ba-8f8c-fb53f602d316</td><td style='border: 1px solid #dddddd'>Spark German Risk Model - Final</td><td style='border: 1px solid #dddddd'>2019-05-07T17:21:30.220Z</td><td style='border: 1px solid #dddddd'>model</td><td style='border: 1px solid #dddddd'>mllib-2.3</td><td style='border: 1px solid #dddddd'>6b7a94a8-04af-4307-9ff1-7652d62f4b96</td><td style='border: 1px solid #dddddd'>False</td></tr><tr><td style='border: 1px solid #dddddd'>a8f14332-f3bb-4c9e-b693-c6333cfe7b13</td><td style='border: 1px solid #dddddd'>MNIST - compressed keras model</td><td style='border: 1px solid #dddddd'>2019-05-07T10:39:25.256Z</td><td style='border: 1px solid #dddddd'>model</td><td style='border: 1px solid #dddddd'>tensorflow-1.5</td><td style='border: 1px solid #dddddd'>6b7a94a8-04af-4307-9ff1-7652d62f4b96</td><td style='border: 1px solid #dddddd'>False</td></tr><tr><td style='border: 1px solid #dddddd'>1efe4ae4-74af-4e26-baf2-c813029164e8</td><td style='border: 1px solid #dddddd'>MNIST - compressed keras model</td><td style='border: 1px solid #dddddd'>2019-05-06T16:55:33.697Z</td><td style='border: 1px solid #dddddd'>model</td><td style='border: 1px solid #dddddd'>tensorflow-1.5</td><td style='border: 1px solid #dddddd'>6b7a94a8-04af-4307-9ff1-7652d62f4b96</td><td style='border: 1px solid #dddddd'>False</td></tr><tr><td style='border: 1px solid #dddddd'>2bb6a285-6c1c-4b40-a4fa-8c429d2c7fa4</td><td style='border: 1px solid #dddddd'>GermanCreditRiskModel</td><td style='border: 1px solid #dddddd'>2019-04-25T18:55:04.861Z</td><td style='border: 1px solid #dddddd'>model</td><td style='border: 1px solid #dddddd'>mllib-2.3</td><td style='border: 1px solid #dddddd'>6b7a94a8-04af-4307-9ff1-7652d62f4b96</td><td style='border: 1px solid #dddddd'>True</td></tr><tr><td style='border: 1px solid #dddddd'>777788ca-d86e-4ba7-930b-48d356958bfa</td><td style='border: 1px solid #dddddd'>AIOS Spark German Risk Model - Final</td><td style='border: 1px solid #dddddd'>2019-01-29T17:04:30.663Z</td><td style='border: 1px solid #dddddd'>model</td><td style='border: 1px solid #dddddd'>mllib-2.3</td><td style='border: 1px solid #dddddd'>6b7a94a8-04af-4307-9ff1-7652d62f4b96</td><td style='border: 1px solid #dddddd'>False</td></tr>\n            </table>\n        </body>\n        </HTML>", 
                        "text/plain": "<IPython.core.display.HTML object>"
                    }, 
                    "metadata": {}
                }
            ], 
            "execution_count": 35
        }, 
        {
            "source": "## Subscriptions", 
            "cell_type": "markdown", 
            "metadata": {}
        }, 
        {
            "source": "### Remove existing credit risk subscriptions", 
            "cell_type": "markdown", 
            "metadata": {}
        }, 
        {
            "source": "This code removes previous subscriptions to the German Credit model to refresh the monitors with the new model and new data.", 
            "cell_type": "markdown", 
            "metadata": {}
        }, 
        {
            "source": "subscriptions_uids = ai_client.data_mart.subscriptions.get_uids()\nfor subscription in subscriptions_uids:\n    sub_name = ai_client.data_mart.subscriptions.get_details(subscription)['entity']['asset']['name']\n    if sub_name == MODEL_NAME:\n        ai_client.data_mart.subscriptions.delete(subscription)\n        print('Deleted existing subscription for', MODEL_NAME)", 
            "cell_type": "code", 
            "metadata": {}, 
            "outputs": [], 
            "execution_count": 36
        }, 
        {
            "source": "This code creates the model subscription in OpenScale using the Python client API. Note that we need to provide the model unique identifier, and some information about the model itself.", 
            "cell_type": "markdown", 
            "metadata": {}
        }, 
        {
            "source": "subscription = ai_client.data_mart.subscriptions.add(WatsonMachineLearningAsset(\n    model_uid,\n    problem_type=ProblemType.BINARY_CLASSIFICATION,\n    input_data_type=InputDataType.STRUCTURED,\n    label_column='Risk',\n    prediction_column='predictedLabel',\n    probability_column='probability',\n    feature_columns = [\"CheckingStatus\",\"LoanDuration\",\"CreditHistory\",\"LoanPurpose\",\"LoanAmount\",\"ExistingSavings\",\"EmploymentDuration\",\"InstallmentPercent\",\"Sex\",\"OthersOnLoan\",\"CurrentResidenceDuration\",\"OwnsProperty\",\"Age\",\"InstallmentPlans\",\"Housing\",\"ExistingCreditsCount\",\"Job\",\"Dependents\",\"Telephone\",\"ForeignWorker\"],\n    categorical_columns = [\"CheckingStatus\",\"CreditHistory\",\"LoanPurpose\",\"ExistingSavings\",\"EmploymentDuration\",\"Sex\",\"OthersOnLoan\",\"OwnsProperty\",\"InstallmentPlans\",\"Housing\",\"Job\",\"Telephone\",\"ForeignWorker\"]\n))\n\nif subscription is None:\n    print('Subscription already exists; get the existing one')\n    subscriptions_uids = ai_client.data_mart.subscriptions.get_uids()\n    for sub in subscriptions_uids:\n        if ai_client.data_mart.subscriptions.get_details(sub)['entity']['asset']['name'] == MODEL_NAME:\n            subscription = ai_client.data_mart.subscriptions.get(sub)", 
            "cell_type": "code", 
            "metadata": {}, 
            "outputs": [], 
            "execution_count": 37
        }, 
        {
            "source": "Get subscription list", 
            "cell_type": "markdown", 
            "metadata": {}
        }, 
        {
            "source": "subscriptions_uids = ai_client.data_mart.subscriptions.get_uids()\nai_client.data_mart.subscriptions.list()", 
            "cell_type": "code", 
            "metadata": {}, 
            "outputs": [
                {
                    "output_type": "display_data", 
                    "data": {
                        "text/html": "<HTML>\n        <body>\n            <h3>Subscriptions</h3>\n            <table style='border: 1px solid #dddddd; font-family: Courier'>\n                <th style='border: 1px solid #dddddd'>uid</th><th style='border: 1px solid #dddddd'>name</th><th style='border: 1px solid #dddddd'>type</th><th style='border: 1px solid #dddddd'>binding_uid</th><th style='border: 1px solid #dddddd'>created</th>\n                <tr><td style='border: 1px solid #dddddd'>1b469826-6054-49ba-8f8c-fb53f602d316</td><td style='border: 1px solid #dddddd'>Spark German Risk Model - Final</td><td style='border: 1px solid #dddddd'>model</td><td style='border: 1px solid #dddddd'>6b7a94a8-04af-4307-9ff1-7652d62f4b96</td><td style='border: 1px solid #dddddd'>2019-05-07T17:47:33.106Z</td></tr><tr><td style='border: 1px solid #dddddd'>2bb6a285-6c1c-4b40-a4fa-8c429d2c7fa4</td><td style='border: 1px solid #dddddd'>GermanCreditRiskModel</td><td style='border: 1px solid #dddddd'>model</td><td style='border: 1px solid #dddddd'>6b7a94a8-04af-4307-9ff1-7652d62f4b96</td><td style='border: 1px solid #dddddd'>2019-04-25T18:55:11.468Z</td></tr>\n            </table>\n        </body>\n        </HTML>", 
                        "text/plain": "<IPython.core.display.HTML object>"
                    }, 
                    "metadata": {}
                }
            ], 
            "execution_count": 38
        }, 
        {
            "source": "subscription_details = subscription.get_details()", 
            "cell_type": "code", 
            "metadata": {}, 
            "outputs": [], 
            "execution_count": 39
        }, 
        {
            "source": "### Score the model so we can configure monitors", 
            "cell_type": "markdown", 
            "metadata": {}
        }, 
        {
            "source": "Now that the WML service has been bound and the subscription has been created, we need to send a request to the model before we configure OpenScale. This allows OpenScale to create a payload log in the datamart with the correct schema, so it can capture data coming into and out of the model. First, the code gets the model deployment's endpoint URL, and then sends a few records for predictions.", 
            "cell_type": "markdown", 
            "metadata": {}
        }, 
        {
            "source": "credit_risk_scoring_endpoint = None\nprint(deployment_uid)\n\nfor deployment in wml_client.deployments.get_details()['resources']:\n    if deployment_uid in deployment['metadata']['guid']:\n        credit_risk_scoring_endpoint = deployment['entity']['scoring_url']\n        \nprint(credit_risk_scoring_endpoint)", 
            "cell_type": "code", 
            "metadata": {}, 
            "outputs": [
                {
                    "output_type": "stream", 
                    "name": "stdout", 
                    "text": "25f12284-f3f7-4e53-8056-ca6cc30749b3\nhttps://us-south.ml.cloud.ibm.com/v3/wml_instances/6b7a94a8-04af-4307-9ff1-7652d62f4b96/deployments/25f12284-f3f7-4e53-8056-ca6cc30749b3/online\n"
                }
            ], 
            "execution_count": 40
        }, 
        {
            "source": "fields = [\"CheckingStatus\",\"LoanDuration\",\"CreditHistory\",\"LoanPurpose\",\"LoanAmount\",\"ExistingSavings\",\"EmploymentDuration\",\"InstallmentPercent\",\"Sex\",\"OthersOnLoan\",\"CurrentResidenceDuration\",\"OwnsProperty\",\"Age\",\"InstallmentPlans\",\"Housing\",\"ExistingCreditsCount\",\"Job\",\"Dependents\",\"Telephone\",\"ForeignWorker\"]\nvalues = [\n  [\"no_checking\",13,\"credits_paid_to_date\",\"car_new\",1343,\"100_to_500\",\"1_to_4\",2,\"female\",\"none\",3,\"savings_insurance\",46,\"none\",\"own\",2,\"skilled\",1,\"none\",\"yes\"],\n  [\"no_checking\",24,\"prior_payments_delayed\",\"furniture\",4567,\"500_to_1000\",\"1_to_4\",4,\"male\",\"none\",4,\"savings_insurance\",36,\"none\",\"free\",2,\"management_self-employed\",1,\"none\",\"yes\"],\n  [\"0_to_200\",26,\"all_credits_paid_back\",\"car_new\",863,\"less_100\",\"less_1\",2,\"female\",\"co-applicant\",2,\"real_estate\",38,\"none\",\"own\",1,\"skilled\",1,\"none\",\"yes\"],\n  [\"0_to_200\",14,\"no_credits\",\"car_new\",2368,\"less_100\",\"1_to_4\",3,\"female\",\"none\",3,\"real_estate\",29,\"none\",\"own\",1,\"skilled\",1,\"none\",\"yes\"],\n  [\"0_to_200\",4,\"no_credits\",\"car_new\",250,\"less_100\",\"unemployed\",2,\"female\",\"none\",3,\"real_estate\",23,\"none\",\"rent\",1,\"management_self-employed\",1,\"none\",\"yes\"],\n  [\"no_checking\",17,\"credits_paid_to_date\",\"car_new\",832,\"100_to_500\",\"1_to_4\",2,\"male\",\"none\",2,\"real_estate\",42,\"none\",\"own\",1,\"skilled\",1,\"none\",\"yes\"],\n  [\"no_checking\",33,\"outstanding_credit\",\"appliances\",5696,\"unknown\",\"greater_7\",4,\"male\",\"co-applicant\",4,\"unknown\",54,\"none\",\"free\",2,\"skilled\",1,\"yes\",\"yes\"],\n  [\"0_to_200\",13,\"prior_payments_delayed\",\"retraining\",1375,\"100_to_500\",\"4_to_7\",3,\"male\",\"none\",3,\"real_estate\",37,\"none\",\"own\",2,\"management_self-employed\",1,\"none\",\"yes\"]\n]\n\npayload_scoring = {\"fields\": fields,\"values\": values}\nscoring_response = wml_client.deployments.score(credit_risk_scoring_endpoint, payload_scoring)\n\nprint('Single record scoring result:', '\\n fields:', scoring_response['fields'], '\\n values: ', scoring_response['values'][0])", 
            "cell_type": "code", 
            "metadata": {}, 
            "outputs": [
                {
                    "output_type": "stream", 
                    "name": "stdout", 
                    "text": "Single record scoring result: \n fields: ['CheckingStatus', 'LoanDuration', 'CreditHistory', 'LoanPurpose', 'LoanAmount', 'ExistingSavings', 'EmploymentDuration', 'InstallmentPercent', 'Sex', 'OthersOnLoan', 'CurrentResidenceDuration', 'OwnsProperty', 'Age', 'InstallmentPlans', 'Housing', 'ExistingCreditsCount', 'Job', 'Dependents', 'Telephone', 'ForeignWorker', 'CheckingStatus_IX', 'CreditHistory_IX', 'EmploymentDuration_IX', 'ExistingSavings_IX', 'ForeignWorker_IX', 'Housing_IX', 'InstallmentPlans_IX', 'Job_IX', 'LoanPurpose_IX', 'OthersOnLoan_IX', 'OwnsProperty_IX', 'Sex_IX', 'Telephone_IX', 'features', 'rawPrediction', 'probability', 'prediction', 'predictedLabel'] \n values:  ['no_checking', 13, 'credits_paid_to_date', 'car_new', 1343, '100_to_500', '1_to_4', 2, 'female', 'none', 3, 'savings_insurance', 46, 'none', 'own', 2, 'skilled', 1, 'none', 'yes', 0.0, 1.0, 0.0, 1.0, 0.0, 0.0, 0.0, 0.0, 0.0, 0.0, 0.0, 1.0, 0.0, [21, [1, 3, 5, 13, 14, 15, 16, 17, 18, 19, 20], [1.0, 1.0, 1.0, 13.0, 1343.0, 2.0, 3.0, 13.0, 46.0, 2.0, 1.0]], [13.768376228414866, 6.231623771585131], [0.6884188114207435, 0.3115811885792566], 0.0, 'No Risk']\n"
                }
            ], 
            "execution_count": 41
        }, 
        {
            "source": "# Quality monitoring and feedback logging <a name=\"quality\"></a>", 
            "cell_type": "markdown", 
            "metadata": {}
        }, 
        {
            "source": "## Enable quality monitoring", 
            "cell_type": "markdown", 
            "metadata": {}
        }, 
        {
            "source": "The code below waits ten seconds to allow the payload logging table to be set up before it begins enabling monitors. First, it turns on the quality (accuracy) monitor and sets an alert threshold of 70%. OpenScale will show an alert on the dashboard if the model accuracy measurement (area under the curve, in the case of a binary classifier) falls below this threshold.\n\nThe second paramater supplied, min_records, specifies the minimum number of feedback records OpenScale needs before it calculates a new measurement. The quality monitor runs hourly, but the accuracy reading in the dashboard will not change until an additional 50 feedback records have been added, via the user interface, the Python client, or the supplied feedback endpoint.", 
            "cell_type": "markdown", 
            "metadata": {}
        }, 
        {
            "source": "time.sleep(10)\nsubscription.quality_monitoring.enable(threshold=0.7, min_records=50)", 
            "cell_type": "code", 
            "metadata": {}, 
            "outputs": [], 
            "execution_count": 42
        }, 
        {
            "source": "## Feedback logging", 
            "cell_type": "markdown", 
            "metadata": {}
        }, 
        {
            "source": "The code below downloads and stores enough feedback data to meet the minimum threshold so that OpenScale can calculate a new accuracy measurement. It then kicks off the accuracy monitor. The monitors run hourly, or can be initiated via the Python API, the REST API, or the graphical user interface.", 
            "cell_type": "markdown", 
            "metadata": {}
        }, 
        {
            "source": "!rm additional_feedback_data.json\n!wget https://raw.githubusercontent.com/emartensibm/german-credit/master/additional_feedback_data.json", 
            "cell_type": "code", 
            "metadata": {}, 
            "outputs": [
                {
                    "output_type": "stream", 
                    "name": "stdout", 
                    "text": "rm: cannot remove 'additional_feedback_data.json': No such file or directory\n--2019-05-07 17:47:55--  https://raw.githubusercontent.com/emartensibm/german-credit/master/additional_feedback_data.json\nResolving raw.githubusercontent.com (raw.githubusercontent.com)... 151.101.48.133\nConnecting to raw.githubusercontent.com (raw.githubusercontent.com)|151.101.48.133|:443... connected.\nHTTP request sent, awaiting response... 200 OK\nLength: 16506 (16K) [text/plain]\nSaving to: 'additional_feedback_data.json'\n\nadditional_feedback 100%[===================>]  16.12K  --.-KB/s    in 0s      \n\n2019-05-07 17:47:55 (121 MB/s) - 'additional_feedback_data.json' saved [16506/16506]\n\n"
                }
            ], 
            "execution_count": 43
        }, 
        {
            "source": "with open('additional_feedback_data.json') as feedback_file:\n    additional_feedback_data = json.load(feedback_file)\nsubscription.feedback_logging.store(additional_feedback_data['data'])", 
            "cell_type": "code", 
            "metadata": {}, 
            "outputs": [], 
            "execution_count": 44
        }, 
        {
            "source": "subscription.feedback_logging.show_table()", 
            "cell_type": "code", 
            "metadata": {}, 
            "outputs": [
                {
                    "output_type": "display_data", 
                    "data": {
                        "text/html": "<HTML>\n        <body>\n            <h3>Feedback_1b469826-6054-49ba-8f8c-fb53f602d316 (binding_id=6b7a94a8-04af-4307-9ff1-7652d62f4b96, subscription_id=1b469826-6054-49ba-8f8c-fb53f602d316)</h3>\n            <table style='border: 1px solid #dddddd; font-family: Courier'>\n                <th style='border: 1px solid #dddddd'>CheckingStatus</th><th style='border: 1px solid #dddddd'>LoanDuration</th><th style='border: 1px solid #dddddd'>CreditHistory</th><th style='border: 1px solid #dddddd'>LoanPurpose</th><th style='border: 1px solid #dddddd'>LoanAmount</th><th style='border: 1px solid #dddddd'>ExistingSavings</th><th style='border: 1px solid #dddddd'>EmploymentDuration</th><th style='border: 1px solid #dddddd'>InstallmentPercent</th><th style='border: 1px solid #dddddd'>Sex</th><th style='border: 1px solid #dddddd'>OthersOnLoan</th><th style='border: 1px solid #dddddd'>CurrentResidenceDuration</th><th style='border: 1px solid #dddddd'>OwnsProperty</th><th style='border: 1px solid #dddddd'>Age</th><th style='border: 1px solid #dddddd'>InstallmentPlans</th><th style='border: 1px solid #dddddd'>Housing</th><th style='border: 1px solid #dddddd'>ExistingCreditsCount</th><th style='border: 1px solid #dddddd'>Job</th><th style='border: 1px solid #dddddd'>Dependents</th><th style='border: 1px solid #dddddd'>Telephone</th><th style='border: 1px solid #dddddd'>ForeignWorker</th><th style='border: 1px solid #dddddd'>Risk</th><th style='border: 1px solid #dddddd'>_training</th>\n                <tr><td style='border: 1px solid #dddddd'>less_0</td><td style='border: 1px solid #dddddd'>10</td><td style='border: 1px solid #dddddd'>all_credits_paid_back</td><td style='border: 1px solid #dddddd'>car_new</td><td style='border: 1px solid #dddddd'>250</td><td style='border: 1px solid #dddddd'>500_to_1000</td><td style='border: 1px solid #dddddd'>4_to_7</td><td style='border: 1px solid #dddddd'>3</td><td style='border: 1px solid #dddddd'>male</td><td style='border: 1px solid #dddddd'>none</td><td style='border: 1px solid #dddddd'>2</td><td style='border: 1px solid #dddddd'>real_estate</td><td style='border: 1px solid #dddddd'>23</td><td style='border: 1px solid #dddddd'>none</td><td style='border: 1px solid #dddddd'>rent</td><td style='border: 1px solid #dddddd'>1</td><td style='border: 1px solid #dddddd'>skilled</td><td style='border: 1px solid #dddddd'>1</td><td style='border: 1px solid #dddddd'>none</td><td style='border: 1px solid #dddddd'>yes</td><td style='border: 1px solid #dddddd'>No Risk</td><td style='border: 1px solid #dddddd'>2019-05-07 17:47:56.861930+00:00</td></tr><tr><td style='border: 1px solid #dddddd'>no_checking</td><td style='border: 1px solid #dddddd'>23</td><td style='border: 1px solid #dddddd'>prior_payments_delayed</td><td style='border: 1px solid #dddddd'>appliances</td><td style='border: 1px solid #dddddd'>6964</td><td style='border: 1px solid #dddddd'>100_to_500</td><td style='border: 1px solid #dddddd'>4_to_7</td><td style='border: 1px solid #dddddd'>4</td><td style='border: 1px solid #dddddd'>female</td><td style='border: 1px solid #dddddd'>none</td><td style='border: 1px solid #dddddd'>3</td><td style='border: 1px solid #dddddd'>car_other</td><td style='border: 1px solid #dddddd'>39</td><td style='border: 1px solid #dddddd'>none</td><td style='border: 1px solid #dddddd'>own</td><td style='border: 1px solid #dddddd'>1</td><td style='border: 1px solid #dddddd'>skilled</td><td style='border: 1px solid #dddddd'>1</td><td style='border: 1px solid #dddddd'>none</td><td style='border: 1px solid #dddddd'>yes</td><td style='border: 1px solid #dddddd'>Risk</td><td style='border: 1px solid #dddddd'>2019-05-07 17:47:56.861930+00:00</td></tr><tr><td style='border: 1px solid #dddddd'>0_to_200</td><td style='border: 1px solid #dddddd'>30</td><td style='border: 1px solid #dddddd'>outstanding_credit</td><td style='border: 1px solid #dddddd'>appliances</td><td style='border: 1px solid #dddddd'>3464</td><td style='border: 1px solid #dddddd'>100_to_500</td><td style='border: 1px solid #dddddd'>greater_7</td><td style='border: 1px solid #dddddd'>3</td><td style='border: 1px solid #dddddd'>male</td><td style='border: 1px solid #dddddd'>guarantor</td><td style='border: 1px solid #dddddd'>4</td><td style='border: 1px solid #dddddd'>savings_insurance</td><td style='border: 1px solid #dddddd'>51</td><td style='border: 1px solid #dddddd'>stores</td><td style='border: 1px solid #dddddd'>free</td><td style='border: 1px solid #dddddd'>1</td><td style='border: 1px solid #dddddd'>skilled</td><td style='border: 1px solid #dddddd'>1</td><td style='border: 1px solid #dddddd'>yes</td><td style='border: 1px solid #dddddd'>yes</td><td style='border: 1px solid #dddddd'>Risk</td><td style='border: 1px solid #dddddd'>2019-05-07 17:47:56.861930+00:00</td></tr><tr><td style='border: 1px solid #dddddd'>no_checking</td><td style='border: 1px solid #dddddd'>23</td><td style='border: 1px solid #dddddd'>outstanding_credit</td><td style='border: 1px solid #dddddd'>car_used</td><td style='border: 1px solid #dddddd'>2681</td><td style='border: 1px solid #dddddd'>500_to_1000</td><td style='border: 1px solid #dddddd'>greater_7</td><td style='border: 1px solid #dddddd'>4</td><td style='border: 1px solid #dddddd'>male</td><td style='border: 1px solid #dddddd'>none</td><td style='border: 1px solid #dddddd'>3</td><td style='border: 1px solid #dddddd'>car_other</td><td style='border: 1px solid #dddddd'>33</td><td style='border: 1px solid #dddddd'>stores</td><td style='border: 1px solid #dddddd'>free</td><td style='border: 1px solid #dddddd'>1</td><td style='border: 1px solid #dddddd'>unskilled</td><td style='border: 1px solid #dddddd'>1</td><td style='border: 1px solid #dddddd'>yes</td><td style='border: 1px solid #dddddd'>yes</td><td style='border: 1px solid #dddddd'>No Risk</td><td style='border: 1px solid #dddddd'>2019-05-07 17:47:56.861930+00:00</td></tr><tr><td style='border: 1px solid #dddddd'>0_to_200</td><td style='border: 1px solid #dddddd'>18</td><td style='border: 1px solid #dddddd'>prior_payments_delayed</td><td style='border: 1px solid #dddddd'>furniture</td><td style='border: 1px solid #dddddd'>1673</td><td style='border: 1px solid #dddddd'>less_100</td><td style='border: 1px solid #dddddd'>1_to_4</td><td style='border: 1px solid #dddddd'>2</td><td style='border: 1px solid #dddddd'>male</td><td style='border: 1px solid #dddddd'>none</td><td style='border: 1px solid #dddddd'>3</td><td style='border: 1px solid #dddddd'>car_other</td><td style='border: 1px solid #dddddd'>30</td><td style='border: 1px solid #dddddd'>none</td><td style='border: 1px solid #dddddd'>own</td><td style='border: 1px solid #dddddd'>2</td><td style='border: 1px solid #dddddd'>skilled</td><td style='border: 1px solid #dddddd'>1</td><td style='border: 1px solid #dddddd'>none</td><td style='border: 1px solid #dddddd'>yes</td><td style='border: 1px solid #dddddd'>Risk</td><td style='border: 1px solid #dddddd'>2019-05-07 17:47:56.861930+00:00</td></tr><tr><td style='border: 1px solid #dddddd'>no_checking</td><td style='border: 1px solid #dddddd'>44</td><td style='border: 1px solid #dddddd'>outstanding_credit</td><td style='border: 1px solid #dddddd'>radio_tv</td><td style='border: 1px solid #dddddd'>3476</td><td style='border: 1px solid #dddddd'>unknown</td><td style='border: 1px solid #dddddd'>greater_7</td><td style='border: 1px solid #dddddd'>4</td><td style='border: 1px solid #dddddd'>male</td><td style='border: 1px solid #dddddd'>co-applicant</td><td style='border: 1px solid #dddddd'>4</td><td style='border: 1px solid #dddddd'>unknown</td><td style='border: 1px solid #dddddd'>60</td><td style='border: 1px solid #dddddd'>none</td><td style='border: 1px solid #dddddd'>free</td><td style='border: 1px solid #dddddd'>2</td><td style='border: 1px solid #dddddd'>skilled</td><td style='border: 1px solid #dddddd'>2</td><td style='border: 1px solid #dddddd'>yes</td><td style='border: 1px solid #dddddd'>yes</td><td style='border: 1px solid #dddddd'>Risk</td><td style='border: 1px solid #dddddd'>2019-05-07 17:47:56.861930+00:00</td></tr><tr><td style='border: 1px solid #dddddd'>less_0</td><td style='border: 1px solid #dddddd'>8</td><td style='border: 1px solid #dddddd'>no_credits</td><td style='border: 1px solid #dddddd'>education</td><td style='border: 1px solid #dddddd'>803</td><td style='border: 1px solid #dddddd'>less_100</td><td style='border: 1px solid #dddddd'>unemployed</td><td style='border: 1px solid #dddddd'>1</td><td style='border: 1px solid #dddddd'>male</td><td style='border: 1px solid #dddddd'>none</td><td style='border: 1px solid #dddddd'>1</td><td style='border: 1px solid #dddddd'>savings_insurance</td><td style='border: 1px solid #dddddd'>19</td><td style='border: 1px solid #dddddd'>stores</td><td style='border: 1px solid #dddddd'>rent</td><td style='border: 1px solid #dddddd'>1</td><td style='border: 1px solid #dddddd'>skilled</td><td style='border: 1px solid #dddddd'>1</td><td style='border: 1px solid #dddddd'>none</td><td style='border: 1px solid #dddddd'>yes</td><td style='border: 1px solid #dddddd'>No Risk</td><td style='border: 1px solid #dddddd'>2019-05-07 17:47:56.861930+00:00</td></tr><tr><td style='border: 1px solid #dddddd'>0_to_200</td><td style='border: 1px solid #dddddd'>7</td><td style='border: 1px solid #dddddd'>all_credits_paid_back</td><td style='border: 1px solid #dddddd'>car_new</td><td style='border: 1px solid #dddddd'>250</td><td style='border: 1px solid #dddddd'>less_100</td><td style='border: 1px solid #dddddd'>unemployed</td><td style='border: 1px solid #dddddd'>1</td><td style='border: 1px solid #dddddd'>male</td><td style='border: 1px solid #dddddd'>none</td><td style='border: 1px solid #dddddd'>1</td><td style='border: 1px solid #dddddd'>real_estate</td><td style='border: 1px solid #dddddd'>19</td><td style='border: 1px solid #dddddd'>stores</td><td style='border: 1px solid #dddddd'>rent</td><td style='border: 1px solid #dddddd'>1</td><td style='border: 1px solid #dddddd'>skilled</td><td style='border: 1px solid #dddddd'>1</td><td style='border: 1px solid #dddddd'>none</td><td style='border: 1px solid #dddddd'>yes</td><td style='border: 1px solid #dddddd'>No Risk</td><td style='border: 1px solid #dddddd'>2019-05-07 17:47:56.861930+00:00</td></tr><tr><td style='border: 1px solid #dddddd'>0_to_200</td><td style='border: 1px solid #dddddd'>33</td><td style='border: 1px solid #dddddd'>credits_paid_to_date</td><td style='border: 1px solid #dddddd'>radio_tv</td><td style='border: 1px solid #dddddd'>3548</td><td style='border: 1px solid #dddddd'>100_to_500</td><td style='border: 1px solid #dddddd'>1_to_4</td><td style='border: 1px solid #dddddd'>3</td><td style='border: 1px solid #dddddd'>male</td><td style='border: 1px solid #dddddd'>none</td><td style='border: 1px solid #dddddd'>4</td><td style='border: 1px solid #dddddd'>car_other</td><td style='border: 1px solid #dddddd'>28</td><td style='border: 1px solid #dddddd'>none</td><td style='border: 1px solid #dddddd'>own</td><td style='border: 1px solid #dddddd'>2</td><td style='border: 1px solid #dddddd'>skilled</td><td style='border: 1px solid #dddddd'>1</td><td style='border: 1px solid #dddddd'>yes</td><td style='border: 1px solid #dddddd'>yes</td><td style='border: 1px solid #dddddd'>Risk</td><td style='border: 1px solid #dddddd'>2019-05-07 17:47:56.861930+00:00</td></tr><tr><td style='border: 1px solid #dddddd'>no_checking</td><td style='border: 1px solid #dddddd'>24</td><td style='border: 1px solid #dddddd'>prior_payments_delayed</td><td style='border: 1px solid #dddddd'>retraining</td><td style='border: 1px solid #dddddd'>4158</td><td style='border: 1px solid #dddddd'>100_to_500</td><td style='border: 1px solid #dddddd'>greater_7</td><td style='border: 1px solid #dddddd'>3</td><td style='border: 1px solid #dddddd'>female</td><td style='border: 1px solid #dddddd'>none</td><td style='border: 1px solid #dddddd'>2</td><td style='border: 1px solid #dddddd'>savings_insurance</td><td style='border: 1px solid #dddddd'>35</td><td style='border: 1px solid #dddddd'>stores</td><td style='border: 1px solid #dddddd'>own</td><td style='border: 1px solid #dddddd'>1</td><td style='border: 1px solid #dddddd'>unskilled</td><td style='border: 1px solid #dddddd'>2</td><td style='border: 1px solid #dddddd'>none</td><td style='border: 1px solid #dddddd'>yes</td><td style='border: 1px solid #dddddd'>Risk</td><td style='border: 1px solid #dddddd'>2019-05-07 17:47:56.861930+00:00</td></tr>\n            </table>\n        </body>\n        </HTML>", 
                        "text/plain": "<IPython.core.display.HTML object>"
                    }, 
                    "metadata": {}
                }
            ], 
            "execution_count": 45
        }, 
        {
            "source": "run_details = subscription.quality_monitoring.run(background_mode=False)", 
            "cell_type": "code", 
            "metadata": {}, 
            "outputs": [
                {
                    "output_type": "stream", 
                    "name": "stdout", 
                    "text": "\n\n================================================================================\n\n Waiting for end of quality monitoring run c5861d45-3bb5-4d28-a7bc-117f80ebe511 \n\n================================================================================\n\n\n\ninitializing.\ncompleted\n\n---------------------------\n Successfully finished run \n---------------------------\n\n\n"
                }
            ], 
            "execution_count": 46
        }, 
        {
            "source": "subscription.quality_monitoring.show_table()", 
            "cell_type": "code", 
            "metadata": {}, 
            "outputs": [
                {
                    "output_type": "display_data", 
                    "data": {
                        "text/html": "<HTML>\n        <body>\n            <h3>QualityMetrics (binding_id=6b7a94a8-04af-4307-9ff1-7652d62f4b96, subscription_id=1b469826-6054-49ba-8f8c-fb53f602d316)</h3>\n            <table style='border: 1px solid #dddddd; font-family: Courier'>\n                <th style='border: 1px solid #dddddd'>ts</th><th style='border: 1px solid #dddddd'>id</th><th style='border: 1px solid #dddddd'>value</th><th style='border: 1px solid #dddddd'>lower limit</th><th style='border: 1px solid #dddddd'>upper limit</th><th style='border: 1px solid #dddddd'>tags</th><th style='border: 1px solid #dddddd'>binding_id</th><th style='border: 1px solid #dddddd'>subscription_id</th><th style='border: 1px solid #dddddd'>deployment_id</th>\n                <tr><td style='border: 1px solid #dddddd'>2019-05-07 17:47:57.560000+00:00</td><td style='border: 1px solid #dddddd'>true_positive_rate</td><td style='border: 1px solid #dddddd'>0.36363636363636365</td><td style='border: 1px solid #dddddd'></td><td style='border: 1px solid #dddddd'></td><td style='border: 1px solid #dddddd'>model_type: original</td><td style='border: 1px solid #dddddd'>6b7a94a8-04af-4307-9ff1-7652d62f4b96</td><td style='border: 1px solid #dddddd'>1b469826-6054-49ba-8f8c-fb53f602d316</td><td style='border: 1px solid #dddddd'>25f12284-f3f7-4e53-8056-ca6cc30749b3</td></tr><tr><td style='border: 1px solid #dddddd'>2019-05-07 17:47:57.560000+00:00</td><td style='border: 1px solid #dddddd'>area_under_roc</td><td style='border: 1px solid #dddddd'>0.6510489510489511</td><td style='border: 1px solid #dddddd'>0.7</td><td style='border: 1px solid #dddddd'></td><td style='border: 1px solid #dddddd'>model_type: original</td><td style='border: 1px solid #dddddd'>6b7a94a8-04af-4307-9ff1-7652d62f4b96</td><td style='border: 1px solid #dddddd'>1b469826-6054-49ba-8f8c-fb53f602d316</td><td style='border: 1px solid #dddddd'>25f12284-f3f7-4e53-8056-ca6cc30749b3</td></tr><tr><td style='border: 1px solid #dddddd'>2019-05-07 17:47:57.560000+00:00</td><td style='border: 1px solid #dddddd'>precision</td><td style='border: 1px solid #dddddd'>0.75</td><td style='border: 1px solid #dddddd'></td><td style='border: 1px solid #dddddd'></td><td style='border: 1px solid #dddddd'>model_type: original</td><td style='border: 1px solid #dddddd'>6b7a94a8-04af-4307-9ff1-7652d62f4b96</td><td style='border: 1px solid #dddddd'>1b469826-6054-49ba-8f8c-fb53f602d316</td><td style='border: 1px solid #dddddd'>25f12284-f3f7-4e53-8056-ca6cc30749b3</td></tr><tr><td style='border: 1px solid #dddddd'>2019-05-07 17:47:57.560000+00:00</td><td style='border: 1px solid #dddddd'>f1_measure</td><td style='border: 1px solid #dddddd'>0.48979591836734687</td><td style='border: 1px solid #dddddd'></td><td style='border: 1px solid #dddddd'></td><td style='border: 1px solid #dddddd'>model_type: original</td><td style='border: 1px solid #dddddd'>6b7a94a8-04af-4307-9ff1-7652d62f4b96</td><td style='border: 1px solid #dddddd'>1b469826-6054-49ba-8f8c-fb53f602d316</td><td style='border: 1px solid #dddddd'>25f12284-f3f7-4e53-8056-ca6cc30749b3</td></tr><tr><td style='border: 1px solid #dddddd'>2019-05-07 17:47:57.560000+00:00</td><td style='border: 1px solid #dddddd'>accuracy</td><td style='border: 1px solid #dddddd'>0.7448979591836735</td><td style='border: 1px solid #dddddd'></td><td style='border: 1px solid #dddddd'></td><td style='border: 1px solid #dddddd'>model_type: original</td><td style='border: 1px solid #dddddd'>6b7a94a8-04af-4307-9ff1-7652d62f4b96</td><td style='border: 1px solid #dddddd'>1b469826-6054-49ba-8f8c-fb53f602d316</td><td style='border: 1px solid #dddddd'>25f12284-f3f7-4e53-8056-ca6cc30749b3</td></tr><tr><td style='border: 1px solid #dddddd'>2019-05-07 17:47:57.560000+00:00</td><td style='border: 1px solid #dddddd'>log_loss</td><td style='border: 1px solid #dddddd'>0.4388731932837974</td><td style='border: 1px solid #dddddd'></td><td style='border: 1px solid #dddddd'></td><td style='border: 1px solid #dddddd'>model_type: original</td><td style='border: 1px solid #dddddd'>6b7a94a8-04af-4307-9ff1-7652d62f4b96</td><td style='border: 1px solid #dddddd'>1b469826-6054-49ba-8f8c-fb53f602d316</td><td style='border: 1px solid #dddddd'>25f12284-f3f7-4e53-8056-ca6cc30749b3</td></tr><tr><td style='border: 1px solid #dddddd'>2019-05-07 17:47:57.560000+00:00</td><td style='border: 1px solid #dddddd'>false_positive_rate</td><td style='border: 1px solid #dddddd'>0.06153846153846154</td><td style='border: 1px solid #dddddd'></td><td style='border: 1px solid #dddddd'></td><td style='border: 1px solid #dddddd'>model_type: original</td><td style='border: 1px solid #dddddd'>6b7a94a8-04af-4307-9ff1-7652d62f4b96</td><td style='border: 1px solid #dddddd'>1b469826-6054-49ba-8f8c-fb53f602d316</td><td style='border: 1px solid #dddddd'>25f12284-f3f7-4e53-8056-ca6cc30749b3</td></tr><tr><td style='border: 1px solid #dddddd'>2019-05-07 17:47:57.560000+00:00</td><td style='border: 1px solid #dddddd'>area_under_pr</td><td style='border: 1px solid #dddddd'>0.6185064935064934</td><td style='border: 1px solid #dddddd'></td><td style='border: 1px solid #dddddd'></td><td style='border: 1px solid #dddddd'>model_type: original</td><td style='border: 1px solid #dddddd'>6b7a94a8-04af-4307-9ff1-7652d62f4b96</td><td style='border: 1px solid #dddddd'>1b469826-6054-49ba-8f8c-fb53f602d316</td><td style='border: 1px solid #dddddd'>25f12284-f3f7-4e53-8056-ca6cc30749b3</td></tr><tr><td style='border: 1px solid #dddddd'>2019-05-07 17:47:57.560000+00:00</td><td style='border: 1px solid #dddddd'>recall</td><td style='border: 1px solid #dddddd'>0.36363636363636365</td><td style='border: 1px solid #dddddd'></td><td style='border: 1px solid #dddddd'></td><td style='border: 1px solid #dddddd'>model_type: original</td><td style='border: 1px solid #dddddd'>6b7a94a8-04af-4307-9ff1-7652d62f4b96</td><td style='border: 1px solid #dddddd'>1b469826-6054-49ba-8f8c-fb53f602d316</td><td style='border: 1px solid #dddddd'>25f12284-f3f7-4e53-8056-ca6cc30749b3</td></tr>\n            </table>\n        </body>\n        </HTML>", 
                        "text/plain": "<IPython.core.display.HTML object>"
                    }, 
                    "metadata": {}
                }
            ], 
            "execution_count": 47
        }, 
        {
            "source": "%matplotlib inline\n\nquality_pd = subscription.quality_monitoring.get_table_content(format='pandas')\nquality_pd.plot.barh(x='id', y='value');", 
            "cell_type": "code", 
            "metadata": {}, 
            "outputs": [
                {
                    "output_type": "display_data", 
                    "data": {
                        "image/png": "[encoded data removed]", 
                        "text/plain": "<matplotlib.figure.Figure at 0x2b6f57900588>"
                    }, 
                    "metadata": {}
                }
            ], 
            "execution_count": 48
        }, 
        {
            "source": "ai_client.data_mart.get_deployment_metrics()", 
            "cell_type": "code", 
            "metadata": {}, 
            "outputs": [
                {
                    "output_type": "execute_result", 
                    "data": {
                        "text/plain": "{'deployment_metrics': [{'asset': {'asset_id': '1b469826-6054-49ba-8f8c-fb53f602d316',\n    'asset_type': 'model',\n    'created_at': '2019-05-07T17:21:30.220Z',\n    'name': 'Spark German Risk Model - Final',\n    'url': 'https://us-south.ml.cloud.ibm.com/v3/wml_instances/6b7a94a8-04af-4307-9ff1-7652d62f4b96/published_models/1b469826-6054-49ba-8f8c-fb53f602d316'},\n   'deployment': {'created_at': '2019-05-07T17:34:20.604Z',\n    'deployment_id': '25f12284-f3f7-4e53-8056-ca6cc30749b3',\n    'deployment_rn': '',\n    'deployment_type': 'online',\n    'name': 'Spark German Risk Deployment - Final',\n    'scoring_endpoint': {'request_headers': {'Content-Type': 'application/json'},\n     'url': 'https://us-south.ml.cloud.ibm.com/v3/wml_instances/6b7a94a8-04af-4307-9ff1-7652d62f4b96/deployments/25f12284-f3f7-4e53-8056-ca6cc30749b3/online'},\n    'url': 'https://us-south.ml.cloud.ibm.com/v3/wml_instances/6b7a94a8-04af-4307-9ff1-7652d62f4b96/deployments/25f12284-f3f7-4e53-8056-ca6cc30749b3'},\n   'metrics': [{'issues': 0,\n     'metric_type': 'performance',\n     'timestamp': '2019-05-07T17:47:40.858Z',\n     'value': {'records': 8, 'response_time': 220.0}},\n    {'issues': 1,\n     'metric_type': 'quality',\n     'timestamp': '2019-05-07T17:47:57.560Z',\n     'value': {'metrics': [{'name': 'true_positive_rate',\n        'value': 0.36363636363636365},\n       {'name': 'area_under_roc', 'value': 0.6510489510489511},\n       {'name': 'precision', 'value': 0.75},\n       {'name': 'f1_measure', 'value': 0.48979591836734687},\n       {'name': 'accuracy', 'value': 0.7448979591836735},\n       {'name': 'log_loss', 'value': 0.4388731932837974},\n       {'name': 'false_positive_rate', 'value': 0.06153846153846154},\n       {'name': 'area_under_pr', 'value': 0.6185064935064934},\n       {'name': 'recall', 'value': 0.36363636363636365}],\n      'quality': 0.6510489510489511,\n      'threshold': 0.7}}],\n   'subscription': {'subscription_id': '1b469826-6054-49ba-8f8c-fb53f602d316',\n    'url': '/v1/data_marts/19ad7b3a-db92-4464-8f62-3a4bf04b8b57/service_bindings/6b7a94a8-04af-4307-9ff1-7652d62f4b96/subscriptions/1b469826-6054-49ba-8f8c-fb53f602d316'}},\n  {'asset': {'asset_id': '2bb6a285-6c1c-4b40-a4fa-8c429d2c7fa4',\n    'asset_type': 'model',\n    'created_at': '2019-04-25T18:55:04.861Z',\n    'name': 'GermanCreditRiskModel',\n    'url': 'https://us-south.ml.cloud.ibm.com/v3/wml_instances/6b7a94a8-04af-4307-9ff1-7652d62f4b96/published_models/2bb6a285-6c1c-4b40-a4fa-8c429d2c7fa4'},\n   'deployment': {'created_at': '2019-04-25T18:55:04.883Z',\n    'deployment_id': '8014a430-e10e-4962-80e8-e70e8a84d6fe',\n    'deployment_rn': '',\n    'deployment_type': 'online',\n    'name': 'GermanCreditRiskModel',\n    'scoring_endpoint': {'request_headers': {'Content-Type': 'application/json'},\n     'url': 'https://us-south.ml.cloud.ibm.com/v3/wml_instances/6b7a94a8-04af-4307-9ff1-7652d62f4b96/deployments/8014a430-e10e-4962-80e8-e70e8a84d6fe/online'},\n    'url': 'https://us-south.ml.cloud.ibm.com/v3/wml_instances/6b7a94a8-04af-4307-9ff1-7652d62f4b96/deployments/8014a430-e10e-4962-80e8-e70e8a84d6fe'},\n   'metrics': [{'issues': 1,\n     'metric_type': 'debiased_fairness',\n     'timestamp': '2019-05-07T16:56:23.319688Z',\n     'value': {'corrected_records': 6,\n      'debiased': True,\n      'manual_labelling_store': 'Manual_Labeling_2bb6a285-6c1c-4b40-a4fa-8c429d2c7fa4',\n      'metrics': [{'bias_source': {'values': [{'fav_percent': 62.22222222222222,\n           'range': '[22,23]'}]},\n        'fairness_threshold': 0.98,\n        'feature': 'Age',\n        'majority': {'total_fav_percent': 78.04878048780488,\n         'total_rows_percent': 40.5940594059406,\n         'values': [{'distribution': {'26': [{'count': 3,\n              'is_favourable': False,\n              'label': 'No Risk'}],\n            '27': [{'count': 2, 'is_favourable': False, 'label': 'No Risk'}],\n            '28': [{'count': 1, 'is_favourable': False, 'label': 'No Risk'},\n             {'count': 1, 'is_favourable': False, 'label': 'Risk'}],\n            '29': [{'count': 1, 'is_favourable': False, 'label': 'No Risk'}],\n            '30': [{'count': 3, 'is_favourable': False, 'label': 'No Risk'}],\n            '31': [{'count': 3, 'is_favourable': False, 'label': 'No Risk'}],\n            '32': [{'count': 4, 'is_favourable': False, 'label': 'No Risk'},\n             {'count': 1, 'is_favourable': False, 'label': 'Risk'}],\n            '33': [{'count': 4, 'is_favourable': False, 'label': 'No Risk'}],\n            '34': [{'count': 1, 'is_favourable': False, 'label': 'Risk'},\n             {'count': 1, 'is_favourable': False, 'label': 'No Risk'}],\n            '36': [{'count': 1, 'is_favourable': False, 'label': 'Risk'},\n             {'count': 3, 'is_favourable': False, 'label': 'No Risk'}],\n            '37': [{'count': 1, 'is_favourable': False, 'label': 'No Risk'}],\n            '38': [{'count': 4, 'is_favourable': False, 'label': 'No Risk'},\n             {'count': 1, 'is_favourable': False, 'label': 'Risk'}],\n            '39': [{'count': 2, 'is_favourable': False, 'label': 'Risk'},\n             {'count': 1, 'is_favourable': False, 'label': 'No Risk'}],\n            '40': [{'count': 2, 'is_favourable': False, 'label': 'No Risk'},\n             {'count': 1, 'is_favourable': False, 'label': 'Risk'}],\n            '41': [{'count': 2, 'is_favourable': False, 'label': 'No Risk'}],\n            '42': [{'count': 1, 'is_favourable': False, 'label': 'No Risk'}],\n            '43': [{'count': 3, 'is_favourable': False, 'label': 'No Risk'},\n             {'count': 1, 'is_favourable': False, 'label': 'Risk'}],\n            '44': [{'count': 1, 'is_favourable': False, 'label': 'No Risk'},\n             {'count': 1, 'is_favourable': False, 'label': 'Risk'}],\n            '45': [{'count': 1, 'is_favourable': False, 'label': 'No Risk'}],\n            '46': [{'count': 2, 'is_favourable': False, 'label': 'No Risk'},\n             {'count': 6, 'is_favourable': False, 'label': 'Risk'}],\n            '48': [{'count': 1, 'is_favourable': False, 'label': 'Risk'}],\n            '49': [{'count': 3, 'is_favourable': False, 'label': 'Risk'}],\n            '50': [{'count': 1, 'is_favourable': False, 'label': 'Risk'},\n             {'count': 2, 'is_favourable': False, 'label': 'No Risk'}],\n            '51': [{'count': 3, 'is_favourable': False, 'label': 'Risk'}],\n            '52': [{'count': 1, 'is_favourable': False, 'label': 'Risk'}],\n            '53': [{'count': 1, 'is_favourable': False, 'label': 'Risk'}],\n            '54': [{'count': 1, 'is_favourable': False, 'label': 'Risk'}],\n            '55': [{'count': 1, 'is_favourable': False, 'label': 'Risk'},\n             {'count': 1, 'is_favourable': False, 'label': 'No Risk'}],\n            '56': [{'count': 1, 'is_favourable': False, 'label': 'Risk'}],\n            '57': [{'count': 2, 'is_favourable': False, 'label': 'Risk'}],\n            '59': [{'count': 1, 'is_favourable': False, 'label': 'Risk'}],\n            '61': [{'count': 1, 'is_favourable': False, 'label': 'Risk'}]},\n           'fav_class_percent': 78.04878048780488,\n           'value': [26, 75]}]},\n        'minority': {'total_fav_percent': 71.11111111111111,\n         'total_rows_percent': 59.4059405940594,\n         'values': [{'distribution': {'19': [{'count': 7,\n              'is_favourable': False,\n              'label': 'No Risk'}],\n            '20': [{'count': 1, 'is_favourable': False, 'label': 'No Risk'}],\n            '21': [{'count': 4, 'is_favourable': False, 'label': 'No Risk'}],\n            '22': [{'count': 2, 'is_favourable': False, 'label': 'No Risk'}],\n            '23': [{'count': 3, 'is_favourable': False, 'label': 'No Risk'}],\n            '24': [{'count': 2, 'is_favourable': False, 'label': 'No Risk'}],\n            '25': [{'count': 3, 'is_favourable': False, 'label': 'No Risk'}]},\n           'fairness_value': 0.911,\n           'fav_class_percent': 71.11111111111111,\n           'is_biased': True,\n           'value': [18, 25]}]}},\n       {'fairness_threshold': 0.98,\n        'feature': 'Sex',\n        'majority': {'total_fav_percent': 73.26732673267327,\n         'total_rows_percent': 50.0,\n         'values': [{'distribution': {'male': [{'count': 38,\n              'is_favourable': False,\n              'label': 'No Risk'},\n             {'count': 22, 'is_favourable': False, 'label': 'Risk'}]},\n           'fav_class_percent': 73.26732673267327,\n           'value': 'male'}]},\n        'minority': {'total_fav_percent': 73.26732673267327,\n         'total_rows_percent': 50.0,\n         'values': [{'distribution': {'female': [{'count': 11,\n              'is_favourable': False,\n              'label': 'Risk'},\n             {'count': 30, 'is_favourable': False, 'label': 'No Risk'}]},\n           'fairness_value': 1.0,\n           'fav_class_percent': 73.26732673267327,\n           'is_biased': False,\n           'value': 'female'}]}}],\n      'perturbed_data_size': 303,\n      'response_time': '4.79',\n      'rows_analyzed': 101,\n      'score_type': 'desperate impact'}},\n    {'issues': 1,\n     'metric_type': 'fairness',\n     'timestamp': '2019-05-07T16:56:23.319688Z',\n     'value': {'manual_labelling_store': 'Manual_Labeling_2bb6a285-6c1c-4b40-a4fa-8c429d2c7fa4',\n      'metrics': [{'bias_source': {'values': []},\n        'fairness_threshold': 0.98,\n        'feature': 'Age',\n        'majority': {'total_fav_percent': 76.8,\n         'total_rows_percent': 41.66666666666667,\n         'values': [{'distribution': {'26': [{'count': 3,\n              'is_favourable': True,\n              'label': 'No Risk'}],\n            '27': [{'count': 3, 'is_favourable': True, 'label': 'No Risk'}],\n            '28': [{'count': 1, 'is_favourable': True, 'label': 'No Risk'},\n             {'count': 1, 'is_favourable': False, 'label': 'Risk'}],\n            '29': [{'count': 3, 'is_favourable': True, 'label': 'No Risk'}],\n            '30': [{'count': 3, 'is_favourable': True, 'label': 'No Risk'}],\n            '31': [{'count': 2, 'is_favourable': True, 'label': 'No Risk'}],\n            '32': [{'count': 4, 'is_favourable': True, 'label': 'No Risk'},\n             {'count': 1, 'is_favourable': False, 'label': 'Risk'}],\n            '33': [{'count': 1, 'is_favourable': True, 'label': 'No Risk'}],\n            '34': [{'count': 1, 'is_favourable': False, 'label': 'Risk'},\n             {'count': 1, 'is_favourable': True, 'label': 'No Risk'}],\n            '35': [{'count': 2, 'is_favourable': True, 'label': 'No Risk'}],\n            '36': [{'count': 1, 'is_favourable': False, 'label': 'Risk'},\n             {'count': 3, 'is_favourable': True, 'label': 'No Risk'}],\n            '37': [{'count': 1, 'is_favourable': True, 'label': 'No Risk'}],\n            '38': [{'count': 1, 'is_favourable': False, 'label': 'Risk'},\n             {'count': 3, 'is_favourable': True, 'label': 'No Risk'}],\n            '39': [{'count': 1, 'is_favourable': True, 'label': 'No Risk'},\n             {'count': 1, 'is_favourable': False, 'label': 'Risk'}],\n            '40': [{'count': 4, 'is_favourable': True, 'label': 'No Risk'},\n             {'count': 1, 'is_favourable': False, 'label': 'Risk'}],\n            '41': [{'count': 1, 'is_favourable': True, 'label': 'No Risk'}],\n            '42': [{'count': 1, 'is_favourable': True, 'label': 'No Risk'}],\n            '43': [{'count': 4, 'is_favourable': True, 'label': 'No Risk'},\n             {'count': 1, 'is_favourable': False, 'label': 'Risk'}],\n            '44': [{'count': 1, 'is_favourable': True, 'label': 'No Risk'},\n             {'count': 1, 'is_favourable': False, 'label': 'Risk'}],\n            '46': [{'count': 2, 'is_favourable': True, 'label': 'No Risk'},\n             {'count': 6, 'is_favourable': False, 'label': 'Risk'}],\n            '49': [{'count': 2, 'is_favourable': False, 'label': 'Risk'}],\n            '50': [{'count': 2, 'is_favourable': True, 'label': 'No Risk'}],\n            '51': [{'count': 2, 'is_favourable': False, 'label': 'Risk'},\n             {'count': 1, 'is_favourable': True, 'label': 'No Risk'}],\n            '52': [{'count': 1, 'is_favourable': False, 'label': 'Risk'}],\n            '53': [{'count': 1, 'is_favourable': False, 'label': 'Risk'}],\n            '54': [{'count': 1, 'is_favourable': False, 'label': 'Risk'}],\n            '55': [{'count': 1, 'is_favourable': False, 'label': 'Risk'},\n             {'count': 1, 'is_favourable': True, 'label': 'No Risk'}],\n            '56': [{'count': 1, 'is_favourable': False, 'label': 'Risk'}],\n            '57': [{'count': 2, 'is_favourable': False, 'label': 'Risk'}],\n            '59': [{'count': 1, 'is_favourable': False, 'label': 'Risk'}]},\n           'fav_class_percent': 76.8,\n           'payload_perturb_distribution': {'26': [{'count': 3,\n              'is_favourable': True,\n              'label': 'No Risk'}],\n            '27': [{'count': 3, 'is_favourable': True, 'label': 'No Risk'}],\n            '28': [{'count': 5, 'is_favourable': True, 'label': 'No Risk'},\n             {'count': 1, 'is_favourable': False, 'label': 'Risk'}],\n            '29': [{'count': 3, 'is_favourable': True, 'label': 'No Risk'}],\n            '30': [{'count': 3, 'is_favourable': True, 'label': 'No Risk'}],\n            '31': [{'count': 2, 'is_favourable': True, 'label': 'No Risk'}],\n            '32': [{'count': 4, 'is_favourable': True, 'label': 'No Risk'},\n             {'count': 1, 'is_favourable': False, 'label': 'Risk'}],\n            '33': [{'count': 1, 'is_favourable': True, 'label': 'No Risk'}],\n            '34': [{'count': 5, 'is_favourable': True, 'label': 'No Risk'},\n             {'count': 1, 'is_favourable': False, 'label': 'Risk'}],\n            '35': [{'count': 2, 'is_favourable': True, 'label': 'No Risk'}],\n            '36': [{'count': 4, 'is_favourable': True, 'label': 'No Risk'},\n             {'count': 1, 'is_favourable': False, 'label': 'Risk'}],\n            '37': [{'count': 1, 'is_favourable': True, 'label': 'No Risk'}],\n            '38': [{'count': 5, 'is_favourable': True, 'label': 'No Risk'},\n             {'count': 1, 'is_favourable': False, 'label': 'Risk'}],\n            '39': [{'count': 1, 'is_favourable': True, 'label': 'No Risk'},\n             {'count': 1, 'is_favourable': False, 'label': 'Risk'}],\n            '40': [{'count': 4, 'is_favourable': True, 'label': 'No Risk'},\n             {'count': 1, 'is_favourable': False, 'label': 'Risk'}],\n            '41': [{'count': 5, 'is_favourable': True, 'label': 'No Risk'}],\n            '42': [{'count': 1, 'is_favourable': True, 'label': 'No Risk'}],\n            '43': [{'count': 4, 'is_favourable': True, 'label': 'No Risk'},\n             {'count': 1, 'is_favourable': False, 'label': 'Risk'}],\n            '44': [{'count': 3, 'is_favourable': True, 'label': 'No Risk'},\n             {'count': 1, 'is_favourable': False, 'label': 'Risk'}],\n            '46': [{'count': 2, 'is_favourable': True, 'label': 'No Risk'},\n             {'count': 6, 'is_favourable': False, 'label': 'Risk'}],\n            '49': [{'count': 2, 'is_favourable': False, 'label': 'Risk'}],\n            '50': [{'count': 7, 'is_favourable': True, 'label': 'No Risk'},\n             {'count': 1, 'is_favourable': False, 'label': 'Risk'}],\n            '51': [{'count': 2, 'is_favourable': False, 'label': 'Risk'},\n             {'count': 1, 'is_favourable': True, 'label': 'No Risk'}],\n            '52': [{'count': 1, 'is_favourable': True, 'label': 'No Risk'},\n             {'count': 1, 'is_favourable': False, 'label': 'Risk'}],\n            '53': [{'count': 1, 'is_favourable': False, 'label': 'Risk'}],\n            '54': [{'count': 1, 'is_favourable': False, 'label': 'Risk'}],\n            '55': [{'count': 1, 'is_favourable': False, 'label': 'Risk'},\n             {'count': 1, 'is_favourable': True, 'label': 'No Risk'}],\n            '56': [{'count': 1, 'is_favourable': False, 'label': 'Risk'}],\n            '57': [{'count': 2, 'is_favourable': False, 'label': 'Risk'}],\n            '59': [{'count': 1, 'is_favourable': False, 'label': 'Risk'}],\n            '69': [{'count': 10, 'is_favourable': True, 'label': 'No Risk'}],\n            '71': [{'count': 2, 'is_favourable': True, 'label': 'No Risk'},\n             {'count': 1, 'is_favourable': False, 'label': 'Risk'}],\n            '72': [{'count': 6, 'is_favourable': True, 'label': 'No Risk'}],\n            '73': [{'count': 2, 'is_favourable': True, 'label': 'No Risk'}],\n            '75': [{'count': 5, 'is_favourable': True, 'label': 'No Risk'}]},\n           'value': [26, 75]}]},\n        'minority': {'total_fav_percent': 78.28571428571428,\n         'total_rows_percent': 58.333333333333336,\n         'values': [{'distribution': {'19': [{'count': 10,\n              'is_favourable': True,\n              'label': 'No Risk'}],\n            '20': [{'count': 1, 'is_favourable': True, 'label': 'No Risk'}],\n            '21': [{'count': 4, 'is_favourable': True, 'label': 'No Risk'}],\n            '22': [{'count': 2, 'is_favourable': True, 'label': 'No Risk'}],\n            '23': [{'count': 3, 'is_favourable': True, 'label': 'No Risk'}],\n            '24': [{'count': 2, 'is_favourable': True, 'label': 'No Risk'}],\n            '25': [{'count': 3, 'is_favourable': True, 'label': 'No Risk'}]},\n           'fairness_value': 1.019,\n           'fav_class_percent': 78.28571428571428,\n           'is_biased': False,\n           'payload_perturb_distribution': {'18': [{'count': 17,\n              'is_favourable': True,\n              'label': 'No Risk'},\n             {'count': 4, 'is_favourable': False, 'label': 'Risk'}],\n            '19': [{'count': 29, 'is_favourable': True, 'label': 'No Risk'},\n             {'count': 5, 'is_favourable': False, 'label': 'Risk'}],\n            '20': [{'count': 11, 'is_favourable': True, 'label': 'No Risk'},\n             {'count': 2, 'is_favourable': False, 'label': 'Risk'}],\n            '21': [{'count': 18, 'is_favourable': True, 'label': 'No Risk'},\n             {'count': 8, 'is_favourable': False, 'label': 'Risk'}],\n            '22': [{'count': 6, 'is_favourable': False, 'label': 'Risk'},\n             {'count': 13, 'is_favourable': True, 'label': 'No Risk'}],\n            '23': [{'count': 19, 'is_favourable': True, 'label': 'No Risk'},\n             {'count': 6, 'is_favourable': False, 'label': 'Risk'}],\n            '24': [{'count': 13, 'is_favourable': True, 'label': 'No Risk'},\n             {'count': 3, 'is_favourable': False, 'label': 'Risk'}],\n            '25': [{'count': 4, 'is_favourable': False, 'label': 'Risk'},\n             {'count': 17, 'is_favourable': True, 'label': 'No Risk'}]},\n           'value': [18, 25]}]}},\n       {'fairness_threshold': 0.98,\n        'feature': 'Sex',\n        'majority': {'total_fav_percent': 78.0,\n         'total_rows_percent': 50.0,\n         'values': [{'distribution': {'male': [{'count': 40,\n              'is_favourable': True,\n              'label': 'No Risk'},\n             {'count': 15, 'is_favourable': False, 'label': 'Risk'}]},\n           'fav_class_percent': 78.0,\n           'payload_perturb_distribution': {'male': [{'count': 22,\n              'is_favourable': False,\n              'label': 'Risk'},\n             {'count': 78, 'is_favourable': True, 'label': 'No Risk'}]},\n           'value': 'male'}]},\n        'minority': {'total_fav_percent': 70.0,\n         'total_rows_percent': 50.0,\n         'values': [{'distribution': {'female': [{'count': 12,\n              'is_favourable': False,\n              'label': 'Risk'},\n             {'count': 33, 'is_favourable': True, 'label': 'No Risk'}]},\n           'fairness_value': 0.897,\n           'fav_class_percent': 70.0,\n           'is_biased': True,\n           'payload_perturb_distribution': {'female': [{'count': 70,\n              'is_favourable': True,\n              'label': 'No Risk'},\n             {'count': 30, 'is_favourable': False, 'label': 'Risk'}]},\n           'value': 'female'}]}}],\n      'perturbed_data_size': 300,\n      'response_time': '4.383858',\n      'rows_analyzed': 100,\n      'score_type': 'desperate impact'}},\n    {'issues': 0,\n     'metric_type': 'performance',\n     'timestamp': '2019-04-25T18:56:19.374Z',\n     'value': {'records': 24, 'response_time': 4970.0}},\n    {'issues': 1,\n     'metric_type': 'quality',\n     'timestamp': '2019-04-25T17:56:15Z',\n     'value': {'metrics': [{'name': 'auroc', 'threshold': 0.8, 'value': 0.77}],\n      'quality': 0.77,\n      'threshold': 0.8}},\n    {'issues': 1,\n     'metric_type': 'quality',\n     'timestamp': '2019-05-07T16:55:19.492Z',\n     'value': {'metrics': [{'name': 'true_positive_rate',\n        'value': 0.4444444444444444},\n       {'name': 'area_under_roc', 'value': 0.6899641577060932},\n       {'name': 'precision', 'value': 0.8},\n       {'name': 'f1_measure', 'value': 0.5714285714285714},\n       {'name': 'accuracy', 'value': 0.7551020408163265},\n       {'name': 'log_loss', 'value': 0.5431961331961216},\n       {'name': 'false_positive_rate', 'value': 0.06451612903225806},\n       {'name': 'area_under_pr', 'value': 0.6798185941043084},\n       {'name': 'recall', 'value': 0.4444444444444444}],\n      'quality': 0.6899641577060932,\n      'threshold': 0.95}}],\n   'subscription': {'subscription_id': '2bb6a285-6c1c-4b40-a4fa-8c429d2c7fa4',\n    'url': '/v1/data_marts/19ad7b3a-db92-4464-8f62-3a4bf04b8b57/service_bindings/6b7a94a8-04af-4307-9ff1-7652d62f4b96/subscriptions/2bb6a285-6c1c-4b40-a4fa-8c429d2c7fa4'}}]}"
                    }, 
                    "execution_count": 49, 
                    "metadata": {}
                }
            ], 
            "execution_count": 49
        }, 
        {
            "source": "# Fairness monitoring and explanations <a name=\"fairness\"></a>", 
            "cell_type": "markdown", 
            "metadata": {}
        }, 
        {
            "source": "The code below configures fairness monitoring for our model. It turns on monitoring for two features, Sex and Age. In each case, we must specify:\n  * Which model feature to monitor\n  * One or more **majority** groups, which are values of that feature that we expect to receive a higher percentage of favorable outcomes\n  * One or more **minority** groups, which are values of that feature that we expect to receive a higher percentage of unfavorable outcomes\n  * The threshold at which we would like OpenScale to display an alert if the fairness measurement falls below (in this case, 95%)\n\nAdditionally, we must specify which outcomes from the model are favourable outcomes, and which are unfavourable. We must also provide the number of records OpenScale will use to calculate the fairness score. In this case, OpenScale's fairness monitor will run hourly, but will not calculate a new fairness rating until at least 200 records have been added. Finally, to calculate fairness, OpenScale must perform some calculations on the training data, so we provide the dataframe containing the data.", 
            "cell_type": "markdown", 
            "metadata": {}
        }, 
        {
            "source": "subscription.fairness_monitoring.enable(\n            features=[\n                Feature(\"Sex\", majority=['male'], minority=['female'], threshold=0.95),\n                Feature(\"Age\", majority=[[26,75]], minority=[[18,25]], threshold=0.95)\n            ],\n            favourable_classes=['No Risk'],\n            unfavourable_classes=['Risk'],\n            min_records=200,\n            training_data=pd_data\n        )", 
            "cell_type": "code", 
            "metadata": {}, 
            "outputs": [], 
            "execution_count": 50
        }, 
        {
            "source": "## Score the model again now that monitoring is configured", 
            "cell_type": "markdown", 
            "metadata": {}
        }, 
        {
            "source": "This next section randomly selects 200 records from the data feed and sends those records to the model for predictions. This is enough to exceed the minimum threshold for records set in the previous section, which allows OpenScale to begin calculating fairness.", 
            "cell_type": "markdown", 
            "metadata": {}
        }, 
        {
            "source": "!rm german_credit_feed.json\n!wget https://raw.githubusercontent.com/emartensibm/german-credit/master/german_credit_feed.json", 
            "cell_type": "code", 
            "metadata": {}, 
            "outputs": [
                {
                    "output_type": "stream", 
                    "name": "stdout", 
                    "text": "rm: cannot remove 'german_credit_feed.json': No such file or directory\n--2019-05-07 17:48:16--  https://raw.githubusercontent.com/emartensibm/german-credit/master/german_credit_feed.json\nResolving raw.githubusercontent.com (raw.githubusercontent.com)... 151.101.48.133\nConnecting to raw.githubusercontent.com (raw.githubusercontent.com)|151.101.48.133|:443... connected.\nHTTP request sent, awaiting response... 200 OK\nLength: 3076547 (2.9M) [text/plain]\nSaving to: 'german_credit_feed.json'\n\ngerman_credit_feed. 100%[===================>]   2.93M  --.-KB/s    in 0.08s   \n\n2019-05-07 17:48:17 (35.0 MB/s) - 'german_credit_feed.json' saved [3076547/3076547]\n\n"
                }
            ], 
            "execution_count": 51
        }, 
        {
            "source": "Score 200 randomly chosen records", 
            "cell_type": "markdown", 
            "metadata": {}
        }, 
        {
            "source": "import random\n\nwith open('german_credit_feed.json', 'r') as scoring_file:\n    scoring_data = json.load(scoring_file)\n\nfields = scoring_data['fields']\nvalues = []\nfor _ in range(200):\n    values.append(random.choice(scoring_data['values']))\npayload_scoring = {\"fields\": fields, \"values\": values}\n\nscoring_response = wml_client.deployments.score(credit_risk_scoring_endpoint, payload_scoring)", 
            "cell_type": "code", 
            "metadata": {}, 
            "outputs": [], 
            "execution_count": 52
        }, 
        {
            "source": "## Run fairness monitor", 
            "cell_type": "markdown", 
            "metadata": {}
        }, 
        {
            "source": "Kick off a fairness monitor run on current data. The monitor runs hourly, but can be manually initiated using the Python client, the REST API, or the graphical user interface.", 
            "cell_type": "markdown", 
            "metadata": {}
        }, 
        {
            "source": "run_details = subscription.fairness_monitoring.run(background_mode=False)", 
            "cell_type": "code", 
            "metadata": {}, 
            "outputs": [
                {
                    "output_type": "stream", 
                    "name": "stdout", 
                    "text": "\n\n=======================================================================\n\n Counting bias for deployment_uid=25f12284-f3f7-4e53-8056-ca6cc30749b3 \n\n=======================================================================\n\n\n\nRUNNING.........\nFINISHED\n\n---------------------------\n Successfully finished run \n---------------------------\n\n\n"
                }
            ], 
            "execution_count": 53
        }, 
        {
            "source": "time.sleep(5)\n\nsubscription.fairness_monitoring.show_table()", 
            "cell_type": "code", 
            "metadata": {}, 
            "outputs": [
                {
                    "output_type": "display_data", 
                    "data": {
                        "text/html": "<HTML>\n        <body>\n            <h3>FairnessMetrics (binding_id=6b7a94a8-04af-4307-9ff1-7652d62f4b96, subscription_id=1b469826-6054-49ba-8f8c-fb53f602d316)</h3>\n            <table style='border: 1px solid #dddddd; font-family: Courier'>\n                <th style='border: 1px solid #dddddd'>ts</th><th style='border: 1px solid #dddddd'>feature</th><th style='border: 1px solid #dddddd'>feature_value</th><th style='border: 1px solid #dddddd'>fairness_biased</th><th style='border: 1px solid #dddddd'>fairness_value</th><th style='border: 1px solid #dddddd'>fairness_fav_class</th><th style='border: 1px solid #dddddd'>binding_id</th><th style='border: 1px solid #dddddd'>subscription_id</th><th style='border: 1px solid #dddddd'>asset_revision</th><th style='border: 1px solid #dddddd'>deployment_id</th><th style='border: 1px solid #dddddd'>process</th>\n                \n            </table>\n        </body>\n        </HTML>", 
                        "text/plain": "<IPython.core.display.HTML object>"
                    }, 
                    "metadata": {}
                }
            ], 
            "execution_count": 54
        }, 
        {
            "source": "## Configure Explainability", 
            "cell_type": "markdown", 
            "metadata": {}
        }, 
        {
            "source": "Finally, we provide OpenScale with the training data to enable and configure the explainability features.", 
            "cell_type": "markdown", 
            "metadata": {}
        }, 
        {
            "source": "from ibm_ai_openscale.supporting_classes import *\nsubscription.explainability.enable(training_data=pd_data)", 
            "cell_type": "code", 
            "metadata": {}, 
            "outputs": [], 
            "execution_count": 55
        }, 
        {
            "source": "explainability_details = subscription.explainability.get_details()", 
            "cell_type": "code", 
            "metadata": {}, 
            "outputs": [], 
            "execution_count": 56
        }, 
        {
            "source": "## Run explanation for sample record", 
            "cell_type": "markdown", 
            "metadata": {}
        }, 
        {
            "source": "transaction_id = subscription.payload_logging.get_table_content(limit=1)['scoring_id'].values[0]\n\nprint(transaction_id)", 
            "cell_type": "code", 
            "metadata": {}, 
            "outputs": [
                {
                    "output_type": "stream", 
                    "name": "stdout", 
                    "text": "6ad7680ab7615f9d3a8ebe1999bf94c8-1\n"
                }
            ], 
            "execution_count": 57
        }, 
        {
            "source": "explain_run = subscription.explainability.run(transaction_id=transaction_id, background_mode=False)", 
            "cell_type": "code", 
            "metadata": {}, 
            "outputs": [
                {
                    "output_type": "stream", 
                    "name": "stdout", 
                    "text": "\n\n================================================================\n\n Looking for explanation for 6ad7680ab7615f9d3a8ebe1999bf94c8-1 \n\n================================================================\n\n\n\nin_progress.........\nfinished\n\n---------------------------\n Successfully finished run \n---------------------------\n\n\n"
                }
            ], 
            "execution_count": 58
        }, 
        {
            "source": "explain_result = pd.DataFrame.from_dict(explain_run['entity']['predictions'][0]['explanation_features'])\nexplain_result.plot.barh(x='feature_name', y='weight', color='g', alpha=0.8);", 
            "cell_type": "code", 
            "metadata": {}, 
            "outputs": [
                {
                    "output_type": "display_data", 
                    "data": {
                        "image/png": "[encoded data removed]", 
                        "text/plain": "<matplotlib.figure.Figure at 0x2b6f649f6518>"
                    }, 
                    "metadata": {}
                }
            ], 
            "execution_count": 59
        }, 
        {
            "source": "# Custom monitors and metrics <a name=\"custom\"></a>", 
            "cell_type": "markdown", 
            "metadata": {}
        }, 
        {
            "source": "## Register custom monitor", 
            "cell_type": "markdown", 
            "metadata": {}
        }, 
        {
            "source": "def get_definition(monitor_name):\n    monitors_definitions = ai_client.data_mart.monitors.get_details()['monitor_definitions']\n    \n    for definition in monitors_definitions:\n        if monitor_name == definition['entity']['name']:\n            return definition\n    \n    return None", 
            "cell_type": "code", 
            "metadata": {}, 
            "outputs": [], 
            "execution_count": 60
        }, 
        {
            "source": "from ibm_ai_openscale.supporting_classes import Metric, Tag\n\nmonitor_name = 'my model performance'\nmetrics = [Metric(name='sensitivity', lower_limit_default=0.8), Metric(name='specificity', lower_limit_default=0.75)]\ntags = [Tag(name='region', description='customer geographical region')]\n\nexisting_definition = get_definition(monitor_name)\n\nif existing_definition is None:\n    my_monitor = ai_client.data_mart.monitors.add(name=monitor_name, metrics=metrics, tags=tags)\nelse:\n    my_monitor = existing_definition", 
            "cell_type": "code", 
            "metadata": {}, 
            "outputs": [], 
            "execution_count": 61
        }, 
        {
            "source": "### List monitors", 
            "cell_type": "markdown", 
            "metadata": {}
        }, 
        {
            "source": "### Get monitors uids and details", 
            "cell_type": "markdown", 
            "metadata": {}
        }, 
        {
            "source": "monitor_uid = my_monitor['metadata']['guid']\n\nprint(monitor_uid)", 
            "cell_type": "code", 
            "metadata": {}, 
            "outputs": [
                {
                    "output_type": "stream", 
                    "name": "stdout", 
                    "text": "my_model_performance\n"
                }
            ], 
            "execution_count": 62
        }, 
        {
            "source": "my_monitor = ai_client.data_mart.monitors.get_details(monitor_uid=monitor_uid)\nprint('monitor definition details', my_monitor)", 
            "cell_type": "code", 
            "metadata": {}, 
            "outputs": [
                {
                    "output_type": "stream", 
                    "name": "stdout", 
                    "text": "monitor definition details {'metadata': {'url': '/v1/data_marts/19ad7b3a-db92-4464-8f62-3a4bf04b8b57/monitor_definitions/my_model_performance', 'guid': 'my_model_performance', 'created_at': '2019-05-07T17:50:51.807Z'}, 'entity': {'tags': [{'required': True, 'name': 'region', 'description': 'customer geographical region', 'id': 'region'}], 'name': 'my model performance', 'metrics': [{'required': True, 'thresholds': [{'default': 0.8, 'type': 'lower_limit'}], 'name': 'sensitivity', 'id': 'sensitivity'}, {'required': True, 'thresholds': [{'default': 0.75, 'type': 'lower_limit'}], 'name': 'specificity', 'id': 'specificity'}]}}\n"
                }
            ], 
            "execution_count": 63
        }, 
        {
            "source": "## Enable custom monitor for subscription", 
            "cell_type": "markdown", 
            "metadata": {}
        }, 
        {
            "source": "from ibm_ai_openscale.supporting_classes import Threshold\n\nthresholds = [Threshold(metric_uid='sensitivity', lower_limit=0.9)]\nsubscription.monitoring.enable(monitor_uid=monitor_uid, thresholds=thresholds)", 
            "cell_type": "code", 
            "metadata": {}, 
            "outputs": [], 
            "execution_count": 64
        }, 
        {
            "source": "### Get monitor configuration details", 
            "cell_type": "markdown", 
            "metadata": {}
        }, 
        {
            "source": "subscription.monitoring.get_details(monitor_uid=monitor_uid)", 
            "cell_type": "code", 
            "metadata": {}, 
            "outputs": [
                {
                    "output_type": "execute_result", 
                    "data": {
                        "text/plain": "{'enabled': True,\n 'monitor_definition': {'entity': {'metrics': [{'id': 'sensitivity',\n     'name': 'sensitivity',\n     'required': True,\n     'thresholds': [{'default': 0.9, 'type': 'lower_limit'}]},\n    {'id': 'specificity', 'name': 'specificity', 'required': True}],\n   'name': 'my model performance',\n   'tags': [{'description': 'customer geographical region',\n     'id': 'region',\n     'name': 'region',\n     'required': True}]},\n  'metadata': {'created_at': '2019-05-07T17:50:51.807Z',\n   'guid': 'my_model_performance',\n   'url': '/v1/data_marts/19ad7b3a-db92-4464-8f62-3a4bf04b8b57/monitor_definitions/my_model_performance'}},\n 'thresholds': [{'metric_id': 'sensitivity',\n   'type': 'lower_limit',\n   'value': 0.9}]}"
                    }, 
                    "execution_count": 65, 
                    "metadata": {}
                }
            ], 
            "execution_count": 65
        }, 
        {
            "source": "## Storing custom metrics", 
            "cell_type": "markdown", 
            "metadata": {}
        }, 
        {
            "source": "metrics = {\"specificity\": 0.78, \"sensitivity\": 0.67, \"region\": \"us-south\"}\n\nsubscription.monitoring.store_metrics(monitor_uid=monitor_uid, metrics=metrics)", 
            "cell_type": "code", 
            "metadata": {}, 
            "outputs": [], 
            "execution_count": 66
        }, 
        {
            "source": "### List and get custom metrics", 
            "cell_type": "markdown", 
            "metadata": {}
        }, 
        {
            "source": "subscription.monitoring.show_table(monitor_uid=monitor_uid)", 
            "cell_type": "code", 
            "metadata": {}, 
            "outputs": [
                {
                    "output_type": "display_data", 
                    "data": {
                        "text/html": "<HTML>\n        <body>\n            <h3>CustomMetrics (binding_id=6b7a94a8-04af-4307-9ff1-7652d62f4b96, subscription_id=1b469826-6054-49ba-8f8c-fb53f602d316)</h3>\n            <table style='border: 1px solid #dddddd; font-family: Courier'>\n                <th style='border: 1px solid #dddddd'>ts</th><th style='border: 1px solid #dddddd'>id</th><th style='border: 1px solid #dddddd'>value</th><th style='border: 1px solid #dddddd'>lower limit</th><th style='border: 1px solid #dddddd'>upper limit</th><th style='border: 1px solid #dddddd'>tags</th><th style='border: 1px solid #dddddd'>binding_id</th><th style='border: 1px solid #dddddd'>subscription_id</th><th style='border: 1px solid #dddddd'>deployment_id</th>\n                <tr><td style='border: 1px solid #dddddd'>2019-05-07 17:51:41.495295+00:00</td><td style='border: 1px solid #dddddd'>sensitivity</td><td style='border: 1px solid #dddddd'>0.67</td><td style='border: 1px solid #dddddd'>0.9</td><td style='border: 1px solid #dddddd'></td><td style='border: 1px solid #dddddd'>region: us-south</td><td style='border: 1px solid #dddddd'>6b7a94a8-04af-4307-9ff1-7652d62f4b96</td><td style='border: 1px solid #dddddd'>1b469826-6054-49ba-8f8c-fb53f602d316</td><td style='border: 1px solid #dddddd'>25f12284-f3f7-4e53-8056-ca6cc30749b3</td></tr><tr><td style='border: 1px solid #dddddd'>2019-05-07 17:51:41.495295+00:00</td><td style='border: 1px solid #dddddd'>specificity</td><td style='border: 1px solid #dddddd'>0.78</td><td style='border: 1px solid #dddddd'></td><td style='border: 1px solid #dddddd'></td><td style='border: 1px solid #dddddd'>region: us-south</td><td style='border: 1px solid #dddddd'>6b7a94a8-04af-4307-9ff1-7652d62f4b96</td><td style='border: 1px solid #dddddd'>1b469826-6054-49ba-8f8c-fb53f602d316</td><td style='border: 1px solid #dddddd'>25f12284-f3f7-4e53-8056-ca6cc30749b3</td></tr>\n            </table>\n        </body>\n        </HTML>", 
                        "text/plain": "<IPython.core.display.HTML object>"
                    }, 
                    "metadata": {}
                }
            ], 
            "execution_count": 67
        }, 
        {
            "source": "custom_metrics = subscription.monitoring.get_metrics(monitor_uid=monitor_uid, deployment_uid='credit')\ncustom_metrics", 
            "cell_type": "code", 
            "metadata": {}, 
            "outputs": [
                {
                    "output_type": "execute_result", 
                    "data": {
                        "text/plain": "[{'asset_id': '1b469826-6054-49ba-8f8c-fb53f602d316',\n  'binding_id': '6b7a94a8-04af-4307-9ff1-7652d62f4b96',\n  'measurement_id': '222ce827-2bf2-49f4-95bb-eff7de37bf52',\n  'metrics': [{'id': 'sensitivity',\n    'lower_limit': 0.9,\n    'measurement_id': None,\n    'value': 0.67},\n   {'id': 'specificity', 'measurement_id': None, 'value': 0.78}],\n  'monitor_definition_id': 'my_model_performance',\n  'subscription_id': '1b469826-6054-49ba-8f8c-fb53f602d316',\n  'tags': [{'id': 'region', 'value': 'us-south'}],\n  'ts': '2019-05-07T17:51:41.495295Z'}]"
                    }, 
                    "execution_count": 68, 
                    "metadata": {}
                }
            ], 
            "execution_count": 68
        }, 
        {
            "source": "custom_metrics_pandas = subscription.monitoring.get_table_content(monitor_uid=monitor_uid)\n\n%matplotlib inline\ncustom_metrics_pandas.plot.barh(x='id', y='value');", 
            "cell_type": "code", 
            "metadata": {}, 
            "outputs": [
                {
                    "output_type": "display_data", 
                    "data": {
                        "image/png": "[encoded data removed]", 
                        "text/plain": "<matplotlib.figure.Figure at 0x2b6f64a858d0>"
                    }, 
                    "metadata": {}
                }
            ], 
            "execution_count": 69
        }, 
        {
            "source": "# Payload analytics <a name=\"analytics\"></a>", 
            "cell_type": "markdown", 
            "metadata": {}
        }, 
        {
            "source": "## Run data distributions calculation", 
            "cell_type": "markdown", 
            "metadata": {}
        }, 
        {
            "source": "from datetime import datetime\n\nstart_date = \"2018-01-01T00:00:00.00Z\"\nend_date = datetime.utcnow().isoformat() + \"Z\"\n\nsex_distribution = subscription.payload_logging.data_distribution.run(\n            start_date=start_date,\n            end_date=end_date,\n            group=['predictedLabel', 'Sex'],\n            agg=['count'])", 
            "cell_type": "code", 
            "metadata": {}, 
            "outputs": [
                {
                    "output_type": "stream", 
                    "name": "stdout", 
                    "text": "\n\n===============================================================================\n\n Waiting for end of data distribution run bba71e99-2337-4535-ab32-50940256ef1b \n\n===============================================================================\n\n\n\nrunning\ncompleted\n\n---------------------------\n Successfully finished run \n---------------------------\n\n\n"
                }
            ], 
            "execution_count": 70
        }, 
        {
            "source": "## Get data distributions as pandas dataframe", 
            "cell_type": "markdown", 
            "metadata": {}
        }, 
        {
            "source": "sex_distribution_run_uid = sex_distribution['id']\ndistributions_pd = subscription.payload_logging.data_distribution.get_run_result(run_id=sex_distribution_run_uid, format='pandas')\ndistributions_pd", 
            "cell_type": "code", 
            "metadata": {}, 
            "outputs": [
                {
                    "output_type": "execute_result", 
                    "data": {
                        "text/html": "<div>\n<style scoped>\n    .dataframe tbody tr th:only-of-type {\n        vertical-align: middle;\n    }\n\n    .dataframe tbody tr th {\n        vertical-align: top;\n    }\n\n    .dataframe thead th {\n        text-align: right;\n    }\n</style>\n<table border=\"1\" class=\"dataframe\">\n  <thead>\n    <tr style=\"text-align: right;\">\n      <th></th>\n      <th>predictedLabel</th>\n      <th>Sex</th>\n      <th>count</th>\n    </tr>\n  </thead>\n  <tbody>\n    <tr>\n      <th>0</th>\n      <td>No Risk</td>\n      <td>female</td>\n      <td>76</td>\n    </tr>\n    <tr>\n      <th>1</th>\n      <td>No Risk</td>\n      <td>male</td>\n      <td>76</td>\n    </tr>\n    <tr>\n      <th>2</th>\n      <td>Risk</td>\n      <td>female</td>\n      <td>3</td>\n    </tr>\n    <tr>\n      <th>3</th>\n      <td>Risk</td>\n      <td>male</td>\n      <td>53</td>\n    </tr>\n  </tbody>\n</table>\n</div>", 
                        "text/plain": "  predictedLabel     Sex  count\n0        No Risk  female     76\n1        No Risk    male     76\n2           Risk  female      3\n3           Risk    male     53"
                    }, 
                    "execution_count": 71, 
                    "metadata": {}
                }
            ], 
            "execution_count": 71
        }, 
        {
            "source": "subscription.payload_logging.data_distribution.show_chart(sex_distribution_run_uid);", 
            "cell_type": "code", 
            "metadata": {}, 
            "outputs": [
                {
                    "output_type": "display_data", 
                    "data": {
                        "image/png": "[encoded data removed]", 
                        "text/plain": "<matplotlib.figure.Figure at 0x2b6f64a818d0>"
                    }, 
                    "metadata": {}
                }
            ], 
            "execution_count": 72
        }, 
        {
            "source": "credit_history_distribution = subscription.payload_logging.data_distribution.run(\n            start_date=start_date,\n            end_date=end_date,\n            group=['predictedLabel', 'CreditHistory'],\n            agg=['count'])", 
            "cell_type": "code", 
            "metadata": {}, 
            "outputs": [
                {
                    "output_type": "stream", 
                    "name": "stdout", 
                    "text": "\n\n===============================================================================\n\n Waiting for end of data distribution run 062940b2-f809-4080-9008-3cf731c77449 \n\n===============================================================================\n\n\n\nrunning\ncompleted\n\n---------------------------\n Successfully finished run \n---------------------------\n\n\n"
                }
            ], 
            "execution_count": 73
        }, 
        {
            "source": "credit_history_distribution_run_uid = credit_history_distribution['id']\n\nsubscription.payload_logging.data_distribution.show_chart(credit_history_distribution_run_uid);", 
            "cell_type": "code", 
            "metadata": {}, 
            "outputs": [
                {
                    "output_type": "display_data", 
                    "data": {
                        "image/png": "[encoded data removed]", 
                        "text/plain": "<matplotlib.figure.Figure at 0x2b6f64ae3278>"
                    }, 
                    "metadata": {}
                }
            ], 
            "execution_count": 74
        }, 
        {
            "source": "# Historical data <a name=\"historical\"></a>", 
            "cell_type": "markdown", 
            "metadata": {}
        }, 
        {
            "source": " ## Insert historical payloads", 
            "cell_type": "markdown", 
            "metadata": {}
        }, 
        {
            "source": "The next section of the notebook downloads and writes historical data to the payload and measurement tables to simulate a production model that has been monitored and receiving regular traffic for the last seven days. This historical data can be viewed in the Watson OpenScale user interface. The code uses the Python and REST APIs to write this data.", 
            "cell_type": "markdown", 
            "metadata": {}
        }, 
        {
            "source": "!rm history_payloads*.json\n!wget https://raw.githubusercontent.com/emartensibm/german-credit/master/model_data/german_credit/history_payloads_0.json\n!wget https://raw.githubusercontent.com/emartensibm/german-credit/master/model_data/german_credit/history_payloads_1.json\n!wget https://raw.githubusercontent.com/emartensibm/german-credit/master/model_data/german_credit/history_payloads_2.json\n!wget https://raw.githubusercontent.com/emartensibm/german-credit/master/model_data/german_credit/history_payloads_3.json\n!wget https://raw.githubusercontent.com/emartensibm/german-credit/master/model_data/german_credit/history_payloads_4.json\n!wget https://raw.githubusercontent.com/emartensibm/german-credit/master/model_data/german_credit/history_payloads_5.json\n!wget https://raw.githubusercontent.com/emartensibm/german-credit/master/model_data/german_credit/history_payloads_6.json", 
            "cell_type": "code", 
            "metadata": {}, 
            "outputs": [
                {
                    "output_type": "stream", 
                    "name": "stdout", 
                    "text": "rm: cannot remove 'history_payloads*.json': No such file or directory\n--2019-05-07 17:54:24--  https://raw.githubusercontent.com/emartensibm/german-credit/master/model_data/german_credit/history_payloads_0.json\nResolving raw.githubusercontent.com (raw.githubusercontent.com)... 199.232.8.133\nConnecting to raw.githubusercontent.com (raw.githubusercontent.com)|199.232.8.133|:443... connected.\nHTTP request sent, awaiting response... 200 OK\nLength: 9569926 (9.1M) [text/plain]\nSaving to: 'history_payloads_0.json'\n\nhistory_payloads_0. 100%[===================>]   9.13M  --.-KB/s    in 0.1s    \n\n2019-05-07 17:54:24 (87.3 MB/s) - 'history_payloads_0.json' saved [9569926/9569926]\n\n--2019-05-07 17:54:25--  https://raw.githubusercontent.com/emartensibm/german-credit/master/model_data/german_credit/history_payloads_1.json\nResolving raw.githubusercontent.com (raw.githubusercontent.com)... 151.101.48.133\nConnecting to raw.githubusercontent.com (raw.githubusercontent.com)|151.101.48.133|:443... connected.\nHTTP request sent, awaiting response... 200 OK\nLength: 9567447 (9.1M) [text/plain]\nSaving to: 'history_payloads_1.json'\n\nhistory_payloads_1. 100%[===================>]   9.12M  --.-KB/s    in 0.1s    \n\n2019-05-07 17:54:30 (85.5 MB/s) - 'history_payloads_1.json' saved [9567447/9567447]\n\n--2019-05-07 17:54:30--  https://raw.githubusercontent.com/emartensibm/german-credit/master/model_data/german_credit/history_payloads_2.json\nResolving raw.githubusercontent.com (raw.githubusercontent.com)... 151.101.48.133\nConnecting to raw.githubusercontent.com (raw.githubusercontent.com)|151.101.48.133|:443... connected.\nHTTP request sent, awaiting response... 200 OK\nLength: 9571799 (9.1M) [text/plain]\nSaving to: 'history_payloads_2.json'\n\nhistory_payloads_2. 100%[===================>]   9.13M  --.-KB/s    in 0.1s    \n\n2019-05-07 17:54:31 (86.7 MB/s) - 'history_payloads_2.json' saved [9571799/9571799]\n\n--2019-05-07 17:54:31--  https://raw.githubusercontent.com/emartensibm/german-credit/master/model_data/german_credit/history_payloads_3.json\nResolving raw.githubusercontent.com (raw.githubusercontent.com)... 199.232.8.133\nConnecting to raw.githubusercontent.com (raw.githubusercontent.com)|199.232.8.133|:443... connected.\nHTTP request sent, awaiting response... 200 OK\nLength: 9573282 (9.1M) [text/plain]\nSaving to: 'history_payloads_3.json'\n\nhistory_payloads_3. 100%[===================>]   9.13M  --.-KB/s    in 0.1s    \n\n2019-05-07 17:54:31 (91.1 MB/s) - 'history_payloads_3.json' saved [9573282/9573282]\n\n--2019-05-07 17:54:32--  https://raw.githubusercontent.com/emartensibm/german-credit/master/model_data/german_credit/history_payloads_4.json\nResolving raw.githubusercontent.com (raw.githubusercontent.com)... 199.232.8.133\nConnecting to raw.githubusercontent.com (raw.githubusercontent.com)|199.232.8.133|:443... connected.\nHTTP request sent, awaiting response... 200 OK\nLength: 9568788 (9.1M) [text/plain]\nSaving to: 'history_payloads_4.json'\n\nhistory_payloads_4. 100%[===================>]   9.12M  --.-KB/s    in 0.1s    \n\n2019-05-07 17:54:33 (70.1 MB/s) - 'history_payloads_4.json' saved [9568788/9568788]\n\n--2019-05-07 17:54:33--  https://raw.githubusercontent.com/emartensibm/german-credit/master/model_data/german_credit/history_payloads_5.json\nResolving raw.githubusercontent.com (raw.githubusercontent.com)... 199.232.8.133\nConnecting to raw.githubusercontent.com (raw.githubusercontent.com)|199.232.8.133|:443... connected.\nHTTP request sent, awaiting response... 200 OK\nLength: 9569249 (9.1M) [text/plain]\nSaving to: 'history_payloads_5.json'\n\nhistory_payloads_5. 100%[===================>]   9.12M  54.9MB/s    in 0.2s    \n\n2019-05-07 17:54:34 (54.9 MB/s) - 'history_payloads_5.json' saved [9569249/9569249]\n\n--2019-05-07 17:54:34--  https://raw.githubusercontent.com/emartensibm/german-credit/master/model_data/german_credit/history_payloads_6.json\nResolving raw.githubusercontent.com (raw.githubusercontent.com)... 199.232.8.133\nConnecting to raw.githubusercontent.com (raw.githubusercontent.com)|199.232.8.133|:443... connected.\nHTTP request sent, awaiting response... 200 OK\nLength: 9568623 (9.1M) [text/plain]\nSaving to: 'history_payloads_6.json'\n\nhistory_payloads_6. 100%[===================>]   9.12M  45.7MB/s    in 0.2s    \n\n2019-05-07 17:54:35 (45.7 MB/s) - 'history_payloads_6.json' saved [9568623/9568623]\n\n"
                }
            ], 
            "execution_count": 75
        }, 
        {
            "source": "historyDays = 7", 
            "cell_type": "code", 
            "metadata": {}, 
            "outputs": [], 
            "execution_count": 76
        }, 
        {
            "source": "from ibm_ai_openscale.supporting_classes import PayloadRecord, Feature\nimport datetime\nimport time\n\nfor day in range(historyDays):\n    print('Loading day {}'.format(day + 1))\n    history_file = 'history_payloads_' + str(day) + '.json'\n    with open(history_file) as f:\n        payloads = json.load(f)\n        hourly_records = int(len(payloads) / 24)\n        index = 0\n        for hour in range(24):\n            recordsList = []\n            for i in range(hourly_records):\n                score_time = str(datetime.datetime.utcnow() + datetime.timedelta(hours=(-(24*day + hour + 1))))\n                recordsList.append(PayloadRecord(request=payloads[index]['request'], response=payloads[index]['response'], scoring_timestamp=score_time))\n                index += 1\n            subscription.payload_logging.store(records=recordsList)\nprint('Finished')", 
            "cell_type": "code", 
            "metadata": {}, 
            "outputs": [
                {
                    "output_type": "stream", 
                    "name": "stdout", 
                    "text": "Loading day 1\nLoading day 2\nLoading day 3\nLoading day 4\nLoading day 5\nLoading day 6\nLoading day 7\nFinished\n"
                }
            ], 
            "execution_count": 77
        }, 
        {
            "source": "data_mart_id = subscription.get_details()['metadata']['url'].split('/service_bindings')[0].split('marts/')[1]\nprint(data_mart_id)", 
            "cell_type": "code", 
            "metadata": {}, 
            "outputs": [
                {
                    "output_type": "stream", 
                    "name": "stdout", 
                    "text": "19ad7b3a-db92-4464-8f62-3a4bf04b8b57\n"
                }
            ], 
            "execution_count": 78
        }, 
        {
            "source": "performance_metrics_url = 'https://api.aiopenscale.cloud.ibm.com' + subscription.get_details()['metadata']['url'].split('/service_bindings')[0] + '/metrics'\nprint(performance_metrics_url)", 
            "cell_type": "code", 
            "metadata": {}, 
            "outputs": [
                {
                    "output_type": "stream", 
                    "name": "stdout", 
                    "text": "https://api.aiopenscale.cloud.ibm.com/v1/data_marts/19ad7b3a-db92-4464-8f62-3a4bf04b8b57/metrics\n"
                }
            ], 
            "execution_count": 79
        }, 
        {
            "source": "## Insert historical fairness metrics", 
            "cell_type": "markdown", 
            "metadata": {}
        }, 
        {
            "source": "!rm history_fairness.json\n!wget https://raw.githubusercontent.com/emartensibm/german-credit/master/model_data/german_credit/history_fairness.json", 
            "cell_type": "code", 
            "metadata": {}, 
            "outputs": [
                {
                    "output_type": "stream", 
                    "name": "stdout", 
                    "text": "rm: cannot remove 'history_fairness.json': No such file or directory\n--2019-05-07 17:55:46--  https://raw.githubusercontent.com/emartensibm/german-credit/master/model_data/german_credit/history_fairness.json\nResolving raw.githubusercontent.com (raw.githubusercontent.com)... 199.232.8.133\nConnecting to raw.githubusercontent.com (raw.githubusercontent.com)|199.232.8.133|:443... connected.\nHTTP request sent, awaiting response... 200 OK\nLength: 562458 (549K) [text/plain]\nSaving to: 'history_fairness.json'\n\nhistory_fairness.js 100%[===================>] 549.28K  --.-KB/s    in 0.02s   \n\n2019-05-07 17:55:47 (23.3 MB/s) - 'history_fairness.json' saved [562458/562458]\n\n"
                }
            ], 
            "execution_count": 80
        }, 
        {
            "source": "token_data = {\n    'grant_type': 'urn:ibm:params:oauth:grant-type:apikey',\n    'response_type': 'cloud_iam',\n    'apikey': AIOS_CREDENTIALS['apikey']\n}\n\nresponse = requests.post('https://iam.bluemix.net/identity/token', data=token_data)\niam_token = response.json()['access_token']\niam_headers = {\n    'Content-Type': 'application/json',\n    'Authorization': 'Bearer %s' % iam_token\n}\n\nwith open('history_fairness.json', 'r') as history_file:\n    payloads = json.load(history_file)\n\nfor day in range(historyDays):\n    print('Loading day', day + 1)\n    for hour in range(24):\n        score_time = (datetime.datetime.utcnow() + datetime.timedelta(hours=(-(24*day + hour + 1)))).strftime('%Y-%m-%dT%H:%M:%SZ')\n        index = (day * 24 + hour) % len(payloads) # wrap around and reuse values if needed\n        \n        qualityMetric = {\n            'metric_type': 'fairness',\n            'binding_id': binding_uid,\n            'timestamp': score_time,\n            'subscription_id': model_uid,\n            'asset_revision': model_uid,\n            'deployment_id': deployment_uid,\n            'value': payloads[index]\n        }\n\n        response = requests.post(performance_metrics_url, json=[qualityMetric], headers=iam_headers)\nprint('Finished')", 
            "cell_type": "code", 
            "metadata": {}, 
            "outputs": [
                {
                    "output_type": "stream", 
                    "name": "stdout", 
                    "text": "Loading day 1\nLoading day 2\nLoading day 3\nLoading day 4\nLoading day 5\nLoading day 6\nLoading day 7\nFinished\n"
                }
            ], 
            "execution_count": 81
        }, 
        {
            "source": "## Insert historical debias metrics", 
            "cell_type": "markdown", 
            "metadata": {}
        }, 
        {
            "source": "!rm history_debias.json\n!wget https://raw.githubusercontent.com/emartensibm/german-credit/master/model_data/german_credit/history_debias.json", 
            "cell_type": "code", 
            "metadata": {}, 
            "outputs": [
                {
                    "output_type": "stream", 
                    "name": "stdout", 
                    "text": "rm: cannot remove 'history_debias.json': No such file or directory\n--2019-05-07 17:56:08--  https://raw.githubusercontent.com/emartensibm/german-credit/master/model_data/german_credit/history_debias.json\nResolving raw.githubusercontent.com (raw.githubusercontent.com)... 199.232.8.133\nConnecting to raw.githubusercontent.com (raw.githubusercontent.com)|199.232.8.133|:443... connected.\nHTTP request sent, awaiting response... 200 OK\nLength: 565971 (553K) [text/plain]\nSaving to: 'history_debias.json'\n\nhistory_debias.json 100%[===================>] 552.71K  --.-KB/s    in 0.02s   \n\n2019-05-07 17:56:08 (24.9 MB/s) - 'history_debias.json' saved [565971/565971]\n\n"
                }
            ], 
            "execution_count": 82
        }, 
        {
            "source": "token_data = {\n    'grant_type': 'urn:ibm:params:oauth:grant-type:apikey',\n    'response_type': 'cloud_iam',\n    'apikey': AIOS_CREDENTIALS['apikey']\n}\n\nresponse = requests.post('https://iam.bluemix.net/identity/token', data=token_data)\niam_token = response.json()['access_token']\niam_headers = {\n    'Content-Type': 'application/json',\n    'Authorization': 'Bearer %s' % iam_token\n}\n\nwith open('history_debias.json', 'r') as history_file:\n    payloads = json.load(history_file)\n\nfor day in range(historyDays):\n    print('Loading day', day + 1)\n    for hour in range(24):\n        score_time = (datetime.datetime.utcnow() + datetime.timedelta(hours=(-(24*day + hour + 1)))).strftime('%Y-%m-%dT%H:%M:%SZ')\n        index = (day * 24 + hour) % len(payloads) # wrap around and reuse values if needed\n\n        qualityMetric = {\n            'metric_type': 'debiased_fairness',\n            'binding_id': binding_uid,\n            'timestamp': score_time,\n            'subscription_id': model_uid,\n            'asset_revision': model_uid,\n            'deployment_id': deployment_uid,\n            'value': payloads[index]\n        }\n\n        response = requests.post(performance_metrics_url, json=[qualityMetric], headers=iam_headers)\nprint('Finished')", 
            "cell_type": "code", 
            "metadata": {}, 
            "outputs": [
                {
                    "output_type": "stream", 
                    "name": "stdout", 
                    "text": "Loading day 1\nLoading day 2\nLoading day 3\nLoading day 4\nLoading day 5\nLoading day 6\nLoading day 7\nFinished\n"
                }
            ], 
            "execution_count": 83
        }, 
        {
            "source": "## Insert historical quality metrics", 
            "cell_type": "markdown", 
            "metadata": {}
        }, 
        {
            "source": "token_data = {\n    'grant_type': 'urn:ibm:params:oauth:grant-type:apikey',\n    'response_type': 'cloud_iam',\n    'apikey': AIOS_CREDENTIALS['apikey']\n}\n\nresponse = requests.post('https://iam.bluemix.net/identity/token', data=token_data)\niam_token = response.json()['access_token']\niam_headers = {\n    'Content-Type': 'application/json',\n    'Authorization': 'Bearer %s' % iam_token\n}\n\nmeasurements = [0.76, 0.78, 0.68, 0.72, 0.73, 0.77, 0.80]\nfor day in range(historyDays):\n    print('Day', day + 1)\n    for hour in range(24):\n        score_time = (datetime.datetime.utcnow() + datetime.timedelta(hours=(-(24*day + hour + 1)))).strftime('%Y-%m-%dT%H:%M:%SZ')\n        qualityMetric = {\n            'metric_type': 'quality',\n            'binding_id': binding_uid,\n            'timestamp': score_time,\n            'subscription_id': model_uid,\n            'asset_revision': model_uid,\n            'deployment_id': deployment_uid,\n            'value': {\n                'quality': measurements[day],\n                'threshold': 0.7,\n                'metrics': [\n                    {\n                        'name': 'auroc',\n                        'value': measurements[day],\n                        'threshold': 0.7\n                    }\n                ]\n            }\n        }\n\n        response = requests.post(performance_metrics_url, json=[qualityMetric], headers=iam_headers)\nprint('Finished')", 
            "cell_type": "code", 
            "metadata": {}, 
            "outputs": [
                {
                    "output_type": "stream", 
                    "name": "stdout", 
                    "text": "Day 1\nDay 2\nDay 3\nDay 4\nDay 5\nDay 6\nDay 7\nFinished\n"
                }
            ], 
            "execution_count": 84
        }, 
        {
            "source": "## Insert historical performance metrics", 
            "cell_type": "markdown", 
            "metadata": {}
        }, 
        {
            "source": "token_data = {\n    'grant_type': 'urn:ibm:params:oauth:grant-type:apikey',\n    'response_type': 'cloud_iam',\n    'apikey': AIOS_CREDENTIALS['apikey']\n}\n\nresponse = requests.post('https://iam.bluemix.net/identity/token', data=token_data)\niam_token = response.json()['access_token']\niam_headers = {\n    'Content-Type': 'application/json',\n    'Authorization': 'Bearer %s' % iam_token\n}\n\nfor day in range(historyDays):\n    print('Day', day + 1)\n    for hour in range(24):\n        score_time = (datetime.datetime.utcnow() + datetime.timedelta(hours=(-(24*day + hour + 1)))).strftime('%Y-%m-%dT%H:%M:%SZ')\n        score_count = random.randint(60, 600)\n        score_resp = random.uniform(60, 300)\n\n        performanceMetric = {\n            'metric_type': 'performance',\n            'binding_id': binding_uid,\n            'timestamp': score_time,\n            'subscription_id': model_uid,\n            'asset_revision': model_uid,\n            'deployment_id': deployment_uid,\n            'value': {\n                'response_time': score_resp,\n                'records': score_count\n            }\n        }\n\n        response = requests.post(performance_metrics_url, json=[performanceMetric], headers=iam_headers)\nprint('Finished')", 
            "cell_type": "code", 
            "metadata": {}, 
            "outputs": [
                {
                    "output_type": "stream", 
                    "name": "stdout", 
                    "text": "Day 1\nDay 2\nDay 3\nDay 4\nDay 5\nDay 6\nDay 7\nFinished\n"
                }
            ], 
            "execution_count": 85
        }, 
        {
            "source": "## Insert historical manual labeling", 
            "cell_type": "markdown", 
            "metadata": {}
        }, 
        {
            "source": "manual_labeling_url = 'https://api.aiopenscale.cloud.ibm.com' + subscription.get_details()['metadata']['url'].split('/service_bindings')[0] + '/manual_labelings'\nprint(manual_labeling_url)", 
            "cell_type": "code", 
            "metadata": {}, 
            "outputs": [
                {
                    "output_type": "stream", 
                    "name": "stdout", 
                    "text": "https://api.aiopenscale.cloud.ibm.com/v1/data_marts/19ad7b3a-db92-4464-8f62-3a4bf04b8b57/manual_labelings\n"
                }
            ], 
            "execution_count": 86
        }, 
        {
            "source": "!rm history_manual_labeling.json\n!wget https://raw.githubusercontent.com/emartensibm/german-credit/master/model_data/german_credit/history_manual_labeling.json", 
            "cell_type": "code", 
            "metadata": {}, 
            "outputs": [
                {
                    "output_type": "stream", 
                    "name": "stdout", 
                    "text": "rm: cannot remove 'history_manual_labeling.json': No such file or directory\n--2019-05-07 17:56:55--  https://raw.githubusercontent.com/emartensibm/german-credit/master/model_data/german_credit/history_manual_labeling.json\nResolving raw.githubusercontent.com (raw.githubusercontent.com)... 151.101.48.133\nConnecting to raw.githubusercontent.com (raw.githubusercontent.com)|151.101.48.133|:443... connected.\nHTTP request sent, awaiting response... 200 OK\nLength: 947956 (926K) [text/plain]\nSaving to: 'history_manual_labeling.json'\n\nhistory_manual_labe 100%[===================>] 925.74K  --.-KB/s    in 0.03s   \n\n2019-05-07 17:56:55 (30.7 MB/s) - 'history_manual_labeling.json' saved [947956/947956]\n\n"
                }
            ], 
            "execution_count": 87
        }, 
        {
            "source": "token_data = {\n    'grant_type': 'urn:ibm:params:oauth:grant-type:apikey',\n    'response_type': 'cloud_iam',\n    'apikey': AIOS_CREDENTIALS['apikey']\n}\n\nresponse = requests.post('https://iam.bluemix.net/identity/token', data=token_data)\niam_token = response.json()['access_token']\niam_headers = {\n    'Content-Type': 'application/json',\n    'Authorization': 'Bearer %s' % iam_token\n}\n\nwith open('history_manual_labeling.json', 'r') as history_file:\n    records = json.load(history_file)\n\nfor day in range(historyDays):\n    print('Loading day', day + 1)\n    record_json = []\n    for hour in range(24):\n        for record in records:\n            if record['fastpath_history_day'] == day and record['fastpath_history_hour'] == hour:\n                record['binding_id'] = binding_uid\n                record['subscription_id'] = model_uid\n                record['asset_revision'] = model_uid\n                record['deployment_id'] = deployment_uid\n                record['scoring_timestamp'] = (datetime.datetime.utcnow() + datetime.timedelta(hours=(-(24*day + hour + 1)))).strftime('%Y-%m-%dT%H:%M:%SZ')\n                record_json.append(record)\n    response = requests.post(manual_labeling_url, json=record_json, headers=iam_headers)\n\nprint('Finished')", 
            "cell_type": "code", 
            "metadata": {}, 
            "outputs": [
                {
                    "output_type": "stream", 
                    "name": "stdout", 
                    "text": "Loading day 1\nLoading day 2\nLoading day 3\nLoading day 4\nLoading day 5\nLoading day 6\nLoading day 7\nFinished\n"
                }
            ], 
            "execution_count": 88
        }, 
        {
            "source": "## Additional data to help debugging", 
            "cell_type": "markdown", 
            "metadata": {}
        }, 
        {
            "source": "print('Datamart:', data_mart_id)\nprint('Model:', model_uid)\nprint('Deployment:', deployment_uid)\nprint('Binding:', binding_uid)\nprint('Scoring URL:', credit_risk_scoring_endpoint)", 
            "cell_type": "code", 
            "metadata": {}, 
            "outputs": [
                {
                    "output_type": "stream", 
                    "name": "stdout", 
                    "text": "Datamart: 19ad7b3a-db92-4464-8f62-3a4bf04b8b57\nModel: 1b469826-6054-49ba-8f8c-fb53f602d316\nDeployment: 25f12284-f3f7-4e53-8056-ca6cc30749b3\nBinding: 6b7a94a8-04af-4307-9ff1-7652d62f4b96\nScoring URL: https://us-south.ml.cloud.ibm.com/v3/wml_instances/6b7a94a8-04af-4307-9ff1-7652d62f4b96/deployments/25f12284-f3f7-4e53-8056-ca6cc30749b3/online\n"
                }
            ], 
            "execution_count": 89
        }, 
        {
            "source": "## Identify transactions for Explainability", 
            "cell_type": "markdown", 
            "metadata": {}
        }, 
        {
            "source": "Transaction IDs identified by the cells below can be copied and pasted into the Explainability tab of the OpenScale dashboard.", 
            "cell_type": "markdown", 
            "metadata": {}
        }, 
        {
            "source": "payload_data = subscription.payload_logging.get_table_content(limit=60)\npayload_data.filter(items=['scoring_id', 'predictedLabel', 'probability'])", 
            "cell_type": "code", 
            "metadata": {}, 
            "outputs": [
                {
                    "output_type": "execute_result", 
                    "data": {
                        "text/html": "<div>\n<style scoped>\n    .dataframe tbody tr th:only-of-type {\n        vertical-align: middle;\n    }\n\n    .dataframe tbody tr th {\n        vertical-align: top;\n    }\n\n    .dataframe thead th {\n        text-align: right;\n    }\n</style>\n<table border=\"1\" class=\"dataframe\">\n  <thead>\n    <tr style=\"text-align: right;\">\n      <th></th>\n      <th>scoring_id</th>\n      <th>predictedLabel</th>\n      <th>probability</th>\n    </tr>\n  </thead>\n  <tbody>\n    <tr>\n      <th>0</th>\n      <td>6ad7680ab7615f9d3a8ebe1999bf94c8-126</td>\n      <td>No Risk</td>\n      <td>[0.877314120672964, 0.12268587932703597]</td>\n    </tr>\n    <tr>\n      <th>1</th>\n      <td>6ad7680ab7615f9d3a8ebe1999bf94c8-151</td>\n      <td>No Risk</td>\n      <td>[0.9072375670631789, 0.09276243293682107]</td>\n    </tr>\n    <tr>\n      <th>2</th>\n      <td>6ad7680ab7615f9d3a8ebe1999bf94c8-111</td>\n      <td>Risk</td>\n      <td>[0.4579236438987758, 0.5420763561012242]</td>\n    </tr>\n    <tr>\n      <th>3</th>\n      <td>6ad7680ab7615f9d3a8ebe1999bf94c8-125</td>\n      <td>Risk</td>\n      <td>[0.44636700256841133, 0.5536329974315887]</td>\n    </tr>\n    <tr>\n      <th>4</th>\n      <td>6ad7680ab7615f9d3a8ebe1999bf94c8-14</td>\n      <td>No Risk</td>\n      <td>[0.6412726483588179, 0.35872735164118214]</td>\n    </tr>\n    <tr>\n      <th>5</th>\n      <td>6ad7680ab7615f9d3a8ebe1999bf94c8-150</td>\n      <td>No Risk</td>\n      <td>[0.6740295360248705, 0.32597046397512963]</td>\n    </tr>\n    <tr>\n      <th>6</th>\n      <td>6ad7680ab7615f9d3a8ebe1999bf94c8-104</td>\n      <td>No Risk</td>\n      <td>[0.9741930671578395, 0.02580693284216045]</td>\n    </tr>\n    <tr>\n      <th>7</th>\n      <td>6ad7680ab7615f9d3a8ebe1999bf94c8-110</td>\n      <td>Risk</td>\n      <td>[0.3163883796514491, 0.6836116203485509]</td>\n    </tr>\n    <tr>\n      <th>8</th>\n      <td>6ad7680ab7615f9d3a8ebe1999bf94c8-118</td>\n      <td>No Risk</td>\n      <td>[0.75702996187618, 0.24297003812382]</td>\n    </tr>\n    <tr>\n      <th>9</th>\n      <td>6ad7680ab7615f9d3a8ebe1999bf94c8-124</td>\n      <td>No Risk</td>\n      <td>[0.8913714148100779, 0.10862858518992217]</td>\n    </tr>\n    <tr>\n      <th>10</th>\n      <td>6ad7680ab7615f9d3a8ebe1999bf94c8-132</td>\n      <td>No Risk</td>\n      <td>[0.7921030843460161, 0.20789691565398385]</td>\n    </tr>\n    <tr>\n      <th>11</th>\n      <td>6ad7680ab7615f9d3a8ebe1999bf94c8-139</td>\n      <td>No Risk</td>\n      <td>[0.6549933097189481, 0.34500669028105185]</td>\n    </tr>\n    <tr>\n      <th>12</th>\n      <td>6ad7680ab7615f9d3a8ebe1999bf94c8-146</td>\n      <td>No Risk</td>\n      <td>[0.8652466272451342, 0.1347533727548659]</td>\n    </tr>\n    <tr>\n      <th>13</th>\n      <td>6ad7680ab7615f9d3a8ebe1999bf94c8-15</td>\n      <td>Risk</td>\n      <td>[0.3999134882011302, 0.6000865117988698]</td>\n    </tr>\n    <tr>\n      <th>14</th>\n      <td>6ad7680ab7615f9d3a8ebe1999bf94c8-100</td>\n      <td>No Risk</td>\n      <td>[0.953738366078511, 0.04626163392148892]</td>\n    </tr>\n    <tr>\n      <th>15</th>\n      <td>6ad7680ab7615f9d3a8ebe1999bf94c8-103</td>\n      <td>No Risk</td>\n      <td>[0.8222568786111639, 0.17774312138883613]</td>\n    </tr>\n    <tr>\n      <th>16</th>\n      <td>6ad7680ab7615f9d3a8ebe1999bf94c8-107</td>\n      <td>No Risk</td>\n      <td>[0.7740025708481295, 0.22599742915187057]</td>\n    </tr>\n    <tr>\n      <th>17</th>\n      <td>6ad7680ab7615f9d3a8ebe1999bf94c8-11</td>\n      <td>No Risk</td>\n      <td>[0.6265072098759512, 0.37349279012404885]</td>\n    </tr>\n    <tr>\n      <th>18</th>\n      <td>6ad7680ab7615f9d3a8ebe1999bf94c8-114</td>\n      <td>No Risk</td>\n      <td>[0.7370047798177629, 0.26299522018223714]</td>\n    </tr>\n    <tr>\n      <th>19</th>\n      <td>6ad7680ab7615f9d3a8ebe1999bf94c8-117</td>\n      <td>Risk</td>\n      <td>[0.48500337434860646, 0.5149966256513936]</td>\n    </tr>\n    <tr>\n      <th>20</th>\n      <td>6ad7680ab7615f9d3a8ebe1999bf94c8-120</td>\n      <td>Risk</td>\n      <td>[0.39544928488598574, 0.6045507151140143]</td>\n    </tr>\n    <tr>\n      <th>21</th>\n      <td>6ad7680ab7615f9d3a8ebe1999bf94c8-123</td>\n      <td>Risk</td>\n      <td>[0.34581929668962563, 0.6541807033103744]</td>\n    </tr>\n    <tr>\n      <th>22</th>\n      <td>6ad7680ab7615f9d3a8ebe1999bf94c8-129</td>\n      <td>No Risk</td>\n      <td>[0.7371316964148855, 0.2628683035851144]</td>\n    </tr>\n    <tr>\n      <th>23</th>\n      <td>6ad7680ab7615f9d3a8ebe1999bf94c8-131</td>\n      <td>No Risk</td>\n      <td>[0.9518737113773245, 0.04812628862267552]</td>\n    </tr>\n    <tr>\n      <th>24</th>\n      <td>6ad7680ab7615f9d3a8ebe1999bf94c8-135</td>\n      <td>No Risk</td>\n      <td>[0.7701556273930942, 0.22984437260690588]</td>\n    </tr>\n    <tr>\n      <th>25</th>\n      <td>6ad7680ab7615f9d3a8ebe1999bf94c8-138</td>\n      <td>No Risk</td>\n      <td>[0.7626656583188961, 0.23733434168110387]</td>\n    </tr>\n    <tr>\n      <th>26</th>\n      <td>6ad7680ab7615f9d3a8ebe1999bf94c8-142</td>\n      <td>No Risk</td>\n      <td>[0.948802183447139, 0.05119781655286112]</td>\n    </tr>\n    <tr>\n      <th>27</th>\n      <td>6ad7680ab7615f9d3a8ebe1999bf94c8-145</td>\n      <td>No Risk</td>\n      <td>[0.6727270542896596, 0.3272729457103404]</td>\n    </tr>\n    <tr>\n      <th>28</th>\n      <td>6ad7680ab7615f9d3a8ebe1999bf94c8-148</td>\n      <td>No Risk</td>\n      <td>[0.7199679760646773, 0.2800320239353227]</td>\n    </tr>\n    <tr>\n      <th>29</th>\n      <td>6ad7680ab7615f9d3a8ebe1999bf94c8-149</td>\n      <td>Risk</td>\n      <td>[0.3454633471739502, 0.6545366528260499]</td>\n    </tr>\n    <tr>\n      <th>30</th>\n      <td>6ad7680ab7615f9d3a8ebe1999bf94c8-1</td>\n      <td>No Risk</td>\n      <td>[0.8737694410979369, 0.12623055890206303]</td>\n    </tr>\n    <tr>\n      <th>31</th>\n      <td>6ad7680ab7615f9d3a8ebe1999bf94c8-10</td>\n      <td>No Risk</td>\n      <td>[0.9253553811741837, 0.07464461882581633]</td>\n    </tr>\n    <tr>\n      <th>32</th>\n      <td>6ad7680ab7615f9d3a8ebe1999bf94c8-101</td>\n      <td>Risk</td>\n      <td>[0.42239733252670086, 0.5776026674732992]</td>\n    </tr>\n    <tr>\n      <th>33</th>\n      <td>6ad7680ab7615f9d3a8ebe1999bf94c8-102</td>\n      <td>Risk</td>\n      <td>[0.1577027244611825, 0.8422972755388175]</td>\n    </tr>\n    <tr>\n      <th>34</th>\n      <td>6ad7680ab7615f9d3a8ebe1999bf94c8-105</td>\n      <td>Risk</td>\n      <td>[0.11908438488782122, 0.8809156151121786]</td>\n    </tr>\n    <tr>\n      <th>35</th>\n      <td>6ad7680ab7615f9d3a8ebe1999bf94c8-106</td>\n      <td>Risk</td>\n      <td>[0.1414998367259522, 0.8585001632740479]</td>\n    </tr>\n    <tr>\n      <th>36</th>\n      <td>6ad7680ab7615f9d3a8ebe1999bf94c8-108</td>\n      <td>No Risk</td>\n      <td>[0.8403972042098402, 0.1596027957901598]</td>\n    </tr>\n    <tr>\n      <th>37</th>\n      <td>6ad7680ab7615f9d3a8ebe1999bf94c8-109</td>\n      <td>No Risk</td>\n      <td>[0.9616401650017078, 0.038359834998292104]</td>\n    </tr>\n    <tr>\n      <th>38</th>\n      <td>6ad7680ab7615f9d3a8ebe1999bf94c8-112</td>\n      <td>Risk</td>\n      <td>[0.25800654098634446, 0.7419934590136557]</td>\n    </tr>\n    <tr>\n      <th>39</th>\n      <td>6ad7680ab7615f9d3a8ebe1999bf94c8-113</td>\n      <td>Risk</td>\n      <td>[0.12623886620814795, 0.873761133791852]</td>\n    </tr>\n    <tr>\n      <th>40</th>\n      <td>6ad7680ab7615f9d3a8ebe1999bf94c8-115</td>\n      <td>No Risk</td>\n      <td>[0.7369003245305993, 0.2630996754694007]</td>\n    </tr>\n    <tr>\n      <th>41</th>\n      <td>6ad7680ab7615f9d3a8ebe1999bf94c8-116</td>\n      <td>No Risk</td>\n      <td>[0.9318767836217975, 0.06812321637820248]</td>\n    </tr>\n    <tr>\n      <th>42</th>\n      <td>6ad7680ab7615f9d3a8ebe1999bf94c8-119</td>\n      <td>No Risk</td>\n      <td>[0.9093617927886326, 0.09063820721136731]</td>\n    </tr>\n    <tr>\n      <th>43</th>\n      <td>6ad7680ab7615f9d3a8ebe1999bf94c8-12</td>\n      <td>No Risk</td>\n      <td>[0.9409760296546901, 0.05902397034530986]</td>\n    </tr>\n    <tr>\n      <th>44</th>\n      <td>6ad7680ab7615f9d3a8ebe1999bf94c8-121</td>\n      <td>No Risk</td>\n      <td>[0.6436863470963401, 0.35631365290365996]</td>\n    </tr>\n    <tr>\n      <th>45</th>\n      <td>6ad7680ab7615f9d3a8ebe1999bf94c8-122</td>\n      <td>No Risk</td>\n      <td>[0.8530082822934281, 0.1469917177065719]</td>\n    </tr>\n    <tr>\n      <th>46</th>\n      <td>6ad7680ab7615f9d3a8ebe1999bf94c8-127</td>\n      <td>No Risk</td>\n      <td>[0.7675598190325377, 0.23244018096746225]</td>\n    </tr>\n    <tr>\n      <th>47</th>\n      <td>6ad7680ab7615f9d3a8ebe1999bf94c8-128</td>\n      <td>No Risk</td>\n      <td>[0.5867606029199798, 0.4132393970800202]</td>\n    </tr>\n    <tr>\n      <th>48</th>\n      <td>6ad7680ab7615f9d3a8ebe1999bf94c8-13</td>\n      <td>No Risk</td>\n      <td>[0.6263647798434412, 0.3736352201565589]</td>\n    </tr>\n    <tr>\n      <th>49</th>\n      <td>6ad7680ab7615f9d3a8ebe1999bf94c8-130</td>\n      <td>No Risk</td>\n      <td>[0.9741930671578395, 0.02580693284216045]</td>\n    </tr>\n    <tr>\n      <th>50</th>\n      <td>6ad7680ab7615f9d3a8ebe1999bf94c8-133</td>\n      <td>No Risk</td>\n      <td>[0.7852370237323966, 0.2147629762676034]</td>\n    </tr>\n    <tr>\n      <th>51</th>\n      <td>6ad7680ab7615f9d3a8ebe1999bf94c8-134</td>\n      <td>No Risk</td>\n      <td>[0.9361540183235115, 0.06384598167648843]</td>\n    </tr>\n    <tr>\n      <th>52</th>\n      <td>6ad7680ab7615f9d3a8ebe1999bf94c8-136</td>\n      <td>No Risk</td>\n      <td>[0.6266604409015444, 0.37333955909845556]</td>\n    </tr>\n    <tr>\n      <th>53</th>\n      <td>6ad7680ab7615f9d3a8ebe1999bf94c8-137</td>\n      <td>Risk</td>\n      <td>[0.43235521553741674, 0.5676447844625833]</td>\n    </tr>\n    <tr>\n      <th>54</th>\n      <td>6ad7680ab7615f9d3a8ebe1999bf94c8-140</td>\n      <td>No Risk</td>\n      <td>[0.7072198092583658, 0.29278019074163414]</td>\n    </tr>\n    <tr>\n      <th>55</th>\n      <td>6ad7680ab7615f9d3a8ebe1999bf94c8-141</td>\n      <td>Risk</td>\n      <td>[0.3495678213327672, 0.6504321786672327]</td>\n    </tr>\n    <tr>\n      <th>56</th>\n      <td>6ad7680ab7615f9d3a8ebe1999bf94c8-143</td>\n      <td>No Risk</td>\n      <td>[0.6162594652211689, 0.3837405347788311]</td>\n    </tr>\n    <tr>\n      <th>57</th>\n      <td>6ad7680ab7615f9d3a8ebe1999bf94c8-144</td>\n      <td>No Risk</td>\n      <td>[0.5810043104314904, 0.41899568956850963]</td>\n    </tr>\n    <tr>\n      <th>58</th>\n      <td>6ad7680ab7615f9d3a8ebe1999bf94c8-147</td>\n      <td>No Risk</td>\n      <td>[0.7528765618177409, 0.24712343818225904]</td>\n    </tr>\n    <tr>\n      <th>59</th>\n      <td>6ad7680ab7615f9d3a8ebe1999bf94c8-152</td>\n      <td>No Risk</td>\n      <td>[0.7682572237775416, 0.2317427762224585]</td>\n    </tr>\n  </tbody>\n</table>\n</div>", 
                        "text/plain": "                              scoring_id predictedLabel  \\\n0   6ad7680ab7615f9d3a8ebe1999bf94c8-126        No Risk   \n1   6ad7680ab7615f9d3a8ebe1999bf94c8-151        No Risk   \n2   6ad7680ab7615f9d3a8ebe1999bf94c8-111           Risk   \n3   6ad7680ab7615f9d3a8ebe1999bf94c8-125           Risk   \n4    6ad7680ab7615f9d3a8ebe1999bf94c8-14        No Risk   \n5   6ad7680ab7615f9d3a8ebe1999bf94c8-150        No Risk   \n6   6ad7680ab7615f9d3a8ebe1999bf94c8-104        No Risk   \n7   6ad7680ab7615f9d3a8ebe1999bf94c8-110           Risk   \n8   6ad7680ab7615f9d3a8ebe1999bf94c8-118        No Risk   \n9   6ad7680ab7615f9d3a8ebe1999bf94c8-124        No Risk   \n10  6ad7680ab7615f9d3a8ebe1999bf94c8-132        No Risk   \n11  6ad7680ab7615f9d3a8ebe1999bf94c8-139        No Risk   \n12  6ad7680ab7615f9d3a8ebe1999bf94c8-146        No Risk   \n13   6ad7680ab7615f9d3a8ebe1999bf94c8-15           Risk   \n14  6ad7680ab7615f9d3a8ebe1999bf94c8-100        No Risk   \n15  6ad7680ab7615f9d3a8ebe1999bf94c8-103        No Risk   \n16  6ad7680ab7615f9d3a8ebe1999bf94c8-107        No Risk   \n17   6ad7680ab7615f9d3a8ebe1999bf94c8-11        No Risk   \n18  6ad7680ab7615f9d3a8ebe1999bf94c8-114        No Risk   \n19  6ad7680ab7615f9d3a8ebe1999bf94c8-117           Risk   \n20  6ad7680ab7615f9d3a8ebe1999bf94c8-120           Risk   \n21  6ad7680ab7615f9d3a8ebe1999bf94c8-123           Risk   \n22  6ad7680ab7615f9d3a8ebe1999bf94c8-129        No Risk   \n23  6ad7680ab7615f9d3a8ebe1999bf94c8-131        No Risk   \n24  6ad7680ab7615f9d3a8ebe1999bf94c8-135        No Risk   \n25  6ad7680ab7615f9d3a8ebe1999bf94c8-138        No Risk   \n26  6ad7680ab7615f9d3a8ebe1999bf94c8-142        No Risk   \n27  6ad7680ab7615f9d3a8ebe1999bf94c8-145        No Risk   \n28  6ad7680ab7615f9d3a8ebe1999bf94c8-148        No Risk   \n29  6ad7680ab7615f9d3a8ebe1999bf94c8-149           Risk   \n30    6ad7680ab7615f9d3a8ebe1999bf94c8-1        No Risk   \n31   6ad7680ab7615f9d3a8ebe1999bf94c8-10        No Risk   \n32  6ad7680ab7615f9d3a8ebe1999bf94c8-101           Risk   \n33  6ad7680ab7615f9d3a8ebe1999bf94c8-102           Risk   \n34  6ad7680ab7615f9d3a8ebe1999bf94c8-105           Risk   \n35  6ad7680ab7615f9d3a8ebe1999bf94c8-106           Risk   \n36  6ad7680ab7615f9d3a8ebe1999bf94c8-108        No Risk   \n37  6ad7680ab7615f9d3a8ebe1999bf94c8-109        No Risk   \n38  6ad7680ab7615f9d3a8ebe1999bf94c8-112           Risk   \n39  6ad7680ab7615f9d3a8ebe1999bf94c8-113           Risk   \n40  6ad7680ab7615f9d3a8ebe1999bf94c8-115        No Risk   \n41  6ad7680ab7615f9d3a8ebe1999bf94c8-116        No Risk   \n42  6ad7680ab7615f9d3a8ebe1999bf94c8-119        No Risk   \n43   6ad7680ab7615f9d3a8ebe1999bf94c8-12        No Risk   \n44  6ad7680ab7615f9d3a8ebe1999bf94c8-121        No Risk   \n45  6ad7680ab7615f9d3a8ebe1999bf94c8-122        No Risk   \n46  6ad7680ab7615f9d3a8ebe1999bf94c8-127        No Risk   \n47  6ad7680ab7615f9d3a8ebe1999bf94c8-128        No Risk   \n48   6ad7680ab7615f9d3a8ebe1999bf94c8-13        No Risk   \n49  6ad7680ab7615f9d3a8ebe1999bf94c8-130        No Risk   \n50  6ad7680ab7615f9d3a8ebe1999bf94c8-133        No Risk   \n51  6ad7680ab7615f9d3a8ebe1999bf94c8-134        No Risk   \n52  6ad7680ab7615f9d3a8ebe1999bf94c8-136        No Risk   \n53  6ad7680ab7615f9d3a8ebe1999bf94c8-137           Risk   \n54  6ad7680ab7615f9d3a8ebe1999bf94c8-140        No Risk   \n55  6ad7680ab7615f9d3a8ebe1999bf94c8-141           Risk   \n56  6ad7680ab7615f9d3a8ebe1999bf94c8-143        No Risk   \n57  6ad7680ab7615f9d3a8ebe1999bf94c8-144        No Risk   \n58  6ad7680ab7615f9d3a8ebe1999bf94c8-147        No Risk   \n59  6ad7680ab7615f9d3a8ebe1999bf94c8-152        No Risk   \n\n                                   probability  \n0     [0.877314120672964, 0.12268587932703597]  \n1    [0.9072375670631789, 0.09276243293682107]  \n2     [0.4579236438987758, 0.5420763561012242]  \n3    [0.44636700256841133, 0.5536329974315887]  \n4    [0.6412726483588179, 0.35872735164118214]  \n5    [0.6740295360248705, 0.32597046397512963]  \n6    [0.9741930671578395, 0.02580693284216045]  \n7     [0.3163883796514491, 0.6836116203485509]  \n8         [0.75702996187618, 0.24297003812382]  \n9    [0.8913714148100779, 0.10862858518992217]  \n10   [0.7921030843460161, 0.20789691565398385]  \n11   [0.6549933097189481, 0.34500669028105185]  \n12    [0.8652466272451342, 0.1347533727548659]  \n13    [0.3999134882011302, 0.6000865117988698]  \n14    [0.953738366078511, 0.04626163392148892]  \n15   [0.8222568786111639, 0.17774312138883613]  \n16   [0.7740025708481295, 0.22599742915187057]  \n17   [0.6265072098759512, 0.37349279012404885]  \n18   [0.7370047798177629, 0.26299522018223714]  \n19   [0.48500337434860646, 0.5149966256513936]  \n20   [0.39544928488598574, 0.6045507151140143]  \n21   [0.34581929668962563, 0.6541807033103744]  \n22    [0.7371316964148855, 0.2628683035851144]  \n23   [0.9518737113773245, 0.04812628862267552]  \n24   [0.7701556273930942, 0.22984437260690588]  \n25   [0.7626656583188961, 0.23733434168110387]  \n26    [0.948802183447139, 0.05119781655286112]  \n27    [0.6727270542896596, 0.3272729457103404]  \n28    [0.7199679760646773, 0.2800320239353227]  \n29    [0.3454633471739502, 0.6545366528260499]  \n30   [0.8737694410979369, 0.12623055890206303]  \n31   [0.9253553811741837, 0.07464461882581633]  \n32   [0.42239733252670086, 0.5776026674732992]  \n33    [0.1577027244611825, 0.8422972755388175]  \n34   [0.11908438488782122, 0.8809156151121786]  \n35    [0.1414998367259522, 0.8585001632740479]  \n36    [0.8403972042098402, 0.1596027957901598]  \n37  [0.9616401650017078, 0.038359834998292104]  \n38   [0.25800654098634446, 0.7419934590136557]  \n39    [0.12623886620814795, 0.873761133791852]  \n40    [0.7369003245305993, 0.2630996754694007]  \n41   [0.9318767836217975, 0.06812321637820248]  \n42   [0.9093617927886326, 0.09063820721136731]  \n43   [0.9409760296546901, 0.05902397034530986]  \n44   [0.6436863470963401, 0.35631365290365996]  \n45    [0.8530082822934281, 0.1469917177065719]  \n46   [0.7675598190325377, 0.23244018096746225]  \n47    [0.5867606029199798, 0.4132393970800202]  \n48    [0.6263647798434412, 0.3736352201565589]  \n49   [0.9741930671578395, 0.02580693284216045]  \n50    [0.7852370237323966, 0.2147629762676034]  \n51   [0.9361540183235115, 0.06384598167648843]  \n52   [0.6266604409015444, 0.37333955909845556]  \n53   [0.43235521553741674, 0.5676447844625833]  \n54   [0.7072198092583658, 0.29278019074163414]  \n55    [0.3495678213327672, 0.6504321786672327]  \n56    [0.6162594652211689, 0.3837405347788311]  \n57   [0.5810043104314904, 0.41899568956850963]  \n58   [0.7528765618177409, 0.24712343818225904]  \n59    [0.7682572237775416, 0.2317427762224585]  "
                    }, 
                    "execution_count": 90, 
                    "metadata": {}
                }
            ], 
            "execution_count": 90
        }, 
        {
            "source": "## Congratulations!\n\nYou have finished the hands-on lab for IBM Watson OpenScale. You can now view the [OpenScale Dashboard](https://aiopenscale.cloud.ibm.com/). Click on the tile for the German Credit model to see fairness, accuracy, and performance monitors. Click on the timeseries graph to get detailed information on transactions during a specific time window.\n\n## Next steps\n\nOpenScale shows model performance over time. You have two options to keep data flowing to your OpenScale graphs:\n  * Download, configure and schedule the [model feed notebook](https://raw.githubusercontent.com/emartensibm/german-credit/master/german_credit_scoring_feed.ipynb). This notebook can be set up with your WML credentials, and scheduled to provide a consistent flow of scoring requests to your model, which will appear in your OpenScale monitors.\n  * Re-run this notebook. Running this notebook from the beginning will delete and re-create the model and deployment, and re-create the historical data. Please note that the payload and measurement logs for the previous deployment will continue to be stored in your datamart, and can be deleted if necessary.", 
            "cell_type": "markdown", 
            "metadata": {}
        }, 
        {
            "source": "## Authors\n\nEric Martens, is a technical specialist having expertise in analysis and description of business processes, and their translation into functional and non-functional IT requirements. He acts as the interpreter between the worlds of IT and business.\n\nLukasz Cmielowski, PhD, is an Automation Architect and Data Scientist at IBM with a track record of developing enterprise-level applications that substantially increases clients' ability to turn data into actionable knowledge.", 
            "cell_type": "markdown", 
            "metadata": {}
        }
    ], 
    "metadata": {
        "kernelspec": {
            "display_name": "Python 3.5 with Spark", 
            "name": "python3", 
            "language": "python3"
        }, 
        "language_info": {
            "mimetype": "text/x-python", 
            "nbconvert_exporter": "python", 
            "version": "3.5.4", 
            "name": "python", 
            "pygments_lexer": "ipython3", 
            "file_extension": ".py", 
            "codemirror_mode": {
                "version": 3, 
                "name": "ipython"
            }
        }
    }, 
    "nbformat": 4
}
{
    "nbformat_minor": 1, 
    "cells": [
        {
            "source": "<table style=\"border: none\" align=\"left\">\n   <tr style=\"border: none\">\n      <th style=\"border: none\"><font face=\"verdana\" size=\"4\" color=\"black\"><b>\u041e\u0431\u0443\u0447\u0435\u043d\u0438\u0435 \u043c\u043e\u0434\u0435\u043b\u0438 Keras \u043f\u043e \u0440\u0430\u0441\u043f\u043e\u0437\u043d\u0430\u0432\u0430\u043d\u0438\u044e \u0440\u0443\u043a\u043e\u043f\u0438\u0441\u043d\u044b\u0445 \u0446\u0438\u0444\u0440</b></font></th>\n      <th style=\"border: none\"><img src=\"https://github.com/pmservice/customer-satisfaction-prediction/blob/master/app/static/images/ml_icon_gray.png?raw=true\" alt=\"Watson Machine Learning icon\" height=\"40\" width=\"40\"></th>\n   </tr> \n   <tr style=\"border: none\">\n       <td style=\"border: none\"><img src=\"https://github.com/pmservice/wml-sample-models/raw/master/scikit-learn/hand-written-digits-recognition/images/numbers_banner-04.png\" width=\"600\" alt=\"Icon\"></td>\n   </tr>\n</table>", 
            "cell_type": "markdown", 
            "metadata": {}
        }, 
        {
            "source": "\u042d\u0442\u043e\u0442 notebook \u0434\u0435\u043c\u043e\u043d\u0441\u0442\u0440\u0438\u0440\u0443\u0435\u0442 \u0432\u043e\u0437\u043c\u043e\u0436\u043d\u043e\u0441\u0442\u0438 \u043f\u043e \u043e\u0431\u0443\u0447\u0435\u043d\u0438\u044e, \u0440\u0430\u0437\u0432\u0435\u0440\u0442\u044b\u0432\u0430\u043d\u0438\u044e \u0438 \u043e\u0446\u0435\u043d\u043a\u0435 \u043c\u043e\u0434\u0435\u043b\u0438 \u0433\u043b\u0443\u0431\u043e\u043a\u043e\u0433\u043e \u043e\u0431\u0443\u0447\u0435\u043d\u0438\u044f \u0441 \u0438\u0441\u043f\u043e\u043b\u044c\u0437\u043e\u0432\u0430\u043d\u0438\u0435\u043c \u0441\u0435\u0440\u0432\u0438\u0441\u0430 Watson Machine Learning.\n\n\u0416\u0435\u043b\u0430\u0442\u0435\u043b\u044c\u043d\u043e \u0437\u043d\u0430\u043d\u0438\u0435 \u044f\u0437\u044b\u043a\u0430 Python. \u042d\u0442\u043e\u0442 notebook \u0441\u043e\u0432\u043c\u0435\u0441\u0442\u0438\u043c \u0441 Python \u0432\u0435\u0440\u0441\u0438\u0438 3.5 \u0438 \u0438\u0441\u043f\u043e\u043b\u044c\u0437\u0443\u0435\u0442 <a href=\"https://dataplatform.cloud.ibm.com/docs/content/analyze-data/environments-parent.html\" target=\"_blank\" rel=\"noopener no referrer\">\u0441\u0435\u0440\u0432\u0438\u0441 Watson Studio.</a>\n\n\n## \u0426\u0435\u043b\u0438 \u043e\u0431\u0443\u0447\u0435\u043d\u0438\u044f\n\nIn this notebook, you will learn how to:\n\n- Set up Watson Machine Learning service that can be used to deploy/score online a Deep Learning (Keras) model.\n- Build a Deep Learning (Keras) model and train it.\n- Save the trained model - `.tgz` file - in the Watson Machine Learning repository.\n- Deploy the trained model online and score it.\n\n\n## \u0421\u043e\u0434\u0435\u0440\u0436\u0430\u043d\u0438\u0435\n\n1.\t[\u041f\u0435\u0440\u0432\u043e\u043d\u0430\u0447\u0430\u043b\u044c\u043d\u0430\u044f \u043d\u0430\u0441\u0442\u0440\u043e\u0439\u043a\u0430](#setup)\n2.\t[\u041e\u0431\u0437\u043e\u0440 \u0434\u0430\u043d\u043d\u044b\u0445](#data)\n3.  [\u041e\u0431\u0443\u0447\u0435\u043d\u0438\u0435 \u0438 \u043e\u0446\u0435\u043d\u043a\u0430 \u043c\u043e\u0434\u0435\u043b\u0438](#train)\n4.\t[\u0421\u043e\u0445\u0440\u0430\u043d\u0438\u0442\u044c \u043c\u043e\u0434\u0435\u043b\u044c \u043b\u043e\u043a\u0430\u043b\u044c\u043d\u043e](#save)\n5.\t[\u0421\u043e\u0437\u0434\u0430\u043d\u0438\u0435 online \u0441\u0435\u0440\u0432\u0438\u0441\u0430](#deploy)\n6.\t[\u041e\u0446\u0435\u043d\u043a\u0430 \u0434\u0430\u043d\u043d\u044b\u0445](#score)\n7.\t[\u0412\u044b\u0432\u043e\u0434\u044b \u0438 \u0441\u043b\u0435\u0434\u0443\u044e\u0449\u0438\u0435 \u0448\u0430\u0433\u0438](#summary)", 
            "cell_type": "markdown", 
            "metadata": {}
        }, 
        {
            "source": "<a id=\"setup\"></a>\n## 1. \u041f\u0435\u0440\u0432\u043e\u043d\u0430\u0447\u0430\u043b\u044c\u043d\u0430\u044f \u043d\u0430\u0441\u0442\u0440\u043e\u0439\u043a\u0430\n\nBefore running the code in this notebook, make sure you meet the following prerequisites:\n\n-  A <a href=\"https://console.ng.bluemix.net/catalog/services/ibm-watson-machine-learning/\" target=\"_blank\" rel=\"noopener no referrer\">Watson Machine Learning (WML) Service</a> instance is installed (a free plan is offered and information about how to create the instance can be found <a href=\"https://dataplatform.ibm.com/docs/content/analyze-data/wml-setup.html\" target=\"_blank\" rel=\"noopener no referrer\">here</a>.\n\n-  Local python environment configurations:\n  + Python 3.5\n  + keras 2.x\n  + watson-machine-learning-client (run code below to install it)\n  + matplotlib", 
            "cell_type": "markdown", 
            "metadata": {}
        }, 
        {
            "source": "**Note:** `watson-machine-learning-client` documentation can be found <a href=\"http://wml-api-pyclient.mybluemix.net/\" target=\"_blank\" rel=\"noopener no referrer\">here</a>.  \n**Tip:** Run the cell below to install `watson-machine-learning-client` package from <a href=\"https://pypi.python.org/pypi\" target=\"_blank\" rel=\"noopener no referrer\">PyPI</a>.", 
            "cell_type": "markdown", 
            "metadata": {}
        }, 
        {
            "source": "!rm -rf $PIP_BUILD/watson-machine-learning-client", 
            "cell_type": "code", 
            "metadata": {}, 
            "outputs": [], 
            "execution_count": 1
        }, 
        {
            "source": "!pip install --upgrade watson-machine-learning-client", 
            "cell_type": "code", 
            "metadata": {
                "scrolled": false
            }, 
            "outputs": [
                {
                    "output_type": "stream", 
                    "name": "stdout", 
                    "text": "Requirement already up-to-date: watson-machine-learning-client in /opt/conda/envs/DSX-Python35/lib/python3.5/site-packages\nRequirement not upgraded as not directly required: pandas in /opt/conda/envs/DSX-Python35/lib/python3.5/site-packages (from watson-machine-learning-client)\nRequirement not upgraded as not directly required: certifi in /opt/conda/envs/DSX-Python35/lib/python3.5/site-packages (from watson-machine-learning-client)\nRequirement not upgraded as not directly required: lomond in /opt/conda/envs/DSX-Python35/lib/python3.5/site-packages (from watson-machine-learning-client)\nRequirement not upgraded as not directly required: tqdm in /opt/conda/envs/DSX-Python35/lib/python3.5/site-packages (from watson-machine-learning-client)\nRequirement not upgraded as not directly required: tabulate in /opt/conda/envs/DSX-Python35/lib/python3.5/site-packages (from watson-machine-learning-client)\nRequirement not upgraded as not directly required: urllib3 in /opt/conda/envs/DSX-Python35/lib/python3.5/site-packages (from watson-machine-learning-client)\nRequirement not upgraded as not directly required: requests in /opt/conda/envs/DSX-Python35/lib/python3.5/site-packages (from watson-machine-learning-client)\nRequirement not upgraded as not directly required: ibm-cos-sdk in /opt/conda/envs/DSX-Python35/lib/python3.5/site-packages (from watson-machine-learning-client)\nRequirement not upgraded as not directly required: python-dateutil>=2 in /opt/conda/envs/DSX-Python35/lib/python3.5/site-packages (from pandas->watson-machine-learning-client)\nRequirement not upgraded as not directly required: pytz>=2011k in /opt/conda/envs/DSX-Python35/lib/python3.5/site-packages (from pandas->watson-machine-learning-client)\nRequirement not upgraded as not directly required: numpy>=1.9.0 in /opt/conda/envs/DSX-Python35/lib/python3.5/site-packages (from pandas->watson-machine-learning-client)\nRequirement not upgraded as not directly required: six>=1.10.0 in /opt/conda/envs/DSX-Python35/lib/python3.5/site-packages (from lomond->watson-machine-learning-client)\nRequirement not upgraded as not directly required: chardet<3.1.0,>=3.0.2 in /opt/conda/envs/DSX-Python35/lib/python3.5/site-packages (from requests->watson-machine-learning-client)\nRequirement not upgraded as not directly required: idna<2.7,>=2.5 in /opt/conda/envs/DSX-Python35/lib/python3.5/site-packages (from requests->watson-machine-learning-client)\nRequirement not upgraded as not directly required: ibm-cos-sdk-s3transfer==2.*,>=2.0.0 in /opt/conda/envs/DSX-Python35/lib/python3.5/site-packages (from ibm-cos-sdk->watson-machine-learning-client)\nRequirement not upgraded as not directly required: ibm-cos-sdk-core==2.*,>=2.0.0 in /opt/conda/envs/DSX-Python35/lib/python3.5/site-packages (from ibm-cos-sdk->watson-machine-learning-client)\nRequirement not upgraded as not directly required: docutils>=0.10 in /opt/conda/envs/DSX-Python35/lib/python3.5/site-packages (from ibm-cos-sdk-core==2.*,>=2.0.0->ibm-cos-sdk->watson-machine-learning-client)\nRequirement not upgraded as not directly required: jmespath<1.0.0,>=0.7.1 in /opt/conda/envs/DSX-Python35/lib/python3.5/site-packages (from ibm-cos-sdk-core==2.*,>=2.0.0->ibm-cos-sdk->watson-machine-learning-client)\n"
                }
            ], 
            "execution_count": 2
        }, 
        {
            "source": "**Authenticate the Watson Machine Learning service on the IBM Cloud.**\n\n**Tip**: Authentication information (your credentials) can be found in the <a href=\"https://console.bluemix.net/docs/services/service_credentials.html#service_credentials\" target=\"_blank\" rel=\"noopener no referrer\">Service credentials</a> tab of the service instance that you created on the IBM Cloud. <BR>If you cannot find the **instance_id** field in **Service Credentials**, click **New credential (+)** to generate new authentication information. \n\n**Action**: Enter your WML service instance credentials in the following cell.", 
            "cell_type": "markdown", 
            "metadata": {}
        }, 
        {
            "source": "wml_credentials = {\n}", 
            "cell_type": "code", 
            "metadata": {}, 
            "outputs": [], 
            "execution_count": 3
        }, 
        {
            "source": "#### Import `watson-machine-learning-client` and authenticate the service instance.", 
            "cell_type": "markdown", 
            "metadata": {}
        }, 
        {
            "source": "from watson_machine_learning_client import WatsonMachineLearningAPIClient", 
            "cell_type": "code", 
            "metadata": {}, 
            "outputs": [
                {
                    "output_type": "stream", 
                    "name": "stderr", 
                    "text": "/opt/conda/envs/DSX-Python35/lib/python3.5/site-packages/sklearn/cross_validation.py:41: DeprecationWarning: This module was deprecated in version 0.18 in favor of the model_selection module into which all the refactored classes and functions are moved. Also note that the interface of the new CV iterators are different from that of this module. This module will be removed in 0.20.\n  \"This module will be removed in 0.20.\", DeprecationWarning)\n"
                }
            ], 
            "execution_count": 4
        }, 
        {
            "source": "client = WatsonMachineLearningAPIClient(wml_credentials)", 
            "cell_type": "code", 
            "metadata": {}, 
            "outputs": [], 
            "execution_count": 5
        }, 
        {
            "source": "## 2. \u041e\u0431\u0437\u043e\u0440 \u0434\u0430\u043d\u043d\u044b\u0445 <a id=\"data\"></a>", 
            "cell_type": "markdown", 
            "metadata": {}
        }, 
        {
            "source": "In this section, you will check what the input data looks like.\nYou need `keras.datasets.mnist` and `matplotlib.pyplot` modules to see what each digit looks like.", 
            "cell_type": "markdown", 
            "metadata": {}
        }, 
        {
            "source": "Import the MNIST data set from the `keras.datasets.mnist` module and split the data set into training and test data sets.", 
            "cell_type": "markdown", 
            "metadata": {}
        }, 
        {
            "source": "from keras.datasets import mnist\n\n(X_train, y_train), (X_test, y_test) = mnist.load_data()", 
            "cell_type": "code", 
            "metadata": {}, 
            "outputs": [], 
            "execution_count": 6
        }, 
        {
            "source": "Import `matlplotlib.pyplot`.", 
            "cell_type": "markdown", 
            "metadata": {}
        }, 
        {
            "source": "import matplotlib.pyplot as plt", 
            "cell_type": "code", 
            "metadata": {}, 
            "outputs": [], 
            "execution_count": 7
        }, 
        {
            "source": "'''\nParameters of \"display_digits\" function:\n\nplt     - matplotlib's pyplot module.\nimages  - The array of images. Ex) X_train, X_test in our example\nlabels  - Labels of mapping images. \nstart   - Start index of \"images\" array.\nend     - End index of \"images\" array.\nnum_row - Number of rows.\ntitle   - Title of every image that will be displayed. Ex) Training or Test\n'''\ndef display_digits(plt, images, labels, start, end, num_row, title):\n    images_and_labels = list(zip(images, labels))\n    num_col = int(end/num_row) if (end % 2 == 0) else int(end/num_row) + 1\n\n    for index, (image, label) in enumerate(images_and_labels[start:end]):\n        plt.subplot(num_row, num_col, index + 1)\n        plt.axis('off')\n        plt.imshow(image, cmap=plt.cm.gray_r, interpolation='nearest')\n        plt.title(title + ': %i' % label)", 
            "cell_type": "code", 
            "metadata": {}, 
            "outputs": [], 
            "execution_count": 8
        }, 
        {
            "source": "display_digits(plt, X_train, y_train, 0, 6, 2, 'Train')", 
            "cell_type": "code", 
            "metadata": {
                "scrolled": true
            }, 
            "outputs": [
                {
                    "output_type": "display_data", 
                    "data": {
                        "image/png": "[encoded data removed]", 
                        "text/plain": "<matplotlib.figure.Figure at 0x7fcfc69cba20>"
                    }, 
                    "metadata": {}
                }
            ], 
            "execution_count": 9
        }, 
        {
            "source": "Training and test data sets shape and correponding label arrays.", 
            "cell_type": "markdown", 
            "metadata": {}
        }, 
        {
            "source": "print('X_train shape:', X_train.shape)\nprint('y_train shape:', y_train.shape)\nprint('X_test shape:', X_test.shape)\nprint('y_test shape:', y_test.shape)", 
            "cell_type": "code", 
            "metadata": {}, 
            "outputs": [
                {
                    "output_type": "stream", 
                    "name": "stdout", 
                    "text": "X_train shape: (60000, 28, 28)\ny_train shape: (60000,)\nX_test shape: (10000, 28, 28)\ny_test shape: (10000,)\n"
                }
            ], 
            "execution_count": 10
        }, 
        {
            "source": "Save copies of `X_test` and `y_test` for scoring in section [6. Score](#score) before reshaping them in section [3.1 Train the model](#train_sub).", 
            "cell_type": "markdown", 
            "metadata": {}
        }, 
        {
            "source": "X_test_score = X_test.copy()\ny_test_score = y_test.copy()", 
            "cell_type": "code", 
            "metadata": {}, 
            "outputs": [], 
            "execution_count": 11
        }, 
        {
            "source": "## 3. \u041e\u0431\u0443\u0447\u0435\u043d\u0438\u0435 \u0438 \u043e\u0446\u0435\u043d\u043a\u0430 \u043c\u043e\u0434\u0435\u043b\u0438 <a id=\"train\"></a>", 
            "cell_type": "markdown", 
            "metadata": {}
        }, 
        {
            "source": "In this section, you will build a Deep Learning (Keras) model, train it, and evaluate it.\n\nImport the required package and modules.", 
            "cell_type": "markdown", 
            "metadata": {}
        }, 
        {
            "source": "import keras\nfrom keras.models import Sequential\nfrom keras.layers import Dense, Dropout, Flatten\nfrom keras.layers import Conv2D, MaxPooling2D\nfrom keras import backend as K", 
            "cell_type": "code", 
            "metadata": {}, 
            "outputs": [], 
            "execution_count": 12
        }, 
        {
            "source": "### 3.1 Train the model <a id=\"train_sub\"></a>", 
            "cell_type": "markdown", 
            "metadata": {}
        }, 
        {
            "source": "Set the parameters that are required for the Deep Learning (Keras) model.", 
            "cell_type": "markdown", 
            "metadata": {}
        }, 
        {
            "source": "batch_size = 128\nnum_classes = 10\nepochs = 6", 
            "cell_type": "code", 
            "metadata": {}, 
            "outputs": [], 
            "execution_count": 13
        }, 
        {
            "source": "As you have seen in section [2. \u041e\u0431\u0437\u043e\u0440 \u0434\u0430\u043d\u043d\u044b\u0445](#data), the image size is 28x28 pixels.", 
            "cell_type": "markdown", 
            "metadata": {}
        }, 
        {
            "source": "img_rows, img_cols = 28, 28", 
            "cell_type": "code", 
            "metadata": {}, 
            "outputs": [], 
            "execution_count": 14
        }, 
        {
            "source": "if K.image_data_format() == 'channels_first':\n    X_train = X_train.reshape(X_train.shape[0], 1, img_rows, img_cols)\n    X_test = X_test.reshape(X_test.shape[0], 1, img_rows, img_cols)\n    input_shape = (1, img_rows, img_cols)\nelse:\n    X_train = X_train.reshape(X_train.shape[0], img_rows, img_cols, 1)\n    X_test = X_test.reshape(X_test.shape[0], img_rows, img_cols, 1)\n    input_shape = (img_rows, img_cols, 1)", 
            "cell_type": "code", 
            "metadata": {}, 
            "outputs": [], 
            "execution_count": 15
        }, 
        {
            "source": "Scale the digits to be in the range of [0-1] instead of [0-255].", 
            "cell_type": "markdown", 
            "metadata": {}
        }, 
        {
            "source": "X_train = X_train.astype('float32')\nX_test = X_test.astype('float32')\nX_train /= 255\nX_test /= 255", 
            "cell_type": "code", 
            "metadata": {}, 
            "outputs": [], 
            "execution_count": 16
        }, 
        {
            "source": "Convert the label arrays of training/test digit images into one hot format matrix.\n\nEx)  \n0 => [1, 0, 0, 0, 0, 0, 0, 0, 0, 0]  \n1 => [0, 1, 0, 0, 0, 0, 0, 0, 0, 0]  \n2 => [0, 0, 1, 0, 0, 0, 0, 0, 0, 0]  \n.  \n.  \n.  ", 
            "cell_type": "markdown", 
            "metadata": {}
        }, 
        {
            "source": "y_train = keras.utils.to_categorical(y_train, num_classes)\ny_test = keras.utils.to_categorical(y_test, num_classes)", 
            "cell_type": "code", 
            "metadata": {}, 
            "outputs": [], 
            "execution_count": 17
        }, 
        {
            "source": "- Conv2D layer\n    - The first 2D convolution layer has 32 output filters and the second 2D convolution layer has 64 output filters.\n    - `kernel_size` specifies the height and width of the 2D convolution window.\n    - `activation` is a non-linear function that applies to the output of the layer. `relu` (rectified linear unit) clamps all values below 0 to 0.\n- MaxPooling layer\n    - Max pooling basically moves a `m`x`n` window across a 2D input space where `m` and `n` are both 2 in this example. The max value within the window is the output.\n- Dropout layer\n    - Helps the model to avoid overfitting.\n- Dense layer\n    - A regular densely-connected Neural Network layer.\n- Flatten layer\n    - Flattens the input and doesn't affect the batch size.\n- Adadelta \n    - Adapts learning rates based on a moving window of gradient updates instead of accumulating all past gradients. This way, Adadelta continues learning even when many updates occur.", 
            "cell_type": "markdown", 
            "metadata": {}
        }, 
        {
            "source": "model = Sequential()\nmodel.add(Conv2D(32, \n                 kernel_size=(3, 3),\n                 activation='relu',\n                 input_shape=input_shape))\nmodel.add(Conv2D(64, (3, 3), activation='relu'))\nmodel.add(MaxPooling2D(pool_size=(2, 2)))\nmodel.add(Dropout(0.25))\nmodel.add(Flatten())\nmodel.add(Dense(128, activation='relu'))\nmodel.add(Dropout(0.5))\nmodel.add(Dense(num_classes, activation='softmax'))\n\nmodel.compile(loss=keras.losses.categorical_crossentropy,\n              optimizer=keras.optimizers.Adadelta(),\n              metrics=['accuracy'])", 
            "cell_type": "code", 
            "metadata": {}, 
            "outputs": [], 
            "execution_count": 18
        }, 
        {
            "source": "Train the model with the parameters you set before.", 
            "cell_type": "markdown", 
            "metadata": {}
        }, 
        {
            "source": "history = model.fit(X_train,\n          y_train,\n          batch_size=batch_size,\n          epochs=epochs,\n          verbose=1,\n          validation_data=(X_test, y_test))", 
            "cell_type": "code", 
            "metadata": {}, 
            "outputs": [
                {
                    "output_type": "stream", 
                    "name": "stdout", 
                    "text": "Train on 60000 samples, validate on 10000 samples\nEpoch 1/6\n60000/60000 [==============================] - 438s 7ms/step - loss: 0.2708 - acc: 0.9164 - val_loss: 0.0645 - val_acc: 0.9794\nEpoch 2/6\n60000/60000 [==============================] - 434s 7ms/step - loss: 0.0894 - acc: 0.9739 - val_loss: 0.0413 - val_acc: 0.9864\nEpoch 3/6\n60000/60000 [==============================] - 440s 7ms/step - loss: 0.0663 - acc: 0.9805 - val_loss: 0.0329 - val_acc: 0.9888\nEpoch 4/6\n60000/60000 [==============================] - 438s 7ms/step - loss: 0.0549 - acc: 0.9836 - val_loss: 0.0338 - val_acc: 0.9884\nEpoch 5/6\n60000/60000 [==============================] - 432s 7ms/step - loss: 0.0469 - acc: 0.9859 - val_loss: 0.0275 - val_acc: 0.9911\nEpoch 6/6\n60000/60000 [==============================] - 437s 7ms/step - loss: 0.0411 - acc: 0.9875 - val_loss: 0.0274 - val_acc: 0.9915\n"
                }
            ], 
            "execution_count": 19
        }, 
        {
            "source": "Let's plot the model accuracy on the train and validation (test) data sets. You will plot the graphs in `R`'s `ggplot` style.", 
            "cell_type": "markdown", 
            "metadata": {}
        }, 
        {
            "source": "plt.style.use('ggplot')", 
            "cell_type": "code", 
            "metadata": {}, 
            "outputs": [], 
            "execution_count": 20
        }, 
        {
            "source": "plt.plot(history.history['acc'])\nplt.plot(history.history['val_acc'])\nplt.title('Model Accuracy')\nplt.ylabel('Accuracy')\nplt.xlabel('Epoch')\nplt.legend(['train', 'test'], loc='lower right')", 
            "cell_type": "code", 
            "metadata": {}, 
            "outputs": [
                {
                    "output_type": "execute_result", 
                    "data": {
                        "text/plain": "<matplotlib.legend.Legend at 0x7fcfc3675a90>"
                    }, 
                    "execution_count": 21, 
                    "metadata": {}
                }, 
                {
                    "output_type": "display_data", 
                    "data": {
                        "image/png": "[encoded data removed]", 
                        "text/plain": "<matplotlib.figure.Figure at 0x7fcfc35d3c50>"
                    }, 
                    "metadata": {}
                }
            ], 
            "execution_count": 21
        }, 
        {
            "source": "Let's plot the model loss on the train and validation (test) data sets.", 
            "cell_type": "markdown", 
            "metadata": {}
        }, 
        {
            "source": "plt.plot(history.history['loss'])\nplt.plot(history.history['val_loss'])\nplt.title('Model Loss')\nplt.ylabel('Loss')\nplt.xlabel('Epoch')\nplt.legend(['train loss', 'test loss'], loc='upper right')", 
            "cell_type": "code", 
            "metadata": {}, 
            "outputs": [
                {
                    "output_type": "execute_result", 
                    "data": {
                        "text/plain": "<matplotlib.legend.Legend at 0x7fcfc35b05c0>"
                    }, 
                    "execution_count": 22, 
                    "metadata": {}
                }, 
                {
                    "output_type": "display_data", 
                    "data": {
                        "image/png": "[encoded data removed]", 
                        "text/plain": "<matplotlib.figure.Figure at 0x7fcfc35f8c50>"
                    }, 
                    "metadata": {}
                }
            ], 
            "execution_count": 22
        }, 
        {
            "source": "### 3.2 Evaluate the model", 
            "cell_type": "markdown", 
            "metadata": {}
        }, 
        {
            "source": "Let's evaluate the model.", 
            "cell_type": "markdown", 
            "metadata": {}
        }, 
        {
            "source": "score = model.evaluate(X_test, y_test, verbose=1)", 
            "cell_type": "code", 
            "metadata": {}, 
            "outputs": [
                {
                    "output_type": "stream", 
                    "name": "stdout", 
                    "text": "10000/10000 [==============================] - 18s 2ms/step\n"
                }
            ], 
            "execution_count": 23
        }, 
        {
            "source": "print('Test loss:', score[0])\nprint('Test accuracy: {:.2f}%'.format(score[1]*100))", 
            "cell_type": "code", 
            "metadata": {}, 
            "outputs": [
                {
                    "output_type": "stream", 
                    "name": "stdout", 
                    "text": "Test loss: 0.0274077006388\nTest accuracy: 99.15%\n"
                }
            ], 
            "execution_count": 24
        }, 
        {
            "source": "## 4. \u0421\u043e\u0445\u0440\u0430\u043d\u0438\u0442\u044c \u043c\u043e\u0434\u0435\u043b\u044c \u043b\u043e\u043a\u0430\u043b\u044c\u043d\u043e <a id=\"save\"></a>", 
            "cell_type": "markdown", 
            "metadata": {}
        }, 
        {
            "source": "In this section, you will learn how to save the train Deep Learning (Keras) model locally and compress it into a `.tgz` file.", 
            "cell_type": "markdown", 
            "metadata": {}
        }, 
        {
            "source": "First, save the Keras model locally.", 
            "cell_type": "markdown", 
            "metadata": {}
        }, 
        {
            "source": "from contextlib import suppress\nimport os\n\nfilename = 'keras_mnist_model.h5'\n\n# Delete a duplicate file if exists.\nwith suppress(OSError):\n    os.remove(filename)\n    \nmodel.save(filename)", 
            "cell_type": "code", 
            "metadata": {}, 
            "outputs": [], 
            "execution_count": 25
        }, 
        {
            "source": "Compress the Keras model file into a `.tgz` file. Make sure to add the `z` flag when running the `tar` command.", 
            "cell_type": "markdown", 
            "metadata": {}
        }, 
        {
            "source": "#compress keras model\ntar_filename = filename + '.tgz'\ncmdstring = 'tar -zcvf ' + tar_filename + ' ' + filename\nos.system(cmdstring)", 
            "cell_type": "code", 
            "metadata": {}, 
            "outputs": [
                {
                    "output_type": "execute_result", 
                    "data": {
                        "text/plain": "0"
                    }, 
                    "execution_count": 26, 
                    "metadata": {}
                }
            ], 
            "execution_count": 26
        }, 
        {
            "source": "You can see that the model file (keras_mnist_model.h5) and its compressed version (keras_mnist_model.h5.tgz) are both saved in the local file system.", 
            "cell_type": "markdown", 
            "metadata": {}
        }, 
        {
            "source": "!ls", 
            "cell_type": "code", 
            "metadata": {}, 
            "outputs": [
                {
                    "output_type": "stream", 
                    "name": "stdout", 
                    "text": "keras_mnist_model.h5  keras_mnist_model.h5.tgz\r\n"
                }
            ], 
            "execution_count": 27
        }, 
        {
            "source": "## 5. \u0421\u043e\u0437\u0434\u0430\u043d\u0438\u0435 online \u0441\u0435\u0440\u0432\u0438\u0441\u0430 <a id=\"deploy\"></a>", 
            "cell_type": "markdown", 
            "metadata": {}
        }, 
        {
            "source": "In this section, you learn how to deploy the compressed version - the `.tgz` file - of the trained model described in section [4. Save the model locally](#save) online.\n\nFirst, let's instantiate a `WatsonMachineLearningAPIClient` object with your WML credentials.", 
            "cell_type": "markdown", 
            "metadata": {}
        }, 
        {
            "source": "client = WatsonMachineLearningAPIClient(wml_credentials)", 
            "cell_type": "code", 
            "metadata": {}, 
            "outputs": [], 
            "execution_count": 28
        }, 
        {
            "source": "Define metadata for the trained model in section [3. Train and evaluate the model](#train).", 
            "cell_type": "markdown", 
            "metadata": {}
        }, 
        {
            "source": "model_props = {\n    client.repository.ModelMetaNames.NAME: 'MNIST - compressed keras model',\n    client.repository.ModelMetaNames.FRAMEWORK_NAME: 'tensorflow',\n    client.repository.ModelMetaNames.FRAMEWORK_VERSION: '1.5',\n    client.repository.ModelMetaNames.RUNTIME_NAME: 'python',\n    client.repository.ModelMetaNames.RUNTIME_VERSION: '3.5',\n    client.repository.ModelMetaNames.FRAMEWORK_LIBRARIES: [{'name':'keras', 'version': '2.1.3'}]\n}\n\npublished_model_details = client.repository.store_model(model=tar_filename, meta_props=model_props)       ", 
            "cell_type": "code", 
            "metadata": {}, 
            "outputs": [], 
            "execution_count": 29
        }, 
        {
            "source": "Get the `uid` for the trained model.", 
            "cell_type": "markdown", 
            "metadata": {}
        }, 
        {
            "source": "model_uid = client.repository.get_model_uid(published_model_details)\nprint(model_uid)", 
            "cell_type": "code", 
            "metadata": {}, 
            "outputs": [
                {
                    "output_type": "stream", 
                    "name": "stdout", 
                    "text": "e4c13c2f-54a4-4a4d-831f-c16da6c2c984\n"
                }
            ], 
            "execution_count": 30
        }, 
        {
            "source": "You can deploy the stored model as a web service (online) by running the following code.", 
            "cell_type": "markdown", 
            "metadata": {}
        }, 
        {
            "source": "deployment = client.deployments.create(model_uid, 'Keras MNIST model deployment through compressed file.')", 
            "cell_type": "code", 
            "metadata": {}, 
            "outputs": [
                {
                    "output_type": "stream", 
                    "name": "stdout", 
                    "text": "\n\n#######################################################################################\n\nSynchronous deployment creation for uid: 'e4c13c2f-54a4-4a4d-831f-c16da6c2c984' started\n\n#######################################################################################\n\n\nINITIALIZING\nDEPLOY_IN_PROGRESS\nDEPLOY_SUCCESS\n\n\n------------------------------------------------------------------------------------------------\nSuccessfully finished deployment creation, deployment_uid='6abc1274-aafb-4aa8-bb40-aeadb136e5d3'\n------------------------------------------------------------------------------------------------\n\n\n"
                }
            ], 
            "execution_count": 31
        }, 
        {
            "source": "Let's list the deployed models.", 
            "cell_type": "markdown", 
            "metadata": {}
        }, 
        {
            "source": "client.deployments.list()", 
            "cell_type": "code", 
            "metadata": {}, 
            "outputs": [
                {
                    "output_type": "stream", 
                    "name": "stdout", 
                    "text": "------------------------------------  -----------------------------------------------------  ------  --------------  ------------------------  --------------  -------------\nGUID                                  NAME                                                   TYPE    STATE           CREATED                   FRAMEWORK       ARTIFACT TYPE\n6abc1274-aafb-4aa8-bb40-aeadb136e5d3  Keras MNIST model deployment through compressed file.  online  DEPLOY_SUCCESS  2019-05-13T10:24:56.402Z  tensorflow-1.5  model\n25f12284-f3f7-4e53-8056-ca6cc30749b3  Spark German Risk Deployment - Final                   online  DEPLOY_SUCCESS  2019-05-07T17:34:20.604Z  mllib-2.3       model\n0d88457b-323e-482e-abab-f8c6d59a703d  Keras MNIST model deployment through compressed file.  online  DEPLOY_SUCCESS  2019-05-06T16:55:33.755Z  tensorflow-1.5  model\n8014a430-e10e-4962-80e8-e70e8a84d6fe  GermanCreditRiskModel                                  online  DEPLOY_SUCCESS  2019-04-25T18:55:04.883Z  mllib-2.3       model\n7a4c7ba9-7a99-4d05-b5b2-65ebd9396444  AIOS Spark German Risk Deployment - Final              online  DEPLOY_SUCCESS  2019-01-29T17:04:30.683Z  mllib-2.3       model\n------------------------------------  -----------------------------------------------------  ------  --------------  ------------------------  --------------  -------------\n"
                }
            ], 
            "execution_count": 32
        }, 
        {
            "source": "## 6. \u041e\u0446\u0435\u043d\u043a\u0430 \u0434\u0430\u043d\u043d\u044b\u0445 <a id=\"score\"></a>", 
            "cell_type": "markdown", 
            "metadata": {}
        }, 
        {
            "source": "In this section, you will learn how to score a test data record.\n\nFirst, extract the scoring endpoint from the deployment details.", 
            "cell_type": "markdown", 
            "metadata": {}
        }, 
        {
            "source": "scoring_endpoint = client.deployments.get_scoring_url(deployment)\nprint(scoring_endpoint)", 
            "cell_type": "code", 
            "metadata": {}, 
            "outputs": [
                {
                    "output_type": "stream", 
                    "name": "stdout", 
                    "text": "https://us-south.ml.cloud.ibm.com/v3/wml_instances/6b7a94a8-04af-4307-9ff1-7652d62f4b96/deployments/6abc1274-aafb-4aa8-bb40-aeadb136e5d3/online\n"
                }
            ], 
            "execution_count": 33
        }, 
        {
            "source": "The first digit of `X_test` will be used for scoring.", 
            "cell_type": "markdown", 
            "metadata": {}
        }, 
        {
            "source": "scoring_data = X_test[0].tolist()\ndisplay_digits(plt, X_test_score, y_test_score, 0, 1, 1, 'Test')", 
            "cell_type": "code", 
            "metadata": {}, 
            "outputs": [
                {
                    "output_type": "display_data", 
                    "data": {
                        "image/png": "[encoded data removed]", 
                        "text/plain": "<matplotlib.figure.Figure at 0x7fcfc3664ba8>"
                    }, 
                    "metadata": {}
                }
            ], 
            "execution_count": 50
        }, 
        {
            "source": "Map keys - 'fields' and 'values' - to their corresponding values in the `scoring payload` dictionary and score the model. However, only 'values' will be used in this example - map 'values' to `scoring_data` in the `scoring payload` dictionary .", 
            "cell_type": "markdown", 
            "metadata": {}
        }, 
        {
            "source": "scoring_payload = {'values': [scoring_data]}\nscores = client.deployments.score(scoring_endpoint, scoring_payload)", 
            "cell_type": "code", 
            "metadata": {}, 
            "outputs": [], 
            "execution_count": 51
        }, 
        {
            "source": "print(str(scores));\n#print(str(scoring_data))", 
            "cell_type": "code", 
            "metadata": {}, 
            "outputs": [
                {
                    "output_type": "stream", 
                    "name": "stdout", 
                    "text": "{'values': [[[8.300466217137092e-12, 1.7977246080658205e-10, 3.239455281800474e-08, 2.269983312430668e-08, 3.3662651659216447e-12, 4.3404130116442285e-12, 7.076038067188356e-16, 1.0, 2.71018906101983e-12, 4.077174597938438e-09], 7, [8.300466217137092e-12, 1.7977246080658205e-10, 3.239455281800474e-08, 2.269983312430668e-08, 3.3662651659216447e-12, 4.3404130116442285e-12, 7.076038067188356e-16, 1.0, 2.71018906101983e-12, 4.077174597938438e-09]]], 'fields': ['prediction', 'prediction_classes', 'probability']}\n"
                }
            ], 
            "execution_count": 52
        }, 
        {
            "source": "As you can see in the following cell, the predicted label (`prediction_classes`) in the result of the above cell) and the true label are the same - `7`.", 
            "cell_type": "markdown", 
            "metadata": {}
        }, 
        {
            "source": "## 7. \u0412\u044b\u0432\u043e\u0434\u044b \u0438 \u0441\u043b\u0435\u0434\u0443\u044e\u0449\u0438\u0435 \u0448\u0430\u0433\u0438 <a id=\"summary\"></a>", 
            "cell_type": "markdown", 
            "metadata": {}
        }, 
        {
            "source": "You successfully completed this notebook! \n \nYou learned how to train, evaluate, and score a Keras model. You also learned how to deploy the model in a `.tgz` format via `watson-machine-learning-client` package.\n \nCheck out our <a href=\"https://dataplatform.ibm.com/docs/content/analyze-data/wml-setup.html\" target=\"_blank\" rel=\"noopener noreferrer\">Online Documentation</a> for more samples, tutorials, documentation, how-tos, and blog posts.", 
            "cell_type": "markdown", 
            "metadata": {}
        }, 
        {
            "source": "### \u0410\u0432\u0442\u043e\u0440\n\n**Jihyoung Kim**, Ph.D., is a Data Scientist at IBM who strives to make data science easy for everyone through Watson Studio.", 
            "cell_type": "markdown", 
            "metadata": {}
        }, 
        {
            "source": "Copyright \u00a9 2019 IBM. This notebook and its source code are released under the terms of the MIT License.", 
            "cell_type": "markdown", 
            "metadata": {}
        }, 
        {
            "source": "<div style=\"background:#F5F7FA; height:110px; padding: 2em; font-size:14px;\">\n<span style=\"font-size:18px;color:#152935;\">Love this notebook? </span>\n<span style=\"font-size:15px;color:#152935;float:right;margin-right:40px;\">Don't have an account yet?</span><br>\n<span style=\"color:#5A6872;\">Share it with your colleagues and help them discover the power of Watson Studio!</span>\n<span style=\"border: 1px solid #3d70b2;padding:8px;float:right;margin-right:40px; color:#3d70b2;\"><a href=\"https://ibm.co/wsnotebooks\" target=\"_blank\" style=\"color: #3d70b2;text-decoration: none;\">Sign Up</a></span><br>\n</div>", 
            "cell_type": "markdown", 
            "metadata": {}
        }
    ], 
    "metadata": {
        "kernelspec": {
            "display_name": "Python 3.5", 
            "name": "python3", 
            "language": "python"
        }, 
        "language_info": {
            "mimetype": "text/x-python", 
            "nbconvert_exporter": "python", 
            "version": "3.5.5", 
            "name": "python", 
            "pygments_lexer": "ipython3", 
            "file_extension": ".py", 
            "codemirror_mode": {
                "version": 3, 
                "name": "ipython"
            }
        }
    }, 
    "nbformat": 4
}